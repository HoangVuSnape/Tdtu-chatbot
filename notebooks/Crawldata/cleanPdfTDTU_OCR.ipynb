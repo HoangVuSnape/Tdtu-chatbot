{
 "cells": [
  {
   "cell_type": "code",
   "execution_count": 1,
   "metadata": {},
   "outputs": [
    {
     "name": "stdout",
     "output_type": "stream",
     "text": [
      "Text extraction completed. Check the output file at E:\\LLM_clone\\Tdtu-chatbot\\data\\pdf_TDTU\\QuyCheDaoTao2021_text.txt.\n"
     ]
    }
   ],
   "source": [
    "from pdf2image import convert_from_path\n",
    "from pytesseract import pytesseract\n",
    "import os\n",
    "\n",
    "# Đường dẫn đến Poppler\n",
    "poppler_path = r'C:\\poppler\\poppler-24.08.0\\Library\\bin'\n",
    "\n",
    "# Đường dẫn đến Tesseract OCR\n",
    "pytesseract.tesseract_cmd = r'C:\\Program Files\\Tesseract-OCR\\tesseract.exe'\n",
    "\n",
    "# Đường dẫn tới file PDF\n",
    "pdf_path = r'E:\\LLM_clone\\Tdtu-chatbot\\data\\pdf_TDTU\\test.pdf'\n",
    "\n",
    "# Thư mục tạm để lưu ảnh\n",
    "output_dir = r'E:\\LLM_clone\\Tdtu-chatbot\\data\\pdf_TDTU\\images'\n",
    "os.makedirs(output_dir, exist_ok=True)\n",
    "\n",
    "# Chuyển từng trang PDF thành hình ảnh\n",
    "pages = convert_from_path(pdf_path, output_folder=output_dir, poppler_path=poppler_path)\n",
    "\n",
    "# Nhận diện text từ từng trang và lưu lại\n",
    "all_text = \"\"\n",
    "for i, page in enumerate(pages):\n",
    "    text = pytesseract.image_to_string(page, lang='vie')  # Sử dụng ngôn ngữ tiếng Việt\n",
    "    all_text += f\"--- Page {i + 1} ---\\n{text}\\n\"\n",
    "\n",
    "# Lưu toàn bộ text vào file\n",
    "output_text_path = r'E:\\LLM_clone\\Tdtu-chatbot\\data\\pdf_TDTU\\QuyCheDaoTao2021_text.txt'\n",
    "with open(output_text_path, \"w\", encoding=\"utf-8\") as f:\n",
    "    f.write(all_text)\n",
    "\n",
    "print(f\"Text extraction completed. Check the output file at {output_text_path}.\")\n"
   ]
  },
  {
   "cell_type": "markdown",
   "metadata": {},
   "source": [
    "\n",
    "# Extract all"
   ]
  },
  {
   "cell_type": "code",
   "execution_count": 2,
   "metadata": {},
   "outputs": [
    {
     "name": "stdout",
     "output_type": "stream",
     "text": [
      "Processing: 2505_QĐ-TĐT.pdf\n",
      "Completed: E:\\LLM_clone\\Tdtu-chatbot\\data\\pdf_TDTU\\txt_outputs\\2505_QĐ-TĐT.txt\n",
      "Processing: 309. CS HBSV. 2021.pdf\n",
      "Completed: E:\\LLM_clone\\Tdtu-chatbot\\data\\pdf_TDTU\\txt_outputs\\309. CS HBSV. 2021.txt\n",
      "Processing: DRL_2668QD.2019.pdf\n",
      "Completed: E:\\LLM_clone\\Tdtu-chatbot\\data\\pdf_TDTU\\txt_outputs\\DRL_2668QD.2019.txt\n",
      "Processing: QuyCheDaoTao2021.pdf\n",
      "Completed: E:\\LLM_clone\\Tdtu-chatbot\\data\\pdf_TDTU\\txt_outputs\\QuyCheDaoTao2021.txt\n",
      "All files processed.\n"
     ]
    }
   ],
   "source": [
    "import os\n",
    "from pdf2image import convert_from_path\n",
    "from pytesseract import pytesseract\n",
    "\n",
    "# Đường dẫn đến Poppler\n",
    "poppler_path = r'C:\\poppler\\poppler-24.08.0\\Library\\bin'\n",
    "\n",
    "# Đường dẫn đến Tesseract OCR\n",
    "pytesseract.tesseract_cmd = r'C:\\Program Files\\Tesseract-OCR\\tesseract.exe'\n",
    "\n",
    "# Đường dẫn thư mục chứa các file PDF\n",
    "input_dir = r'E:\\LLM_clone\\Tdtu-chatbot\\data\\pdf_TDTU'\n",
    "\n",
    "# Thư mục đầu ra cho file txt\n",
    "output_dir = os.path.join(input_dir, 'txt_outputs')\n",
    "os.makedirs(output_dir, exist_ok=True)\n",
    "\n",
    "# Lặp qua từng file trong thư mục PDF\n",
    "for file_name in os.listdir(input_dir):\n",
    "    if file_name.endswith(\".pdf\"):\n",
    "        pdf_path = os.path.join(input_dir, file_name)\n",
    "        output_text_path = os.path.join(output_dir, file_name.replace('.pdf', '.txt'))\n",
    "        \n",
    "        print(f\"Processing: {file_name}\")\n",
    "        \n",
    "        try:\n",
    "            # Chuyển PDF thành ảnh\n",
    "            pages = convert_from_path(pdf_path, poppler_path=poppler_path)\n",
    "            all_text = \"\"\n",
    "\n",
    "            # Nhận diện text từ từng trang\n",
    "            for i, page in enumerate(pages):\n",
    "                text = pytesseract.image_to_string(page, lang='vie')  # Sử dụng tiếng Việt\n",
    "                all_text += f\"--- Page {i + 1} ---\\n{text}\\n\"\n",
    "\n",
    "            # Lưu text vào file txt\n",
    "            with open(output_text_path, \"w\", encoding=\"utf-8\") as f:\n",
    "                f.write(all_text)\n",
    "            \n",
    "            print(f\"Completed: {output_text_path}\")\n",
    "        \n",
    "        except Exception as e:\n",
    "            print(f\"Error processing {file_name}: {e}\")\n",
    "\n",
    "print(\"All files processed.\")\n"
   ]
  }
 ],
 "metadata": {
  "kernelspec": {
   "display_name": "testApp",
   "language": "python",
   "name": "python3"
  },
  "language_info": {
   "codemirror_mode": {
    "name": "ipython",
    "version": 3
   },
   "file_extension": ".py",
   "mimetype": "text/x-python",
   "name": "python",
   "nbconvert_exporter": "python",
   "pygments_lexer": "ipython3",
   "version": "3.11.0"
  }
 },
 "nbformat": 4,
 "nbformat_minor": 2
}
