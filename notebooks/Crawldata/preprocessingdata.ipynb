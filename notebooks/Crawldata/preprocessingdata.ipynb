{
 "cells": [
  {
   "cell_type": "code",
   "execution_count": 2,
   "metadata": {},
   "outputs": [
    {
     "name": "stdout",
     "output_type": "stream",
     "text": [
      "Bộ Quy tắc ứng xử của người học (gọ i tắt là “Quy tắc này”) đượ c ban h ành nhằm tạo lập môi trường học tập, nghiên cứu bình đẳng, công bằng, văn minh và hiệu quả.\n"
     ]
    }
   ],
   "source": [
    "import re\n",
    "\n",
    "# Câu văn ban đầu\n",
    "text = \"\"\"Bô ̣ Quy tắc ứng xử\n",
    "của người học (go ̣ i tắt là “Quy tắc này”) đươ ̣ c ban h ành nhằm tạo lập\n",
    "môi trường học tập, nghiên cứu bình đẳng, công bằng, văn minh và hiệu quả.\"\"\"\n",
    "\n",
    "# Bước 1: Loại bỏ khoảng trắng giữa ký tự và dấu thanh không cần thiết\n",
    "text = re.sub(r'(\\w)\\s+([̣̀́̉̃])', r'\\1\\2', text)  # Xóa khoảng trắng giữa từ và dấu thanh\n",
    "text = re.sub(r'([̣̀́̉̃])\\s+(\\w)', r'\\1 \\2', text)  # Thêm khoảng trắng giữa dấu thanh và từ tiếp theo (nếu cần)\n",
    "\n",
    "# Bước 2: Chuẩn hóa một số lỗi mã hóa phổ biến (nếu cần)\n",
    "def normalize_vietnamese_text(text):\n",
    "    replacements = {\n",
    "        \"à\": \"à\", \"á\": \"á\", \"ả\": \"ả\", \"ã\": \"ã\", \"ạ\": \"ạ\",\n",
    "        \"ầ\": \"ầ\", \"ấ\": \"ấ\", \"ẩ\": \"ẩ\", \"ẫ\": \"ẫ\", \"ậ\": \"ậ\",\n",
    "        \"ằ\": \"ằ\", \"ắ\": \"ắ\", \"ẳ\": \"ẳ\", \"ẵ\": \"ẵ\", \"ặ\": \"ặ\",\n",
    "        \"è\": \"è\", \"é\": \"é\", \"ẻ\": \"ẻ\", \"ẽ\": \"ẽ\", \"ẹ\": \"ẹ\",\n",
    "        \"ò\": \"ò\", \"ó\": \"ó\", \"ỏ\": \"ỏ\", \"õ\": \"õ\", \"ọ\": \"ọ\",\n",
    "        \"ồ\": \"ồ\", \"ố\": \"ố\", \"ổ\": \"ổ\", \"ỗ\": \"ỗ\", \"ộ\": \"ộ\",\n",
    "        \"ờ\": \"ờ\", \"ớ\": \"ớ\", \"ở\": \"ở\", \"ỡ\": \"ỡ\", \"ợ\": \"ợ\",\n",
    "        \"ù\": \"ù\", \"ú\": \"ú\", \"ủ\": \"ủ\", \"ũ\": \"ũ\", \"ụ\": \"ụ\",\n",
    "        \"ừ\": \"ừ\", \"ứ\": \"ứ\", \"ử\": \"ử\", \"ữ\": \"ữ\", \"ự\": \"ự\",\n",
    "        \"ì\": \"ì\", \"í\": \"í\", \"ỉ\": \"ỉ\", \"ĩ\": \"ĩ\", \"ị\": \"ị\",\n",
    "        \"ỳ\": \"ỳ\", \"ý\": \"ý\", \"ỷ\": \"ỷ\", \"ỹ\": \"ỹ\", \"ỵ\": \"ỵ\"\n",
    "    }\n",
    "    for wrong, correct in replacements.items():\n",
    "        text = text.replace(wrong, correct)\n",
    "    return text\n",
    "\n",
    "text = normalize_vietnamese_text(text)\n",
    "\n",
    "# Bước 3: Gộp các dòng văn bản thành một câu hoàn chỉnh\n",
    "text = text.replace('\\n', ' ')\n",
    "\n",
    "# Xóa khoảng trắng thừa nếu có\n",
    "text = re.sub(r'\\s+', ' ', text).strip()\n",
    "\n",
    "# In kết quả\n",
    "print(text)\n"
   ]
  },
  {
   "cell_type": "code",
   "execution_count": 19,
   "metadata": {},
   "outputs": [
    {
     "name": "stdout",
     "output_type": "stream",
     "text": [
      "Bộ Quy tắc ứng xử của người học (gọi tắt là “Quy tắc này”) được ban hành nhằm tạo lập môi trường học tập, nghiên cứu bình đẳng, công bằng, văn minh và hiệu quả.\n"
     ]
    }
   ],
   "source": [
    "import re\n",
    "\n",
    "# Câu văn ban đầu\n",
    "text = \"\"\"Bô ̣ Quy tắc ứng xử\n",
    "của người học (go ̣ i tắt là “Quy tắc này”) đươ ̣ c ban h ành nhằm tạo lập\n",
    "môi trường học tập, nghiên cứu bình đẳng, công bằng, văn minh và hiệu quả.\"\"\"\n",
    "\n",
    "# Bước 1: Loại bỏ khoảng trắng không cần thiết trước các dấu thanh và xung quanh các chữ cái đơn lẻ\n",
    "# Xóa khoảng trắng giữa từ và dấu thanh\n",
    "text = re.sub(r'(\\w)\\s+([̣̀́̉̃])', r'\\1\\2', text)  \n",
    "# Xóa khoảng trắng giữa dấu thanh và từ tiếp theo nếu có\n",
    "text = re.sub(r'([̣̀́̉̃])\\s+(\\w)', r'\\1\\2', text)  \n",
    "\n",
    "# Bước 2: Thêm khoảng trắng giữa các từ viết hoa liền nhau (như \"Bộ\" và \"Quy\")\n",
    "# Chỉ thêm khoảng trắng giữa các từ có ký tự viết hoa liền nhau\n",
    "text = re.sub(r'(?<=[a-zA-ZÀ-ỹ])(?=[A-Z])', ' ', text)\n",
    "\n",
    "# Bước 3: Xóa khoảng trắng không cần thiết trong các từ có dấu tiếng Việt\n",
    "# Xóa khoảng trắng giữa các chữ cái và dấu thanh nếu còn tồn tại\n",
    "text = re.sub(r'(\\w)\\s+([̣̀́̉̃]\\w)', r'\\1\\2', text)\n",
    "text = re.sub(r'\\b(\\w)\\s(\\w)\\b', r'\\1\\2', text)  # Áp dụng cho các trường hợp khác\n",
    "# Bước 4: Chuẩn hóa một số lỗi mã hóa phổ biến trong tiếng Việt (nếu cần)\n",
    "def normalize_vietnamese_text(text):\n",
    "    replacements = {\n",
    "        \"à\": \"à\", \"á\": \"á\", \"ả\": \"ả\", \"ã\": \"ã\", \"ạ\": \"ạ\",\n",
    "        \"ầ\": \"ầ\", \"ấ\": \"ấ\", \"ẩ\": \"ẩ\", \"ẫ\": \"ẫ\", \"ậ\": \"ậ\",\n",
    "        \"ằ\": \"ằ\", \"ắ\": \"ắ\", \"ẳ\": \"ẳ\", \"ẵ\": \"ẵ\", \"ặ\": \"ặ\",\n",
    "        \"è\": \"è\", \"é\": \"é\", \"ẻ\": \"ẻ\", \"ẽ\": \"ẽ\", \"ẹ\": \"ẹ\",\n",
    "        \"ò\": \"ò\", \"ó\": \"ó\", \"ỏ\": \"ỏ\", \"õ\": \"õ\", \"ọ\": \"ọ\",\n",
    "        \"ồ\": \"ồ\", \"ố\": \"ố\", \"ổ\": \"ổ\", \"ỗ\": \"ỗ\", \"ộ\": \"ộ\",\n",
    "        \"ờ\": \"ờ\", \"ớ\": \"ớ\", \"ở\": \"ở\", \"ỡ\": \"ỡ\", \"ợ\": \"ợ\",\n",
    "        \"ù\": \"ù\", \"ú\": \"ú\", \"ủ\": \"ủ\", \"ũ\": \"ũ\", \"ụ\": \"ụ\",\n",
    "        \"ừ\": \"ừ\", \"ứ\": \"ứ\", \"ử\": \"ử\", \"ữ\": \"ữ\", \"ự\": \"ự\",\n",
    "        \"ì\": \"ì\", \"í\": \"í\", \"ỉ\": \"ỉ\", \"ĩ\": \"ĩ\", \"ị\": \"ị\",\n",
    "        \"ỳ\": \"ỳ\", \"ý\": \"ý\", \"ỷ\": \"ỷ\", \"ỹ\": \"ỹ\", \"ỵ\": \"ỵ\"\n",
    "    }\n",
    "    for wrong, correct in replacements.items():\n",
    "        text = text.replace(wrong, correct)\n",
    "    return text\n",
    "\n",
    "text = normalize_vietnamese_text(text)\n",
    "\n",
    "# Bước 5: Gộp các dòng văn bản thành một câu hoàn chỉnh\n",
    "text = text.replace('\\n', ' ')\n",
    "\n",
    "# Xóa khoảng trắng thừa nếu có\n",
    "text = re.sub(r'\\s+', ' ', text).strip()\n",
    "\n",
    "# In kết quả\n",
    "print(text)\n"
   ]
  },
  {
   "cell_type": "markdown",
   "metadata": {},
   "source": [
    "## test"
   ]
  },
  {
   "cell_type": "code",
   "execution_count": 21,
   "metadata": {},
   "outputs": [
    {
     "name": "stdout",
     "output_type": "stream",
     "text": [
      "Bộ Quy tắc ứng xử của người học (gọi tắt là “Quy tắc này”) được ban hành nhằm tạo lập môi trường học tập, nghiên cứu bình đẳng, công bằng, văn minh và hiệu quả. Người học được tôn trọng, có quyền tự do ứng xử theo nguyên tắc tuyệt đối tuân thủpháp luật, tôn trọng quyền và lợi ích hợp pháp của Nhànước, Nhà trường và của các tổchức, cá nhân khác. Quy tắc này bao gồm những nguyên tắc cơ bản trong ứng xử của người học trong phạm vi Trường Đại học Tôn Đức Thắng (gọit ắt là “Trường” hoặc “Nhà trường”) và trong một số quan hệ xã hội khác mà Quy tắc này điều chỉnh.\n"
     ]
    }
   ],
   "source": [
    "import re\n",
    "\n",
    "# Câu văn ban đầu\n",
    "text = \"\"\"  Bô ̣ Quy tắc ứng xử\n",
    "của người học (go ̣ i tắt là “Quy tắc này”) đươ ̣ c ban h ành nhằm tạo lập\n",
    "môi trường học tập, nghiên cứu bình đẳng, công bằng, văn minh và hiệu quả. Người\n",
    "học được tôn trọng, có quyền tự do ứng xử theo nguyên tắc tuyê ̣ t đối tuân\n",
    "thủ pháp luật, tôn tro ̣ ng quyền và lợi ích hợp pháp của Nhà nước, Nhà\n",
    "trường và của các tổ chức, cá nhân khác.  Quy tắc này bao gồm những nguyên\n",
    "tắc cơ bản trong ứng xử của người học trong phạm vi Trường Đa ̣ i ho ̣ c Tôn Đ\n",
    "ức Thắng (go ̣ i t ắt là “Trường” hoă ̣ c “Nhà trường”) và trong một số\n",
    "quan hệ xã hội khác mà Quy tắc này điều chỉnh. \"\"\"\n",
    "\n",
    "# Bước 1: Loại bỏ khoảng trắng không cần thiết trước các dấu thanh và xung quanh các chữ cái đơn lẻ\n",
    "# Xóa khoảng trắng giữa từ và dấu thanh\n",
    "text = re.sub(r'(\\w)\\s+([̣̀́̉̃])', r'\\1\\2', text)  \n",
    "# Xóa khoảng trắng giữa dấu thanh và từ tiếp theo nếu có\n",
    "text = re.sub(r'([̣̀́̉̃])\\s+(\\w)', r'\\1\\2', text)  \n",
    "\n",
    "# Bước 2: Thêm khoảng trắng giữa các từ viết hoa liền nhau (như \"Bộ\" và \"Quy\")\n",
    "# Chỉ thêm khoảng trắng giữa các từ có ký tự viết hoa liền nhau\n",
    "text = re.sub(r'(?<=[a-zA-ZÀ-ỹ])(?=[A-Z])', ' ', text)\n",
    "\n",
    "# Bước 3: Xóa khoảng trắng không cần thiết trong các từ có dấu tiếng Việt\n",
    "# Xóa khoảng trắng giữa các chữ cái và dấu thanh nếu còn tồn tại\n",
    "text = re.sub(r'(\\w)\\s+([̣̀́̉̃]\\w)', r'\\1\\2', text)\n",
    "text = re.sub(r'\\b(\\w)\\s(\\w)\\b', r'\\1\\2', text)  # Áp dụng cho các trường hợp khác\n",
    "# Bước 4: Chuẩn hóa một số lỗi mã hóa phổ biến trong tiếng Việt (nếu cần)\n",
    "def normalize_vietnamese_text(text):\n",
    "    replacements = {\n",
    "        \"à\": \"à\", \"á\": \"á\", \"ả\": \"ả\", \"ã\": \"ã\", \"ạ\": \"ạ\",\n",
    "        \"ầ\": \"ầ\", \"ấ\": \"ấ\", \"ẩ\": \"ẩ\", \"ẫ\": \"ẫ\", \"ậ\": \"ậ\",\n",
    "        \"ằ\": \"ằ\", \"ắ\": \"ắ\", \"ẳ\": \"ẳ\", \"ẵ\": \"ẵ\", \"ặ\": \"ặ\",\n",
    "        \"è\": \"è\", \"é\": \"é\", \"ẻ\": \"ẻ\", \"ẽ\": \"ẽ\", \"ẹ\": \"ẹ\",\n",
    "        \"ò\": \"ò\", \"ó\": \"ó\", \"ỏ\": \"ỏ\", \"õ\": \"õ\", \"ọ\": \"ọ\",\n",
    "        \"ồ\": \"ồ\", \"ố\": \"ố\", \"ổ\": \"ổ\", \"ỗ\": \"ỗ\", \"ộ\": \"ộ\",\n",
    "        \"ờ\": \"ờ\", \"ớ\": \"ớ\", \"ở\": \"ở\", \"ỡ\": \"ỡ\", \"ợ\": \"ợ\",\n",
    "        \"ù\": \"ù\", \"ú\": \"ú\", \"ủ\": \"ủ\", \"ũ\": \"ũ\", \"ụ\": \"ụ\",\n",
    "        \"ừ\": \"ừ\", \"ứ\": \"ứ\", \"ử\": \"ử\", \"ữ\": \"ữ\", \"ự\": \"ự\",\n",
    "        \"ì\": \"ì\", \"í\": \"í\", \"ỉ\": \"ỉ\", \"ĩ\": \"ĩ\", \"ị\": \"ị\",\n",
    "        \"ỳ\": \"ỳ\", \"ý\": \"ý\", \"ỷ\": \"ỷ\", \"ỹ\": \"ỹ\", \"ỵ\": \"ỵ\"\n",
    "    }\n",
    "    for wrong, correct in replacements.items():\n",
    "        text = text.replace(wrong, correct)\n",
    "    return text\n",
    "\n",
    "text = normalize_vietnamese_text(text)\n",
    "\n",
    "# Bước 5: Gộp các dòng văn bản thành một câu hoàn chỉnh\n",
    "text = text.replace('\\n', ' ')\n",
    "\n",
    "# Xóa khoảng trắng thừa nếu có\n",
    "text = re.sub(r'\\s+', ' ', text).strip()\n",
    "\n",
    "# In kết quả\n",
    "print(text)\n"
   ]
  }
 ],
 "metadata": {
  "kernelspec": {
   "display_name": "testApp",
   "language": "python",
   "name": "python3"
  },
  "language_info": {
   "codemirror_mode": {
    "name": "ipython",
    "version": 3
   },
   "file_extension": ".py",
   "mimetype": "text/x-python",
   "name": "python",
   "nbconvert_exporter": "python",
   "pygments_lexer": "ipython3",
   "version": "3.11.9"
  }
 },
 "nbformat": 4,
 "nbformat_minor": 2
}
