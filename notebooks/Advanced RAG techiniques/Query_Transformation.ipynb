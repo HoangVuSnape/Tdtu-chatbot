{
  "nbformat": 4,
  "nbformat_minor": 0,
  "metadata": {
    "colab": {
      "provenance": []
    },
    "kernelspec": {
      "name": "python3",
      "display_name": "Python 3"
    },
    "language_info": {
      "name": "python"
    }
  },
  "cells": [
    {
      "cell_type": "code",
      "source": [
        "! pip install -q langchain_community tiktoken langchain-openai langchainhub langchain"
      ],
      "metadata": {
        "id": "lPutv9Juaw5c"
      },
      "execution_count": null,
      "outputs": []
    },
    {
      "cell_type": "markdown",
      "source": [
        "# **1 - Query Rewriting: Reformulating queries to improve retrieval.**"
      ],
      "metadata": {
        "id": "T4iGulWVY7dq"
      }
    },
    {
      "cell_type": "code",
      "source": [
        "from langchain_openai import ChatOpenAI\n",
        "from langchain.prompts import PromptTemplate\n",
        "from langchain.chains import LLMChain\n",
        "import os\n",
        "from dotenv import load_dotenv\n",
        "from google.colab import userdata\n",
        "import openai\n",
        "\n",
        "# Load environment variables from a .env file\n",
        "load_dotenv()\n",
        "# Set the OpenAI API key environment variable\n",
        "openai.key = userdata.get('openai_api')\n",
        "os.environ[\"OPENAI_API_KEY\"] = userdata.get('openai_api')\n",
        "model = ChatOpenAI(temperature=0,model_name= 'gpt-4o-mini', max_tokens=4000)\n"
      ],
      "metadata": {
        "id": "UwzPLziwCTzE"
      },
      "execution_count": null,
      "outputs": []
    },
    {
      "cell_type": "code",
      "source": [
        "\n",
        "# Create a prompt template for query rewriting\n",
        "query_rewrite_template = \"\"\"Bạn là trợ lý AI được giao nhiệm vụ xây dựng lại các truy vấn của người dùng để cải thiện khả năng truy xuất trong hệ thống RAG.\n",
        "Với truy vấn ban đầu, hãy viết lại để cụ thể hơn, chi tiết hơn và có khả năng truy xuất thông tin có liên quan hơn.\n",
        "\n",
        "Truy vấn ban đầu: {query}\n",
        "\n",
        "Truy vấn được viết lại:\"\"\"\n",
        "\n",
        "query_rewrite_prompt = PromptTemplate(\n",
        "    input_variables=[\"query\"],\n",
        "    template=query_rewrite_template\n",
        ")\n",
        "\n",
        "# Create an LLMChain for query rewriting\n",
        "query_rewriter = query_rewrite_prompt | model\n",
        "\n",
        "def rewrite_query(original_query):\n",
        "    \"\"\"\n",
        "    Rewrite the original query to improve retrieval.\n",
        "\n",
        "    Args:\n",
        "    original_query (str): The original user query\n",
        "\n",
        "    Returns:\n",
        "    str: The rewritten query\n",
        "    \"\"\"\n",
        "    response = query_rewriter.invoke(original_query)\n",
        "    return response.content"
      ],
      "metadata": {
        "id": "HuuFZcx6G2qr"
      },
      "execution_count": null,
      "outputs": []
    },
    {
      "cell_type": "code",
      "source": [
        "# example query over the understanding climate change dataset\n",
        "original_query = \"Học tiếng Anh sao cho hiệu quả?\"\n",
        "rewritten_query = rewrite_query(original_query)\n",
        "print(\"Original query:\", original_query)\n",
        "print(\"\\nRewritten query:\", rewritten_query)"
      ],
      "metadata": {
        "colab": {
          "base_uri": "https://localhost:8080/"
        },
        "id": "4fs2SeHEs4oZ",
        "outputId": "e1a2ea66-109e-4b66-81be-4d3640ad3b40"
      },
      "execution_count": null,
      "outputs": [
        {
          "output_type": "stream",
          "name": "stdout",
          "text": [
            "Original query: Học tiếng Anh sao cho hiệu quả?\n",
            "\n",
            "Rewritten query: Truy vấn được viết lại: \"Những phương pháp và kỹ thuật hiệu quả nhất để học tiếng Anh là gì? Tôi cần các gợi ý cụ thể về cách cải thiện kỹ năng nghe, nói, đọc và viết trong tiếng Anh, cũng như các tài nguyên học tập hữu ích.\"\n"
          ]
        }
      ]
    },
    {
      "cell_type": "markdown",
      "source": [
        "# **2 - Step-back Prompting: Making queries more generally for better context retrieval.**"
      ],
      "metadata": {
        "id": "LYRR0T64ZBQ0"
      }
    },
    {
      "cell_type": "code",
      "source": [
        "step_back_prompt = \"\"\"Bạn là trợ lý AI được giao nhiệm vụ tạo các truy vấn rộng hơn, tổng quát hơn để cải thiện việc truy xuất ngữ cảnh trong hệ thống RAG.\n",
        "Với truy vấn ban đầu, hãy tạo một truy vấn bước lùi tổng quát hơn và có thể giúp truy xuất thông tin nền có liên quan.\n",
        "\n",
        "Truy vấn ban đầu: {original_query}\n",
        "\n",
        "Truy vấn bước lùi:\"\"\"\n",
        "\n",
        "step_back_prompt = PromptTemplate(\n",
        "    input_variables=[\"original_query\"],\n",
        "    template=step_back_prompt\n",
        ")\n",
        "\n",
        "step_back_chain = LLMChain(llm=model, prompt=step_back_prompt)\n",
        "def generate_step_back_query(original_query):\n",
        "    \"\"\"\n",
        "    Generate a step-back query to retrieve broader context.\n",
        "\n",
        "    Args:\n",
        "    original_query (str): The original user query\n",
        "\n",
        "    Returns:\n",
        "    str: The step-back query\n",
        "    \"\"\"\n",
        "    response = step_back_chain.invoke(original_query)\n",
        "    return response\n"
      ],
      "metadata": {
        "id": "QR4_fIThZD2P",
        "colab": {
          "base_uri": "https://localhost:8080/"
        },
        "outputId": "29675832-a106-4e24-8b93-6d3953246afa"
      },
      "execution_count": null,
      "outputs": [
        {
          "output_type": "stream",
          "name": "stderr",
          "text": [
            "<ipython-input-9-2390954b59fb>:13: LangChainDeprecationWarning: The class `LLMChain` was deprecated in LangChain 0.1.17 and will be removed in 1.0. Use :meth:`~RunnableSequence, e.g., `prompt | llm`` instead.\n",
            "  step_back_chain = LLMChain(llm=model, prompt=step_back_prompt)\n"
          ]
        }
      ]
    },
    {
      "cell_type": "code",
      "source": [
        "# example query over the understanding climate change dataset\n",
        "original_query = \"NHững ảnh hưởng của biến đổi khí hậu lên môi trường\"\n",
        "step_back_query = generate_step_back_query(original_query)\n"
      ],
      "metadata": {
        "id": "UAhXSnn-Zwj2"
      },
      "execution_count": null,
      "outputs": []
    },
    {
      "cell_type": "code",
      "source": [
        "print(\"Original query:\", original_query)\n",
        "print(\"\\nStep-back query:\", step_back_query['text'])"
      ],
      "metadata": {
        "colab": {
          "base_uri": "https://localhost:8080/"
        },
        "id": "S8sDid3mc1vU",
        "outputId": "0912c587-b9c1-48e1-d27d-91533a99e96d"
      },
      "execution_count": null,
      "outputs": [
        {
          "output_type": "stream",
          "name": "stdout",
          "text": [
            "Original query: NHững ảnh hưởng của biến đổi khí hậu lên môi trường\n",
            "\n",
            "Step-back query: Truy vấn bước lùi: \"Các yếu tố và tác động của biến đổi khí hậu đối với hệ sinh thái và môi trường toàn cầu\"\n"
          ]
        }
      ]
    },
    {
      "cell_type": "markdown",
      "source": [
        "# **3- Sub-query Decomposition: Breaking complex queries into simpler sub-queries.**"
      ],
      "metadata": {
        "id": "UWV3TPyMaTOG"
      }
    },
    {
      "cell_type": "code",
      "source": [
        "# Create a prompt template for sub-query decomposition\n",
        "subquery_decomposition_template = \"\"\"Bạn là trợ lý AI được giao nhiệm vụ phân tích các truy vấn phức tạp thành các truy vấn con đơn giản hơn cho hệ thống RAG.\n",
        "Với truy vấn gốc, hãy phân tích truy vấn đó thành 2-4 truy vấn con đơn giản hơn, khi trả lời cùng nhau, sẽ cung cấp phản hồi toàn diện cho truy vấn gốc.\n",
        "\n",
        "Truy vấn gốc: {original_query}\n",
        "\n",
        "ví dụ: Biến đổi khí hậu tác động như thế nào đến môi trường?\n",
        "\n",
        "Truy vấn con:\n",
        "1. Biến đổi khí hậu tác động như thế nào đến đa dạng sinh học?\n",
        "2. Biến đổi khí hậu ảnh hưởng đến đại dương như thế nào?\n",
        "3. Biến đổi khí hậu tác động như thế nào đến nông nghiệp?\n",
        "4. Biến đổi khí hậu tác động như thế nào đến sức khỏe con người?\"\"\"\n",
        "\n",
        "\n",
        "subquery_decomposition_prompt = PromptTemplate(\n",
        "    input_variables=[\"original_query\"],\n",
        "    template=subquery_decomposition_template\n",
        ")\n",
        "\n",
        "# Create an LLMChain for sub-query decomposition\n",
        "subquery_decomposer_chain = subquery_decomposition_prompt | model\n",
        "\n",
        "def decompose_query(original_query: str):\n",
        "    \"\"\"\n",
        "    Decompose the original query into simpler sub-queries.\n",
        "\n",
        "    Args:\n",
        "    original_query (str): The original complex query\n",
        "\n",
        "    Returns:\n",
        "    List[str]: A list of simpler sub-queries\n",
        "    \"\"\"\n",
        "    response = subquery_decomposer_chain.invoke(original_query).content\n",
        "    sub_queries = [q.strip() for q in response.split('\\n') if q.strip() and not q.strip().startswith('Sub-queries:')]\n",
        "    return sub_queries"
      ],
      "metadata": {
        "id": "qKvA9RXPaRlQ"
      },
      "execution_count": null,
      "outputs": []
    },
    {
      "cell_type": "code",
      "source": [
        "# example query over the understanding climate change dataset\n",
        "original_query = \"Ảnh hưởng của Internet đến giới trẻ hiện nay?\"\n",
        "sub_queries = decompose_query(original_query)\n",
        "print(\"\\nSub-queries:\")\n",
        "for i, sub_query in enumerate(sub_queries, 1):\n",
        "    print(sub_query)"
      ],
      "metadata": {
        "colab": {
          "base_uri": "https://localhost:8080/"
        },
        "id": "kHY-nibXcKXl",
        "outputId": "55f56e50-afed-4871-9b18-0bd64e306aa2"
      },
      "execution_count": null,
      "outputs": [
        {
          "output_type": "stream",
          "name": "stdout",
          "text": [
            "\n",
            "Sub-queries:\n",
            "Truy vấn gốc: Ảnh hưởng của Internet đến giới trẻ hiện nay?\n",
            "Truy vấn con:\n",
            "1. Internet ảnh hưởng đến cách giao tiếp và kết nối của giới trẻ như thế nào?\n",
            "2. Internet tác động đến việc học tập và tiếp thu kiến thức của giới trẻ ra sao?\n",
            "3. Internet ảnh hưởng đến sức khỏe tâm lý và cảm xúc của giới trẻ như thế nào?\n",
            "4. Internet có tác động gì đến thói quen tiêu dùng và sở thích giải trí của giới trẻ?\n"
          ]
        }
      ]
    },
    {
      "cell_type": "markdown",
      "source": [
        "# **Concat Chat History**"
      ],
      "metadata": {
        "id": "YZffmt3Ag5Nl"
      }
    },
    {
      "cell_type": "code",
      "source": [
        "\n",
        "summary_template = \"\"\"Bạn là trợ lý AI được giao nhiệm vụ tóm tắt nội dung của câu truy vấn\n",
        "Hãy đảm bảo rằng nội dung sau khi được tóm tắt sẽ ngắn gọn hơn mà vẫn giữ nguyên ngữ nghĩa\n",
        "Nội dung gốc: {original_query}\n",
        "Nội dung sau khi tóm tắt: \"\"\"\n",
        "\n",
        "history_template = PromptTemplate(\n",
        "    input_variables=[\"original_query\"],\n",
        "    template=summary_template\n",
        ")\n",
        "\n",
        "history_llm = history_template | model\n",
        "\n"
      ],
      "metadata": {
        "id": "Z5VCqoiZiH71"
      },
      "execution_count": null,
      "outputs": []
    },
    {
      "cell_type": "code",
      "source": [
        "query_1 = \"Mẫu điện thoại iphone X của Apple được ra mắt vào ngày nào?\"\n",
        "query_2 = \" 11 \"\n",
        "query_3 = \" 13 thì sao\"\n",
        "\n",
        "concatted_query = query_1 + \",\" + query_2 +\", \" + query_3\n",
        "concatted_query"
      ],
      "metadata": {
        "colab": {
          "base_uri": "https://localhost:8080/",
          "height": 36
        },
        "id": "HNbaEmr4jk1O",
        "outputId": "ad2b1257-aaf3-4d0c-ab57-75c9ecf75a95"
      },
      "execution_count": null,
      "outputs": [
        {
          "output_type": "execute_result",
          "data": {
            "text/plain": [
              "'Mẫu điện thoại iphone X của Apple được ra mắt vào ngày nào?, 11 ,  13 thì sao'"
            ],
            "application/vnd.google.colaboratory.intrinsic+json": {
              "type": "string"
            }
          },
          "metadata": {},
          "execution_count": 18
        }
      ]
    },
    {
      "cell_type": "code",
      "source": [
        "\n",
        "sub_queries = decompose_query(concatted_query)\n",
        "print(\"\\nSub-queries:\")\n",
        "for i, sub_query in enumerate(sub_queries, 1):\n",
        "    print(sub_query)"
      ],
      "metadata": {
        "colab": {
          "base_uri": "https://localhost:8080/"
        },
        "id": "cKr4wcJ3o0Z0",
        "outputId": "7fefdb8b-9393-42be-c36b-2c9e39095058"
      },
      "execution_count": null,
      "outputs": [
        {
          "output_type": "stream",
          "name": "stdout",
          "text": [
            "\n",
            "Sub-queries:\n",
            "Truy vấn gốc: Mẫu điện thoại iPhone X của Apple được ra mắt vào ngày nào? 11, 13 thì sao?\n",
            "Truy vấn con:\n",
            "1. Mẫu điện thoại iPhone X của Apple được ra mắt vào ngày nào?\n",
            "2. Có thông tin gì về các mẫu iPhone 11 và iPhone 13 không?\n",
            "3. So sánh các tính năng chính giữa iPhone X, iPhone 11 và iPhone 13 là gì?\n",
            "4. Giá cả và thời điểm phát hành của iPhone 11 và iPhone 13 là gì?\n"
          ]
        }
      ]
    },
    {
      "cell_type": "code",
      "source": [
        "concatted_query = sub_queries[0] + \" \" +  sub_queries[1] + \" \" + sub_queries[2] + \" \" + sub_queries[3]"
      ],
      "metadata": {
        "id": "1nM0ksnUp5Ek"
      },
      "execution_count": null,
      "outputs": []
    },
    {
      "cell_type": "code",
      "source": [
        "response = history_llm.invoke(concatted_query)\n",
        "response.content"
      ],
      "metadata": {
        "colab": {
          "base_uri": "https://localhost:8080/",
          "height": 36
        },
        "id": "AXHQgFGUpR6M",
        "outputId": "7271bdad-b612-42cf-993a-bf67ad2bce84"
      },
      "execution_count": null,
      "outputs": [
        {
          "output_type": "execute_result",
          "data": {
            "text/plain": [
              "'iPhone X của Apple ra mắt ngày nào? Có thông tin gì về iPhone 11 và 13 không?'"
            ],
            "application/vnd.google.colaboratory.intrinsic+json": {
              "type": "string"
            }
          },
          "metadata": {},
          "execution_count": 22
        }
      ]
    }
  ]
}