{
 "cells": [
  {
   "cell_type": "code",
   "execution_count": 1,
   "metadata": {},
   "outputs": [],
   "source": [
    "import sqlite3\n",
    "import pandas as pd\n",
    "import os"
   ]
  },
  {
   "cell_type": "markdown",
   "metadata": {},
   "source": [
    "# Create table"
   ]
  },
  {
   "cell_type": "code",
   "execution_count": 2,
   "metadata": {},
   "outputs": [],
   "source": [
    "# Function to create database schema\n",
    "def create_database():\n",
    "    with sqlite3.connect('university_admissions.db') as conn:\n",
    "        cursor = conn.cursor()\n",
    "\n",
    "        # Create table: universities\n",
    "        cursor.execute('''\n",
    "        CREATE TABLE IF NOT EXISTS universities (\n",
    "            code TEXT PRIMARY KEY,\n",
    "            short_name TEXT,\n",
    "            full_name TEXT\n",
    "        )\n",
    "        ''')\n",
    "\n",
    "        # Create table: admission_methods\n",
    "        cursor.execute('''\n",
    "        CREATE TABLE IF NOT EXISTS admission_methods (\n",
    "            id INTEGER PRIMARY KEY,\n",
    "            name TEXT\n",
    "        )\n",
    "        ''')\n",
    "\n",
    "        # Create table: admission_scores\n",
    "        cursor.execute('''\n",
    "        CREATE TABLE IF NOT EXISTS admission_scores (\n",
    "            id INTEGER PRIMARY KEY,\n",
    "            university_code TEXT NOT NULL,\n",
    "            major_code TEXT NOT NULL,\n",
    "            major_name TEXT NOT NULL,\n",
    "            admission_method_id INTEGER NOT NULL,\n",
    "            year INTEGER NOT NULL,\n",
    "            subject_combination TEXT,\n",
    "            score REAL,\n",
    "            note TEXT,\n",
    "            FOREIGN KEY (university_code) REFERENCES universities (code),\n",
    "            FOREIGN KEY (admission_method_id) REFERENCES admission_methods (id)\n",
    "        )\n",
    "        ''')\n",
    "\n",
    "        conn.commit()\n"
   ]
  },
  {
   "cell_type": "code",
   "execution_count": 3,
   "metadata": {},
   "outputs": [],
   "source": [
    "create_database()"
   ]
  },
  {
   "cell_type": "markdown",
   "metadata": {},
   "source": [
    "# Insert data"
   ]
  },
  {
   "cell_type": "code",
   "execution_count": 4,
   "metadata": {},
   "outputs": [],
   "source": [
    "# Import data from Excel files\n",
    "file_path_universities = r'E:\\LLM_clone\\Tdtu-chatbot\\notebooks\\DataSQL\\Danh_sach_truong_dai_hoc.xlsx'\n",
    "data_universities = pd.read_excel(file_path_universities)\n",
    "\n",
    "file_path_admission_methods = r'E:\\LLM_clone\\Tdtu-chatbot\\notebooks\\DataSQL\\admission_methods.xlsx'\n",
    "data_admission_methods = pd.read_excel(file_path_admission_methods)\n",
    "\n",
    "with sqlite3.connect('university_admissions.db') as conn:\n",
    "    cursor = conn.cursor()\n",
    "\n",
    "    # Insert data into universities table\n",
    "    for index, row in data_universities.iterrows():\n",
    "        cursor.execute('''\n",
    "        INSERT OR IGNORE INTO universities (code, short_name, full_name)\n",
    "        VALUES (?, ?, ?)\n",
    "        ''', (row['Mã Trường'], row['Viết Tắt'], row['Tên Trường']))\n",
    "\n",
    "    # Insert data into admission_methods table\n",
    "    for index, row in data_admission_methods.iterrows():\n",
    "        cursor.execute('''\n",
    "        INSERT OR IGNORE INTO admission_methods (id, name)\n",
    "        VALUES (?, ?)\n",
    "        ''', (row['id'], row['name']))\n",
    "\n",
    "    conn.commit()\n"
   ]
  },
  {
   "cell_type": "code",
   "execution_count": 5,
   "metadata": {},
   "outputs": [],
   "source": [
    "def read_sql_query(sql, db):\n",
    "    conn = sqlite3.connect(db)\n",
    "    cur = conn.cursor()\n",
    "    cur.execute(sql)\n",
    "    rows = cur.fetchall()\n",
    "    for row in rows:\n",
    "        print(row)\n",
    "    conn.close()\n",
    "    "
   ]
  },
  {
   "cell_type": "code",
   "execution_count": 6,
   "metadata": {},
   "outputs": [
    {
     "name": "stdout",
     "output_type": "stream",
     "text": [
      "('QSB', 'BKU', 'Trường Đại học Bách Khoa TP. Hồ Chí Minh (Ho Chi Minh City University of Technology)')\n",
      "('SPK', 'HCMUTE', 'Trường Đại học Sư phạm Kỹ thuật TP. Hồ Chí Minh (Ho Chi Minh City University of Technology and Education)')\n",
      "('FPT', 'FPT', 'Trường Đại học FPT (FPT University)')\n",
      "('NTS', 'FTU2', 'Trường Đại học Ngoại thương - Cơ sở 2 TP. Hồ Chí Minh (Foreign Trade University, Campus 2)')\n",
      "('QST', 'HCMUS', 'Trường Đại học Khoa học Tự nhiên TP. Hồ Chí Minh (University of Science, Ho Chi Minh City)')\n",
      "('TTD', 'TDTU', 'Trường Đại học Tôn Đức Thắng (Ton Duc Thang University)')\n",
      "('KSA', 'UEH', 'Trường Đại học Kinh tế TP. Hồ Chí Minh (University of Economics Ho Chi Minh City)')\n",
      "('DMS', 'UFM', 'Trường Đại học Tài chính - Marketing (University of Finance and Marketing)')\n",
      "('QSC', 'UIT', 'Trường Đại học Công nghệ Thông tin TP. Hồ Chí Minh (University of Information Technology, Ho Chi Minh City)')\n",
      "('DVL', 'VLU', 'Trường Đại học Văn Lang (Van Lang University)')\n",
      "('YDS', 'UMP', 'Trường Đại học Y Dược TP. Hồ Chí Minh (University of Medicine and Pharmacy, Ho Chi Minh City)')\n",
      "('TYS', 'PNTU', 'Trường Đại học Y khoa Phạm Ngọc Thạch (Pham Ngoc Thach University of Medicine)')\n",
      "('MBS', 'OU', 'Trường Đại học Mở TP. Hồ Chí Minh (Ho Chi Minh City Open University)')\n",
      "('NTT', 'NTTU', 'Trường Đại học Nguyễn Tất Thành (Nguyen Tat Thanh University)')\n",
      "('SPS', 'HCMUE', 'Trường Đại học Sư phạm TP. Hồ Chí Minh (Ho Chi Minh City University of Education)')\n"
     ]
    }
   ],
   "source": [
    "read_sql_query('SELECT * FROM universities LIMIT 20;',\n",
    "               \"university_admissions.db\")"
   ]
  },
  {
   "cell_type": "code",
   "execution_count": 7,
   "metadata": {},
   "outputs": [
    {
     "name": "stdout",
     "output_type": "stream",
     "text": [
      "  code short_name                                          full_name\n",
      "0  QSB        BKU  Trường Đại học Bách Khoa TP. Hồ Chí Minh (Ho C...\n"
     ]
    }
   ],
   "source": [
    "# Corrected SQL query\n",
    "query = 'SELECT * FROM universities WHERE code = \"QSB\" LIMIT 20;'\n",
    "\n",
    "# Connect to the database and execute the query\n",
    "with sqlite3.connect(\"university_admissions.db\") as conn:\n",
    "    df = pd.read_sql_query(query, conn)\n",
    "\n",
    "# Display the result\n",
    "print(df)\n"
   ]
  },
  {
   "cell_type": "code",
   "execution_count": 8,
   "metadata": {},
   "outputs": [
    {
     "name": "stdout",
     "output_type": "stream",
     "text": [
      "(1, 'Thi THPT')\n",
      "(2, 'Học bạ - Kết quả học tập THPT đợt 1')\n",
      "(3, 'Học bạ - Kết quả học tập THPT đợt 2')\n",
      "(4, 'DGNL')\n",
      "(5, 'UTXT đợt 1')\n",
      "(6, 'UTXT đợt 2')\n",
      "(7, 'Xét riêng')\n"
     ]
    }
   ],
   "source": [
    "read_sql_query('SELECT * FROM admission_methods LIMIT 20;',\n",
    "               \"university_admissions.db\")"
   ]
  },
  {
   "cell_type": "code",
   "execution_count": 13,
   "metadata": {},
   "outputs": [],
   "source": [
    "# Function to insert admission scores from folder structure\n",
    "def insert_admission_scores_from_folders(base_path):\n",
    "    \"\"\"\n",
    "    Insert admission scores from Excel files stored in a folder structure by university and year.\n",
    "\n",
    "    :param base_path: The base directory containing university folders with year subfolders.\n",
    "    \"\"\"\n",
    "    with sqlite3.connect('university_admissions.db') as conn:\n",
    "        cursor = conn.cursor()\n",
    "\n",
    "        # Traverse through each university folder\n",
    "        for university_folder in os.listdir(base_path):\n",
    "            university_path = os.path.join(base_path, university_folder)\n",
    "\n",
    "            if os.path.isdir(university_path):  # Ensure it's a directory\n",
    "                tables_path = os.path.join(university_path, \"Tables\")\n",
    "\n",
    "                if os.path.isdir(tables_path):  # Ensure 'Tables' directory exists\n",
    "                    # Traverse through each year folder within the 'Tables' directory\n",
    "                    for year_folder in os.listdir(tables_path):\n",
    "                        year_path = os.path.join(tables_path, year_folder)\n",
    "\n",
    "                        if os.path.isdir(year_path):  # Ensure it's a directory\n",
    "                            try:\n",
    "                                year = int(year_folder)  # Parse year from folder name\n",
    "                            except ValueError:\n",
    "                                continue  # Skip if the folder name is not a year\n",
    "\n",
    "                            # Traverse through each Excel file in the year folder\n",
    "                            for file_name in os.listdir(year_path):\n",
    "                                if file_name.endswith('.xlsx'):  # Only process Excel files\n",
    "                                    file_path = os.path.join(year_path, file_name)\n",
    "                                    admission_method = int(file_name[0])\n",
    "                                    # Read the Excel file\n",
    "                                    data = pd.read_excel(file_path)\n",
    "\n",
    "                                    # Insert data into admission_scores table\n",
    "                                    for index, row in data.iterrows():\n",
    "                                        cursor.execute('''\n",
    "                                        INSERT OR IGNORE INTO admission_scores (\n",
    "                                            id, university_code, major_code, major_name, admission_method_id,\n",
    "                                            year, subject_combination, score, note\n",
    "                                        )\n",
    "                                        VALUES (?, ?, ?, ?, ?, ?, ?, ?, ?)\n",
    "                                        ''', (\n",
    "                                            None,  # Auto-increment ID\n",
    "                                            university_folder,  # University code from folder name\n",
    "                                            row['Mã ngành'],\n",
    "                                            row['Tên ngành'],\n",
    "                                            admission_method,  # Default admission method ID (e.g., Thi THPT)\n",
    "                                            year,\n",
    "                                            row['Tổ hợp'],\n",
    "                                            row['Điểm chuẩn'],\n",
    "                                            row['Ghi chú']\n",
    "                                        ))\n",
    "\n",
    "        conn.commit()\n"
   ]
  },
  {
   "cell_type": "code",
   "execution_count": 14,
   "metadata": {},
   "outputs": [],
   "source": [
    "insert_admission_scores_from_folders(r'E:\\LLM_clone\\Tdtu-chatbot\\notebooks\\Data Tuyển sinh')"
   ]
  },
  {
   "cell_type": "code",
   "execution_count": 15,
   "metadata": {},
   "outputs": [
    {
     "name": "stdout",
     "output_type": "stream",
     "text": [
      "  code short_name                                          full_name\n",
      "0  QSB        BKU  Trường Đại học Bách Khoa TP. Hồ Chí Minh (Ho C...\n"
     ]
    }
   ],
   "source": [
    "# Corrected SQL query\n",
    "query = 'SELECT * FROM universities WHERE code = \"QSB\" '\n",
    "\n",
    "# Connect to the database and execute the query\n",
    "with sqlite3.connect(\"university_admissions.db\") as conn:\n",
    "    df = pd.read_sql_query(query, conn)\n",
    "\n",
    "# Display the result\n",
    "print(df)\n"
   ]
  },
  {
   "cell_type": "code",
   "execution_count": 21,
   "metadata": {},
   "outputs": [
    {
     "data": {
      "text/html": [
       "<div>\n",
       "<style scoped>\n",
       "    .dataframe tbody tr th:only-of-type {\n",
       "        vertical-align: middle;\n",
       "    }\n",
       "\n",
       "    .dataframe tbody tr th {\n",
       "        vertical-align: top;\n",
       "    }\n",
       "\n",
       "    .dataframe thead th {\n",
       "        text-align: right;\n",
       "    }\n",
       "</style>\n",
       "<table border=\"1\" class=\"dataframe\">\n",
       "  <thead>\n",
       "    <tr style=\"text-align: right;\">\n",
       "      <th></th>\n",
       "      <th>id</th>\n",
       "      <th>university_code</th>\n",
       "      <th>major_code</th>\n",
       "      <th>major_name</th>\n",
       "      <th>admission_method_id</th>\n",
       "      <th>year</th>\n",
       "      <th>subject_combination</th>\n",
       "      <th>score</th>\n",
       "      <th>note</th>\n",
       "    </tr>\n",
       "  </thead>\n",
       "  <tbody>\n",
       "    <tr>\n",
       "      <th>0</th>\n",
       "      <td>1</td>\n",
       "      <td>TDTU</td>\n",
       "      <td>7220201</td>\n",
       "      <td>Ngôn ngữ Anh</td>\n",
       "      <td>1</td>\n",
       "      <td>2021</td>\n",
       "      <td>D01; D11</td>\n",
       "      <td>35,60</td>\n",
       "      <td>Môn nhân hệ số 2, điều kiện: Anh\\n Điểm trúng ...</td>\n",
       "    </tr>\n",
       "    <tr>\n",
       "      <th>1</th>\n",
       "      <td>2</td>\n",
       "      <td>TDTU</td>\n",
       "      <td>7310630</td>\n",
       "      <td>Việt Nam học (Chuyên ngành: Du lịch và lữ hành)</td>\n",
       "      <td>1</td>\n",
       "      <td>2021</td>\n",
       "      <td>A01; C00; C01; D01</td>\n",
       "      <td>33,30</td>\n",
       "      <td>Môn nhân hệ số 2, điều kiện: A01, D01: Anh C00...</td>\n",
       "    </tr>\n",
       "    <tr>\n",
       "      <th>2</th>\n",
       "      <td>3</td>\n",
       "      <td>TDTU</td>\n",
       "      <td>7310630Q</td>\n",
       "      <td>Việt Nam học (Chuyên ngành: Du lịch và quản lý...</td>\n",
       "      <td>1</td>\n",
       "      <td>2021</td>\n",
       "      <td>A01; C00; C01; D01</td>\n",
       "      <td>34,20</td>\n",
       "      <td>Môn nhân hệ số 2, điều kiện: A01, D01: Anh C00...</td>\n",
       "    </tr>\n",
       "    <tr>\n",
       "      <th>3</th>\n",
       "      <td>4</td>\n",
       "      <td>TDTU</td>\n",
       "      <td>7340101</td>\n",
       "      <td>Quản trị kinh doanh (Chuyên ngành: Quản trị ng...</td>\n",
       "      <td>1</td>\n",
       "      <td>2021</td>\n",
       "      <td>A00; A01; D01</td>\n",
       "      <td>36,00</td>\n",
       "      <td>Môn nhân hệ số 2, điều kiện: A00: Toán, A01, D...</td>\n",
       "    </tr>\n",
       "    <tr>\n",
       "      <th>4</th>\n",
       "      <td>5</td>\n",
       "      <td>TDTU</td>\n",
       "      <td>7340115</td>\n",
       "      <td>Marketing</td>\n",
       "      <td>1</td>\n",
       "      <td>2021</td>\n",
       "      <td>A00; A01; D01</td>\n",
       "      <td>36,90</td>\n",
       "      <td>Môn nhân hệ số 2, điều kiện: A00: Toán, A01, D...</td>\n",
       "    </tr>\n",
       "  </tbody>\n",
       "</table>\n",
       "</div>"
      ],
      "text/plain": [
       "   id university_code major_code  \\\n",
       "0   1            TDTU    7220201   \n",
       "1   2            TDTU    7310630   \n",
       "2   3            TDTU   7310630Q   \n",
       "3   4            TDTU    7340101   \n",
       "4   5            TDTU    7340115   \n",
       "\n",
       "                                          major_name  admission_method_id  \\\n",
       "0                                       Ngôn ngữ Anh                    1   \n",
       "1    Việt Nam học (Chuyên ngành: Du lịch và lữ hành)                    1   \n",
       "2  Việt Nam học (Chuyên ngành: Du lịch và quản lý...                    1   \n",
       "3  Quản trị kinh doanh (Chuyên ngành: Quản trị ng...                    1   \n",
       "4                                          Marketing                    1   \n",
       "\n",
       "   year subject_combination  score  \\\n",
       "0  2021            D01; D11  35,60   \n",
       "1  2021  A01; C00; C01; D01  33,30   \n",
       "2  2021  A01; C00; C01; D01  34,20   \n",
       "3  2021       A00; A01; D01  36,00   \n",
       "4  2021       A00; A01; D01  36,90   \n",
       "\n",
       "                                                note  \n",
       "0  Môn nhân hệ số 2, điều kiện: Anh\\n Điểm trúng ...  \n",
       "1  Môn nhân hệ số 2, điều kiện: A01, D01: Anh C00...  \n",
       "2  Môn nhân hệ số 2, điều kiện: A01, D01: Anh C00...  \n",
       "3  Môn nhân hệ số 2, điều kiện: A00: Toán, A01, D...  \n",
       "4  Môn nhân hệ số 2, điều kiện: A00: Toán, A01, D...  "
      ]
     },
     "execution_count": 21,
     "metadata": {},
     "output_type": "execute_result"
    }
   ],
   "source": [
    "# Corrected SQL query\n",
    "query = 'SELECT * FROM admission_scores;'\n",
    "\n",
    "# Connect to the database and execute the query\n",
    "with sqlite3.connect(\"university_admissions.db\") as conn:\n",
    "    df = pd.read_sql_query(query, conn)\n",
    "\n",
    "# Display the result\n",
    "df[:5]"
   ]
  },
  {
   "cell_type": "markdown",
   "metadata": {},
   "source": [
    "# View db"
   ]
  },
  {
   "cell_type": "code",
   "execution_count": 22,
   "metadata": {},
   "outputs": [
    {
     "name": "stdout",
     "output_type": "stream",
     "text": [
      "<class 'pandas.core.frame.DataFrame'>\n",
      "RangeIndex: 1835 entries, 0 to 1834\n",
      "Data columns (total 9 columns):\n",
      " #   Column               Non-Null Count  Dtype \n",
      "---  ------               --------------  ----- \n",
      " 0   id                   1835 non-null   int64 \n",
      " 1   university_code      1835 non-null   object\n",
      " 2   major_code           1835 non-null   object\n",
      " 3   major_name           1835 non-null   object\n",
      " 4   admission_method_id  1835 non-null   int64 \n",
      " 5   year                 1835 non-null   int64 \n",
      " 6   subject_combination  690 non-null    object\n",
      " 7   score                1834 non-null   object\n",
      " 8   note                 806 non-null    object\n",
      "dtypes: int64(3), object(6)\n",
      "memory usage: 129.2+ KB\n"
     ]
    }
   ],
   "source": [
    "df.info()"
   ]
  },
  {
   "cell_type": "code",
   "execution_count": 23,
   "metadata": {},
   "outputs": [
    {
     "data": {
      "text/plain": [
       "id                        0\n",
       "university_code           0\n",
       "major_code                0\n",
       "major_name                0\n",
       "admission_method_id       0\n",
       "year                      0\n",
       "subject_combination    1145\n",
       "score                     1\n",
       "note                   1029\n",
       "dtype: int64"
      ]
     },
     "execution_count": 23,
     "metadata": {},
     "output_type": "execute_result"
    }
   ],
   "source": [
    "df.isnull().sum()"
   ]
  },
  {
   "cell_type": "code",
   "execution_count": 24,
   "metadata": {},
   "outputs": [
    {
     "name": "stdout",
     "output_type": "stream",
     "text": [
      "[2021 2022 2023 2024]\n",
      "[1 2 3 5 6 4]\n"
     ]
    }
   ],
   "source": [
    "print(df['year'].unique())\n",
    "print(df['admission_method_id'].unique())"
   ]
  },
  {
   "cell_type": "code",
   "execution_count": 27,
   "metadata": {},
   "outputs": [
    {
     "data": {
      "text/html": [
       "<div>\n",
       "<style scoped>\n",
       "    .dataframe tbody tr th:only-of-type {\n",
       "        vertical-align: middle;\n",
       "    }\n",
       "\n",
       "    .dataframe tbody tr th {\n",
       "        vertical-align: top;\n",
       "    }\n",
       "\n",
       "    .dataframe thead th {\n",
       "        text-align: right;\n",
       "    }\n",
       "</style>\n",
       "<table border=\"1\" class=\"dataframe\">\n",
       "  <thead>\n",
       "    <tr style=\"text-align: right;\">\n",
       "      <th></th>\n",
       "      <th>id</th>\n",
       "      <th>university_code</th>\n",
       "      <th>major_code</th>\n",
       "      <th>major_name</th>\n",
       "      <th>admission_method_id</th>\n",
       "      <th>year</th>\n",
       "      <th>subject_combination</th>\n",
       "      <th>score</th>\n",
       "      <th>note</th>\n",
       "    </tr>\n",
       "  </thead>\n",
       "  <tbody>\n",
       "    <tr>\n",
       "      <th>0</th>\n",
       "      <td>763</td>\n",
       "      <td>TDTU</td>\n",
       "      <td>7580302</td>\n",
       "      <td>Quản lý xây dựng</td>\n",
       "      <td>3</td>\n",
       "      <td>2023</td>\n",
       "      <td>None</td>\n",
       "      <td>None</td>\n",
       "      <td>None</td>\n",
       "    </tr>\n",
       "  </tbody>\n",
       "</table>\n",
       "</div>"
      ],
      "text/plain": [
       "    id university_code major_code        major_name  admission_method_id  \\\n",
       "0  763            TDTU    7580302  Quản lý xây dựng                    3   \n",
       "\n",
       "   year subject_combination score  note  \n",
       "0  2023                None  None  None  "
      ]
     },
     "execution_count": 27,
     "metadata": {},
     "output_type": "execute_result"
    }
   ],
   "source": [
    "# Corrected SQL query\n",
    "query = 'SELECT * FROM admission_scores WHERE score IS NULL;'\n",
    "\n",
    "# Connect to the database and execute the query\n",
    "with sqlite3.connect(\"university_admissions.db\") as conn:\n",
    "    df = pd.read_sql_query(query, conn)\n",
    "\n",
    "# Display the result\n",
    "df"
   ]
  }
 ],
 "metadata": {
  "kernelspec": {
   "display_name": "torch",
   "language": "python",
   "name": "python3"
  },
  "language_info": {
   "codemirror_mode": {
    "name": "ipython",
    "version": 3
   },
   "file_extension": ".py",
   "mimetype": "text/x-python",
   "name": "python",
   "nbconvert_exporter": "python",
   "pygments_lexer": "ipython3",
   "version": "3.11.9"
  }
 },
 "nbformat": 4,
 "nbformat_minor": 2
}
