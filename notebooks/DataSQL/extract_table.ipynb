{
 "cells": [
  {
   "cell_type": "markdown",
   "metadata": {},
   "source": [
    "# Lib"
   ]
  },
  {
   "cell_type": "code",
   "execution_count": 52,
   "metadata": {},
   "outputs": [
    {
     "name": "stdout",
     "output_type": "stream",
     "text": [
      "Cleaned Heading 3 List:\n",
      "['Điểm chuẩn theo phương thức Điểm thi THPT năm 2024', 'Điểm chuẩn theo phương thức Điểm học bạ năm 2024', 'Điểm chuẩn theo phương thức Điểm ĐGNL HCM năm 2024', 'Điểm chuẩn theo phương thức ƯTXT, XT thẳng năm 2024', 'Điểm chuẩn theo phương thức Điểm thi THPT năm 2023', 'Điểm chuẩn theo phương thức Điểm học bạ năm 2023', 'Điểm chuẩn theo phương thức Điểm ĐGNL HCM năm 2023', 'Điểm chuẩn theo phương thức Điểm thi THPT năm 2022', 'Điểm chuẩn theo phương thức Điểm học bạ năm 2022', 'Điểm chuẩn theo phương thức Điểm ĐGNL HCM năm 2022', 'Điểm chuẩn theo phương thức Điểm thi THPT năm 2021', 'Điểm chuẩn theo phương thức Điểm ĐGNL HCM năm 2021']\n"
     ]
    }
   ],
   "source": [
    "import re\n",
    "\n",
    "# File path\n",
    "file_path = r\"E:\\LLM_clone\\Tdtu-chatbot\\notebooks\\Data Tuyển sinh\\UEH\\Điểm chuẩn.md\"\n",
    "\n",
    "# Read the file\n",
    "with open(file_path, 'r', encoding='utf-8') as file:\n",
    "    content = file.read()\n",
    "\n",
    "# Extract all Heading 3 (###) into a list\n",
    "heading_3_list = re.findall(r\"^### (.+)\", content, re.MULTILINE)\n",
    "\n",
    "# Clean the list: remove \\xa0 and ** from headings\n",
    "heading_3_list = [heading.replace('\\xa0', ' ').replace('**', '') for heading in heading_3_list]\n",
    "\n",
    "# Print the cleaned list\n",
    "print(\"Cleaned Heading 3 List:\")\n",
    "print(heading_3_list)\n",
    "\n",
    "# Optionally save to a file or use the list further\n"
   ]
  },
  {
   "cell_type": "code",
   "execution_count": 53,
   "metadata": {},
   "outputs": [
    {
     "name": "stdout",
     "output_type": "stream",
     "text": [
      "Cleaned Heading 3 List:\n",
      "['Điểm chuẩn theo phương thức Điểm thi THPT năm 2024', 'Điểm chuẩn theo phương thức Điểm học bạ năm 2024', 'Điểm chuẩn theo phương thức Điểm ĐGNL HCM năm 2024', 'Điểm chuẩn theo phương thức ƯTXT, XT thẳng năm 2024', 'Điểm chuẩn theo phương thức Điểm thi THPT năm 2023', 'Điểm chuẩn theo phương thức Điểm học bạ năm 2023', 'Điểm chuẩn theo phương thức Điểm ĐGNL HCM năm 2023', 'Điểm chuẩn theo phương thức Điểm thi THPT năm 2022', 'Điểm chuẩn theo phương thức Điểm học bạ năm 2022', 'Điểm chuẩn theo phương thức Điểm ĐGNL HCM năm 2022', 'Điểm chuẩn theo phương thức Điểm thi THPT năm 2021', 'Điểm chuẩn theo phương thức Điểm ĐGNL HCM năm 2021']\n",
      "Saved: E:\\LLM_clone\\Tdtu-chatbot\\notebooks\\Data Tuyển sinh\\UEH\\Tables\\1_Điểm_chuẩn_theo_phương_thức_Điểm_thi_THPT_năm_2024.csv\n",
      "Saved: E:\\LLM_clone\\Tdtu-chatbot\\notebooks\\Data Tuyển sinh\\UEH\\Tables\\2_Điểm_chuẩn_theo_phương_thức_Điểm_học_bạ_năm_2024.csv\n",
      "Saved: E:\\LLM_clone\\Tdtu-chatbot\\notebooks\\Data Tuyển sinh\\UEH\\Tables\\3_Điểm_chuẩn_theo_phương_thức_Điểm_ĐGNL_HCM_năm_2024.csv\n",
      "Saved: E:\\LLM_clone\\Tdtu-chatbot\\notebooks\\Data Tuyển sinh\\UEH\\Tables\\4_Điểm_chuẩn_theo_phương_thức_ƯTXT,_XT_thẳng_năm_202.csv\n",
      "Saved: E:\\LLM_clone\\Tdtu-chatbot\\notebooks\\Data Tuyển sinh\\UEH\\Tables\\5_Điểm_chuẩn_theo_phương_thức_Điểm_thi_THPT_năm_2023.csv\n",
      "Saved: E:\\LLM_clone\\Tdtu-chatbot\\notebooks\\Data Tuyển sinh\\UEH\\Tables\\6_Điểm_chuẩn_theo_phương_thức_Điểm_học_bạ_năm_2023.csv\n",
      "Saved: E:\\LLM_clone\\Tdtu-chatbot\\notebooks\\Data Tuyển sinh\\UEH\\Tables\\7_Điểm_chuẩn_theo_phương_thức_Điểm_ĐGNL_HCM_năm_2023.csv\n",
      "Saved: E:\\LLM_clone\\Tdtu-chatbot\\notebooks\\Data Tuyển sinh\\UEH\\Tables\\8_Điểm_chuẩn_theo_phương_thức_Điểm_thi_THPT_năm_2022.csv\n",
      "Saved: E:\\LLM_clone\\Tdtu-chatbot\\notebooks\\Data Tuyển sinh\\UEH\\Tables\\9_Điểm_chuẩn_theo_phương_thức_Điểm_học_bạ_năm_2022.csv\n",
      "Saved: E:\\LLM_clone\\Tdtu-chatbot\\notebooks\\Data Tuyển sinh\\UEH\\Tables\\10_Điểm_chuẩn_theo_phương_thức_Điểm_ĐGNL_HCM_năm_2022.csv\n",
      "Saved: E:\\LLM_clone\\Tdtu-chatbot\\notebooks\\Data Tuyển sinh\\UEH\\Tables\\11_Điểm_chuẩn_theo_phương_thức_Điểm_thi_THPT_năm_2021.csv\n",
      "Saved: E:\\LLM_clone\\Tdtu-chatbot\\notebooks\\Data Tuyển sinh\\UEH\\Tables\\12_Điểm_chuẩn_theo_phương_thức_Điểm_ĐGNL_HCM_năm_2021.csv\n",
      "All tables have been saved successfully!\n"
     ]
    }
   ],
   "source": [
    "import pandas as pd\n",
    "import re\n",
    "import os\n",
    "\n",
    "# File path\n",
    "file_path = r\"E:\\LLM_clone\\Tdtu-chatbot\\notebooks\\Data Tuyển sinh\\UEH\\Điểm chuẩn.md\"\n",
    "\n",
    "# Output folder\n",
    "output_folder = r\"E:\\LLM_clone\\Tdtu-chatbot\\notebooks\\Data Tuyển sinh\\UEH\\Tables\"\n",
    "os.makedirs(output_folder, exist_ok=True)  # Create folder if it doesn't exist\n",
    "\n",
    "# Read the file\n",
    "with open(file_path, 'r', encoding='utf-8') as file:\n",
    "    content = file.read()\n",
    "\n",
    "# Extract all Heading 3 (###) into a list\n",
    "heading_3_list = re.findall(r\"^### (.+)\", content, re.MULTILINE)\n",
    "\n",
    "# Clean the list: remove \\xa0 and ** from headings\n",
    "heading_3_list = [heading.replace('\\xa0', ' ').replace('**', '') for heading in heading_3_list]\n",
    "\n",
    "# Print the cleaned list\n",
    "print(\"Cleaned Heading 3 List:\")\n",
    "print(heading_3_list)\n",
    "\n",
    "# Function to parse markdown tables\n",
    "def extract_markdown_tables(content):\n",
    "    tables = []\n",
    "    matches = re.findall(r'(\\|.*?\\|\\n(?:\\|[-:|]*\\|\\n)?(?:\\|.*?\\|\\n)*)', content)\n",
    "    for match in matches:\n",
    "        rows = [row.strip().split('|')[1:-1] for row in match.strip().split('\\n') if row.startswith('|')]\n",
    "        if len(rows) > 1:  # Check for valid table\n",
    "            headers = [header.strip() for header in rows[0]]\n",
    "            data = [[cell.strip() for cell in row] for row in rows[1:]]\n",
    "            tables.append(pd.DataFrame(data, columns=headers))\n",
    "    return tables\n",
    "\n",
    "# Extract tables\n",
    "tables = extract_markdown_tables(content)\n",
    "\n",
    "# Save tables with corresponding Heading 3 as filenames\n",
    "for idx, (table, heading) in enumerate(zip(tables, heading_3_list)):\n",
    "    # Clean heading for file name (remove spaces, limit length)\n",
    "    file_name = f\"{idx+1}_{heading[:50].replace(' ', '_').replace('/', '_')}.csv\"\n",
    "    file_path = os.path.join(output_folder, file_name)\n",
    "    \n",
    "    # Save the table to a CSV file\n",
    "    table.to_csv(file_path, index=False)\n",
    "    print(f\"Saved: {file_path}\")\n",
    "\n",
    "print(\"All tables have been saved successfully!\")\n"
   ]
  },
  {
   "cell_type": "markdown",
   "metadata": {},
   "source": [
    "# Extract final UEH"
   ]
  },
  {
   "cell_type": "code",
   "execution_count": 22,
   "metadata": {},
   "outputs": [
    {
     "name": "stdout",
     "output_type": "stream",
     "text": [
      "Saved: E:\\LLM_clone\\Tdtu-chatbot\\notebooks\\Data Tuyển sinh\\UEH\\Tables\\1_Điểm_chuẩn_theo_phương_thức_Điểm_thi_THPT_năm_2024.xlsx\n",
      "Saved: E:\\LLM_clone\\Tdtu-chatbot\\notebooks\\Data Tuyển sinh\\UEH\\Tables\\2_Điểm_chuẩn_theo_phương_thức_Điểm_học_bạ_năm_2024.xlsx\n",
      "Saved: E:\\LLM_clone\\Tdtu-chatbot\\notebooks\\Data Tuyển sinh\\UEH\\Tables\\3_Điểm_chuẩn_theo_phương_thức_Điểm_ĐGNL_HCM_năm_2024.xlsx\n",
      "Saved: E:\\LLM_clone\\Tdtu-chatbot\\notebooks\\Data Tuyển sinh\\UEH\\Tables\\4_Điểm_chuẩn_theo_phương_thức_ƯTXT,_XT_thẳng_năm_202.xlsx\n",
      "Saved: E:\\LLM_clone\\Tdtu-chatbot\\notebooks\\Data Tuyển sinh\\UEH\\Tables\\5_Điểm_chuẩn_theo_phương_thức_Điểm_thi_THPT_năm_2023.xlsx\n",
      "Saved: E:\\LLM_clone\\Tdtu-chatbot\\notebooks\\Data Tuyển sinh\\UEH\\Tables\\6_Điểm_chuẩn_theo_phương_thức_Điểm_học_bạ_năm_2023.xlsx\n",
      "Saved: E:\\LLM_clone\\Tdtu-chatbot\\notebooks\\Data Tuyển sinh\\UEH\\Tables\\7_Điểm_chuẩn_theo_phương_thức_Điểm_ĐGNL_HCM_năm_2023.xlsx\n",
      "Saved: E:\\LLM_clone\\Tdtu-chatbot\\notebooks\\Data Tuyển sinh\\UEH\\Tables\\8_Điểm_chuẩn_theo_phương_thức_Điểm_thi_THPT_năm_2022.xlsx\n",
      "Saved: E:\\LLM_clone\\Tdtu-chatbot\\notebooks\\Data Tuyển sinh\\UEH\\Tables\\9_Điểm_chuẩn_theo_phương_thức_Điểm_học_bạ_năm_2022.xlsx\n",
      "Saved: E:\\LLM_clone\\Tdtu-chatbot\\notebooks\\Data Tuyển sinh\\UEH\\Tables\\10_Điểm_chuẩn_theo_phương_thức_Điểm_ĐGNL_HCM_năm_2022.xlsx\n",
      "Saved: E:\\LLM_clone\\Tdtu-chatbot\\notebooks\\Data Tuyển sinh\\UEH\\Tables\\11_Điểm_chuẩn_theo_phương_thức_Điểm_thi_THPT_năm_2021.xlsx\n",
      "Saved: E:\\LLM_clone\\Tdtu-chatbot\\notebooks\\Data Tuyển sinh\\UEH\\Tables\\12_Điểm_chuẩn_theo_phương_thức_Điểm_ĐGNL_HCM_năm_2021.xlsx\n",
      "All tables have been saved successfully!\n"
     ]
    }
   ],
   "source": [
    "import pandas as pd\n",
    "import re\n",
    "import os\n",
    "\n",
    "# File path\n",
    "file_path = r\"E:\\LLM_clone\\Tdtu-chatbot\\notebooks\\Data Tuyển sinh\\UEH\\Điểm chuẩn.md\"\n",
    "\n",
    "# Output folder\n",
    "output_folder = r\"E:\\LLM_clone\\Tdtu-chatbot\\notebooks\\Data Tuyển sinh\\UEH\\Tables\"\n",
    "os.makedirs(output_folder, exist_ok=True)  # Create folder if it doesn't exist\n",
    "\n",
    "# Read the file\n",
    "with open(file_path, 'r', encoding='utf-8') as file:\n",
    "    content = file.read()\n",
    "\n",
    "# Extract all Heading 3 (###) into a list\n",
    "heading_3_list = re.findall(r\"^### (.+)\", content, re.MULTILINE)\n",
    "\n",
    "# Clean the list: remove \\xa0 and ** from headings\n",
    "heading_3_list = [heading.replace('\\xa0', ' ').replace('**', '') for heading in heading_3_list]\n",
    "\n",
    "# Function to parse markdown tables\n",
    "def extract_markdown_tables(content):\n",
    "    tables = []\n",
    "    matches = re.findall(r'(\\|.*?\\|\\n(?:\\|[-:|]*\\|\\n)?(?:\\|.*?\\|\\n)*)', content)\n",
    "    for match in matches:\n",
    "        rows = [row.strip().split('|')[1:-1] for row in match.strip().split('\\n') if row.startswith('|')]\n",
    "        if len(rows) > 1:  # Check for valid table\n",
    "            # Remove the second row (separator row)\n",
    "            rows.pop(1)\n",
    "            headers = [header.strip() for header in rows[0]]\n",
    "            data = [[cell.strip() for cell in row] for row in rows[1:]]\n",
    "            tables.append(pd.DataFrame(data, columns=headers))\n",
    "    return tables\n",
    "\n",
    "# Extract tables\n",
    "tables = extract_markdown_tables(content)   \n",
    "\n",
    "# Save tables with corresponding Heading 3 as filenames in .xlsx format\n",
    "for idx, (table, heading) in enumerate(zip(tables, heading_3_list)):\n",
    "    # Clean heading for file name (remove spaces, limit length)\n",
    "    file_name = f\"{idx+1}_{heading[:50].replace(' ', '_').replace('/', '_')}.xlsx\"\n",
    "    file_path = os.path.join(output_folder, file_name)\n",
    "    \n",
    "    # Save the table to an Excel file\n",
    "    table.to_excel(file_path, index=False, engine='openpyxl')\n",
    "    print(f\"Saved: {file_path}\")\n",
    "\n",
    "print(\"All tables have been saved successfully!\")\n"
   ]
  },
  {
   "cell_type": "markdown",
   "metadata": {},
   "source": [
    "### UEH\n",
    "- https://dbdiagram.io/d\n",
    "- Có 12 trường \n",
    "- Mình đang tính làm sql db về các trường. Bạn giúp mình hướng thiết kế về db đó đi\n",
    "STT,Mã ngành,Tên ngành,Tổ hợp môn,Điểm chuẩn,Ghi chú"
   ]
  },
  {
   "cell_type": "markdown",
   "metadata": {},
   "source": [
    "# TDTU_2021"
   ]
  },
  {
   "cell_type": "code",
   "execution_count": 55,
   "metadata": {},
   "outputs": [],
   "source": [
    "import pandas as pd\n",
    "import re\n",
    "import os\n",
    "\n",
    "# File path\n",
    "file_path = r\"E:\\LLM_clone\\Tdtu-chatbot\\notebooks\\Data Tuyển sinh\\TDTU\\2021_điểm chuẩn.md\"\n",
    "\n",
    "# Output folder\n",
    "output_folder = r\"E:\\LLM_clone\\Tdtu-chatbot\\notebooks\\Data Tuyển sinh\\TDTU\\Tables\\2021\"\n",
    "os.makedirs(output_folder, exist_ok=True)  # Create folder if it doesn't exist\n",
    "\n",
    "# Read the file\n",
    "with open(file_path, 'r', encoding='utf-8') as file:\n",
    "    content = file.read()\n",
    "\n",
    "# Extract all Heading 3 (###) into a list\n",
    "heading_3_list = re.findall(r\"^### (.+)\", content, re.MULTILINE)\n",
    "\n",
    "# Clean the list: remove \\xa0 and ** from headings\n",
    "heading_3_list = [heading.replace('\\xa0', ' ').replace('**', '') for heading in heading_3_list]\n",
    "\n",
    "# Function to parse markdown tables\n",
    "def extract_markdown_tables(content):\n",
    "    tables = []\n",
    "    matches = re.findall(r'(\\|.*?\\|\\n(?:\\|[-:|]*\\|\\n)?(?:\\|.*?\\|\\n)*)', content)\n",
    "    for match in matches:\n",
    "        rows = [row.strip().split('|')[1:-1] for row in match.strip().split('\\n') if row.startswith('|')]\n",
    "        if len(rows) > 1:  # Check for valid table\n",
    "            # Remove the second row (separator row)\n",
    "            rows.pop(1)\n",
    "            headers = [header.strip() for header in rows[0]]\n",
    "            data = [[cell.strip() for cell in row] for row in rows[1:]]\n",
    "            tables.append(pd.DataFrame(data, columns=headers))\n",
    "    return tables\n",
    "\n",
    "# Extract tables\n",
    "tables = extract_markdown_tables(content)   \n"
   ]
  },
  {
   "cell_type": "code",
   "execution_count": 56,
   "metadata": {},
   "outputs": [
    {
     "data": {
      "text/plain": [
       "6"
      ]
     },
     "execution_count": 56,
     "metadata": {},
     "output_type": "execute_result"
    }
   ],
   "source": [
    "len(tables)"
   ]
  },
  {
   "cell_type": "code",
   "execution_count": 57,
   "metadata": {},
   "outputs": [
    {
     "data": {
      "text/html": [
       "<div>\n",
       "<style scoped>\n",
       "    .dataframe tbody tr th:only-of-type {\n",
       "        vertical-align: middle;\n",
       "    }\n",
       "\n",
       "    .dataframe tbody tr th {\n",
       "        vertical-align: top;\n",
       "    }\n",
       "\n",
       "    .dataframe thead th {\n",
       "        text-align: right;\n",
       "    }\n",
       "</style>\n",
       "<table border=\"1\" class=\"dataframe\">\n",
       "  <thead>\n",
       "    <tr style=\"text-align: right;\">\n",
       "      <th></th>\n",
       "      <th>TT</th>\n",
       "      <th>Mã ngành</th>\n",
       "      <th>Tên ngành</th>\n",
       "      <th>Tổ hợp xét tuyển</th>\n",
       "      <th>Môn nhân hệ số 2, điều kiện</th>\n",
       "      <th>Điểm trúng tuyển(theo thang điểm 40)</th>\n",
       "      <th>Ghi chú</th>\n",
       "    </tr>\n",
       "  </thead>\n",
       "  <tbody>\n",
       "    <tr>\n",
       "      <th>0</th>\n",
       "      <td>1</td>\n",
       "      <td>7220201</td>\n",
       "      <td>Ngôn ngữ Anh</td>\n",
       "      <td>D01; D11</td>\n",
       "      <td>Anh</td>\n",
       "      <td>35,60</td>\n",
       "      <td>Môn nhân hệ số 2, điều kiện: Anh&lt;br&gt;&lt;br&gt;Điểm t...</td>\n",
       "    </tr>\n",
       "    <tr>\n",
       "      <th>1</th>\n",
       "      <td>2</td>\n",
       "      <td>7310630</td>\n",
       "      <td>Việt Nam học (Chuyên ngành: Du lịch và lữ hành)</td>\n",
       "      <td>A01; C00; C01; D01</td>\n",
       "      <td>A01, D01: Anh C00, C01: Văn</td>\n",
       "      <td>33,30</td>\n",
       "      <td></td>\n",
       "    </tr>\n",
       "    <tr>\n",
       "      <th>2</th>\n",
       "      <td>3</td>\n",
       "      <td>7310630Q</td>\n",
       "      <td>Việt Nam học (Chuyên ngành: Du lịch và quản lý...</td>\n",
       "      <td>A01; C00; C01; D01</td>\n",
       "      <td>A01, D01: Anh C00, C01: Văn</td>\n",
       "      <td>34,20</td>\n",
       "      <td></td>\n",
       "    </tr>\n",
       "    <tr>\n",
       "      <th>3</th>\n",
       "      <td>4</td>\n",
       "      <td>7340101</td>\n",
       "      <td>Quản trị kinh doanh (Chuyên ngành: Quản trị ng...</td>\n",
       "      <td>A00; A01; D01</td>\n",
       "      <td>A00: Toán, A01, D01: Anh</td>\n",
       "      <td>36,00</td>\n",
       "      <td></td>\n",
       "    </tr>\n",
       "    <tr>\n",
       "      <th>4</th>\n",
       "      <td>5</td>\n",
       "      <td>7340115</td>\n",
       "      <td>Marketing</td>\n",
       "      <td>A00; A01; D01</td>\n",
       "      <td>A00: Toán, A01, D01: Anh</td>\n",
       "      <td>36,90</td>\n",
       "      <td></td>\n",
       "    </tr>\n",
       "  </tbody>\n",
       "</table>\n",
       "</div>"
      ],
      "text/plain": [
       "  TT  Mã ngành                                          Tên ngành  \\\n",
       "0  1   7220201                                       Ngôn ngữ Anh   \n",
       "1  2   7310630    Việt Nam học (Chuyên ngành: Du lịch và lữ hành)   \n",
       "2  3  7310630Q  Việt Nam học (Chuyên ngành: Du lịch và quản lý...   \n",
       "3  4   7340101  Quản trị kinh doanh (Chuyên ngành: Quản trị ng...   \n",
       "4  5   7340115                                          Marketing   \n",
       "\n",
       "     Tổ hợp xét tuyển  Môn nhân hệ số 2, điều kiện  \\\n",
       "0            D01; D11                          Anh   \n",
       "1  A01; C00; C01; D01  A01, D01: Anh C00, C01: Văn   \n",
       "2  A01; C00; C01; D01  A01, D01: Anh C00, C01: Văn   \n",
       "3       A00; A01; D01     A00: Toán, A01, D01: Anh   \n",
       "4       A00; A01; D01     A00: Toán, A01, D01: Anh   \n",
       "\n",
       "  Điểm trúng tuyển(theo thang điểm 40)  \\\n",
       "0                                35,60   \n",
       "1                                33,30   \n",
       "2                                34,20   \n",
       "3                                36,00   \n",
       "4                                36,90   \n",
       "\n",
       "                                             Ghi chú  \n",
       "0  Môn nhân hệ số 2, điều kiện: Anh<br><br>Điểm t...  \n",
       "1                                                     \n",
       "2                                                     \n",
       "3                                                     \n",
       "4                                                     "
      ]
     },
     "execution_count": 57,
     "metadata": {},
     "output_type": "execute_result"
    }
   ],
   "source": [
    "pd.DataFrame(tables[0][:5])"
   ]
  },
  {
   "cell_type": "code",
   "execution_count": 58,
   "metadata": {},
   "outputs": [],
   "source": [
    "df_1 = tables[0]\n",
    "df_1.columns\n",
    "df_1[\"Ghi chú\"] = \"Môn nhân hệ số 2, điều kiện: \" + df_1[\"Môn nhân hệ số 2, điều kiện\"] + \\\n",
    "                \"\\n \" + \"Điểm trúng tuyển(theo thang điểm 40)\"\n",
    "\n",
    "df_1 = df_1.drop(columns=[\"Môn nhân hệ số 2, điều kiện\"])\n",
    "df_1 = df_1.rename(columns={\"Điểm trúng tuyển(theo thang điểm 40)\": \"Điểm chuẩn\"})"
   ]
  },
  {
   "cell_type": "code",
   "execution_count": 59,
   "metadata": {},
   "outputs": [
    {
     "name": "stdout",
     "output_type": "stream",
     "text": [
      "File đã được lưu tại: E:\\LLM_clone\\Tdtu-chatbot\\notebooks\\Data Tuyển sinh\\TDTU\\Tables\\2021\\1_2021_TDTU.xlsx\n"
     ]
    }
   ],
   "source": [
    "# Định nghĩa đường dẫn và tên tệp\n",
    "output_path = r\"E:\\LLM_clone\\Tdtu-chatbot\\notebooks\\Data Tuyển sinh\\TDTU\\Tables\\2021\"\n",
    "filename = \"1_2021_TDTU.xlsx\"\n",
    "\n",
    "# Lưu lại DataFrame dưới dạng file Excel\n",
    "full_output_path = f\"{output_path}\\{filename}\"\n",
    "df_1.to_excel(full_output_path, index=False)\n",
    "print(f\"File đã được lưu tại: {full_output_path}\")"
   ]
  },
  {
   "cell_type": "markdown",
   "metadata": {},
   "source": [
    "## tab2"
   ]
  },
  {
   "cell_type": "code",
   "execution_count": 60,
   "metadata": {},
   "outputs": [
    {
     "data": {
      "text/plain": [
       "Index(['STT', 'Mã ngành', 'Tên ngành', 'Tổ hợp', 'Điểm đạt sơ tuyển ĐT1',\n",
       "       'Điểm đạt sơ tuyển ĐT2', 'Ghi chú'],\n",
       "      dtype='object')"
      ]
     },
     "execution_count": 60,
     "metadata": {},
     "output_type": "execute_result"
    }
   ],
   "source": [
    "df_2 = tables[1]\n",
    "df_2.columns"
   ]
  },
  {
   "cell_type": "code",
   "execution_count": 61,
   "metadata": {},
   "outputs": [],
   "source": [
    "# Tách dữ liệu thành hai DataFrame riêng\n",
    "df_2_1 = df_2[['STT', 'Mã ngành', 'Tên ngành', 'Tổ hợp', 'Điểm đạt sơ tuyển ĐT1', 'Ghi chú']].copy()\n",
    "df_2_1 = df_2_1.rename(columns={\"Điểm đạt sơ tuyển ĐT1\": \"Điểm chuẩn\"})\n",
    "\n",
    "#\n",
    "df_2_2 = df_2[['STT', 'Mã ngành', 'Tên ngành', 'Tổ hợp', 'Điểm đạt sơ tuyển ĐT2', 'Ghi chú']].copy()\n",
    "df_2_2 = df_2_2.rename(columns={\"Điểm đạt sơ tuyển ĐT2\": \"Điểm chuẩn\"})"
   ]
  },
  {
   "cell_type": "code",
   "execution_count": 62,
   "metadata": {},
   "outputs": [
    {
     "data": {
      "text/html": [
       "<div>\n",
       "<style scoped>\n",
       "    .dataframe tbody tr th:only-of-type {\n",
       "        vertical-align: middle;\n",
       "    }\n",
       "\n",
       "    .dataframe tbody tr th {\n",
       "        vertical-align: top;\n",
       "    }\n",
       "\n",
       "    .dataframe thead th {\n",
       "        text-align: right;\n",
       "    }\n",
       "</style>\n",
       "<table border=\"1\" class=\"dataframe\">\n",
       "  <thead>\n",
       "    <tr style=\"text-align: right;\">\n",
       "      <th></th>\n",
       "      <th>STT</th>\n",
       "      <th>Mã ngành</th>\n",
       "      <th>Tên ngành</th>\n",
       "      <th>Tổ hợp</th>\n",
       "      <th>Điểm chuẩn</th>\n",
       "      <th>Ghi chú</th>\n",
       "    </tr>\n",
       "  </thead>\n",
       "  <tbody>\n",
       "    <tr>\n",
       "      <th>0</th>\n",
       "      <td>1</td>\n",
       "      <td>7220201</td>\n",
       "      <td>Ngôn ngữ Anh</td>\n",
       "      <td>Toán, Văn, Anh*2</td>\n",
       "      <td>36,00</td>\n",
       "      <td></td>\n",
       "    </tr>\n",
       "    <tr>\n",
       "      <th>1</th>\n",
       "      <td>2</td>\n",
       "      <td>7220204</td>\n",
       "      <td>Ngôn ngữ Trung Quốc</td>\n",
       "      <td>Toán, Văn, Anh*2</td>\n",
       "      <td>35,00</td>\n",
       "      <td></td>\n",
       "    </tr>\n",
       "    <tr>\n",
       "      <th>2</th>\n",
       "      <td>3</td>\n",
       "      <td>7310301</td>\n",
       "      <td>Xã hội học</td>\n",
       "      <td>Văn*2, Anh, Sử</td>\n",
       "      <td>31,00</td>\n",
       "      <td></td>\n",
       "    </tr>\n",
       "    <tr>\n",
       "      <th>3</th>\n",
       "      <td>4</td>\n",
       "      <td>7310630</td>\n",
       "      <td>Việt Nam học _(Chuyên ngành: Du lịch và lữ hành)_</td>\n",
       "      <td>Văn*2, Anh, Sử</td>\n",
       "      <td>33,50</td>\n",
       "      <td></td>\n",
       "    </tr>\n",
       "    <tr>\n",
       "      <th>4</th>\n",
       "      <td>5</td>\n",
       "      <td>7310630Q</td>\n",
       "      <td>Việt Nam học _(Chuyên ngành: Du lịch và quản l...</td>\n",
       "      <td>Văn*2, Anh, Sử</td>\n",
       "      <td>33,50</td>\n",
       "      <td></td>\n",
       "    </tr>\n",
       "  </tbody>\n",
       "</table>\n",
       "</div>"
      ],
      "text/plain": [
       "  STT  Mã ngành                                          Tên ngành  \\\n",
       "0   1   7220201                                       Ngôn ngữ Anh   \n",
       "1   2   7220204                                Ngôn ngữ Trung Quốc   \n",
       "2   3   7310301                                         Xã hội học   \n",
       "3   4   7310630  Việt Nam học _(Chuyên ngành: Du lịch và lữ hành)_   \n",
       "4   5  7310630Q  Việt Nam học _(Chuyên ngành: Du lịch và quản l...   \n",
       "\n",
       "             Tổ hợp Điểm chuẩn Ghi chú  \n",
       "0  Toán, Văn, Anh*2      36,00          \n",
       "1  Toán, Văn, Anh*2      35,00          \n",
       "2    Văn*2, Anh, Sử      31,00          \n",
       "3    Văn*2, Anh, Sử      33,50          \n",
       "4    Văn*2, Anh, Sử      33,50          "
      ]
     },
     "execution_count": 62,
     "metadata": {},
     "output_type": "execute_result"
    }
   ],
   "source": [
    "df_2_1[:5]"
   ]
  },
  {
   "cell_type": "code",
   "execution_count": 63,
   "metadata": {},
   "outputs": [
    {
     "data": {
      "text/html": [
       "<div>\n",
       "<style scoped>\n",
       "    .dataframe tbody tr th:only-of-type {\n",
       "        vertical-align: middle;\n",
       "    }\n",
       "\n",
       "    .dataframe tbody tr th {\n",
       "        vertical-align: top;\n",
       "    }\n",
       "\n",
       "    .dataframe thead th {\n",
       "        text-align: right;\n",
       "    }\n",
       "</style>\n",
       "<table border=\"1\" class=\"dataframe\">\n",
       "  <thead>\n",
       "    <tr style=\"text-align: right;\">\n",
       "      <th></th>\n",
       "      <th>STT</th>\n",
       "      <th>Mã ngành</th>\n",
       "      <th>Tên ngành</th>\n",
       "      <th>Tổ hợp</th>\n",
       "      <th>Điểm chuẩn</th>\n",
       "      <th>Ghi chú</th>\n",
       "    </tr>\n",
       "  </thead>\n",
       "  <tbody>\n",
       "    <tr>\n",
       "      <th>59</th>\n",
       "      <td>8</td>\n",
       "      <td>FA7420201</td>\n",
       "      <td>Công nghệ sinh học - Chương trình đại học bằng...</td>\n",
       "      <td></td>\n",
       "      <td>30,00</td>\n",
       "      <td>1. Đối tượng 1: (ĐTB HK1 L10 + ĐTB HK2 L10 + Đ...</td>\n",
       "    </tr>\n",
       "    <tr>\n",
       "      <th>60</th>\n",
       "      <td>9</td>\n",
       "      <td>FA7480101</td>\n",
       "      <td>Khoa học máy tính - Chương trình đại học bằng ...</td>\n",
       "      <td></td>\n",
       "      <td>30,00</td>\n",
       "      <td>1. Đối tượng 1: (ĐTB HK1 L10 + ĐTB HK2 L10 + Đ...</td>\n",
       "    </tr>\n",
       "    <tr>\n",
       "      <th>61</th>\n",
       "      <td>10</td>\n",
       "      <td>FA7480103</td>\n",
       "      <td>Kỹ thuật phần mềm - Chương trình đại học bằng ...</td>\n",
       "      <td></td>\n",
       "      <td>30,00</td>\n",
       "      <td>1. Đối tượng 1: (ĐTB HK1 L10 + ĐTB HK2 L10 + Đ...</td>\n",
       "    </tr>\n",
       "    <tr>\n",
       "      <th>62</th>\n",
       "      <td>11</td>\n",
       "      <td>FA7520216</td>\n",
       "      <td>Kỹ thuật điều khiển và tự động hóa - Chương tr...</td>\n",
       "      <td></td>\n",
       "      <td>30,00</td>\n",
       "      <td>1. Đối tượng 1: (ĐTB HK1 L10 + ĐTB HK2 L10 + Đ...</td>\n",
       "    </tr>\n",
       "    <tr>\n",
       "      <th>63</th>\n",
       "      <td>12</td>\n",
       "      <td>FA7580201</td>\n",
       "      <td>Kỹ thuật xây dựng - Chương trình đại học bằng ...</td>\n",
       "      <td></td>\n",
       "      <td>30,00</td>\n",
       "      <td>1. Đối tượng 1: (ĐTB HK1 L10 + ĐTB HK2 L10 + Đ...</td>\n",
       "    </tr>\n",
       "  </tbody>\n",
       "</table>\n",
       "</div>"
      ],
      "text/plain": [
       "   STT   Mã ngành                                          Tên ngành Tổ hợp  \\\n",
       "59   8  FA7420201  Công nghệ sinh học - Chương trình đại học bằng...          \n",
       "60   9  FA7480101  Khoa học máy tính - Chương trình đại học bằng ...          \n",
       "61  10  FA7480103  Kỹ thuật phần mềm - Chương trình đại học bằng ...          \n",
       "62  11  FA7520216  Kỹ thuật điều khiển và tự động hóa - Chương tr...          \n",
       "63  12  FA7580201  Kỹ thuật xây dựng - Chương trình đại học bằng ...          \n",
       "\n",
       "   Điểm chuẩn                                            Ghi chú  \n",
       "59      30,00  1. Đối tượng 1: (ĐTB HK1 L10 + ĐTB HK2 L10 + Đ...  \n",
       "60      30,00  1. Đối tượng 1: (ĐTB HK1 L10 + ĐTB HK2 L10 + Đ...  \n",
       "61      30,00  1. Đối tượng 1: (ĐTB HK1 L10 + ĐTB HK2 L10 + Đ...  \n",
       "62      30,00  1. Đối tượng 1: (ĐTB HK1 L10 + ĐTB HK2 L10 + Đ...  \n",
       "63      30,00  1. Đối tượng 1: (ĐTB HK1 L10 + ĐTB HK2 L10 + Đ...  "
      ]
     },
     "execution_count": 63,
     "metadata": {},
     "output_type": "execute_result"
    }
   ],
   "source": [
    "df_2_2[-5:]"
   ]
  },
  {
   "cell_type": "code",
   "execution_count": 64,
   "metadata": {},
   "outputs": [
    {
     "name": "stdout",
     "output_type": "stream",
     "text": [
      "File đã được lưu tại: E:\\LLM_clone\\Tdtu-chatbot\\notebooks\\Data Tuyển sinh\\TDTU\\Tables\\2021\\5_2021_TDTU.xlsx\n",
      "File đã được lưu tại: E:\\LLM_clone\\Tdtu-chatbot\\notebooks\\Data Tuyển sinh\\TDTU\\Tables\\2021\\6_2021_TDTU.xlsx\n"
     ]
    }
   ],
   "source": [
    "# Định nghĩa đường dẫn và tên tệp\n",
    "output_path = r\"E:\\LLM_clone\\Tdtu-chatbot\\notebooks\\Data Tuyển sinh\\TDTU\\Tables\\2021\"\n",
    "filename1 = \"5_2021_TDTU.xlsx\"\n",
    "filename2 = \"6_2021_TDTU.xlsx\"\n",
    "\n",
    "# Lưu lại DataFrame dưới dạng file Excel\n",
    "full_output_path = f\"{output_path}\\{filename1}\"\n",
    "df_2_1.to_excel(full_output_path, index=False)\n",
    "print(f\"File đã được lưu tại: {full_output_path}\")\n",
    "\n",
    "full_output_path = f\"{output_path}\\{filename2}\"\n",
    "df_2_2.to_excel(full_output_path, index=False)\n",
    "print(f\"File đã được lưu tại: {full_output_path}\")"
   ]
  },
  {
   "cell_type": "markdown",
   "metadata": {},
   "source": [
    "## Tab3"
   ]
  },
  {
   "cell_type": "code",
   "execution_count": 65,
   "metadata": {},
   "outputs": [
    {
     "data": {
      "text/plain": [
       "Index(['STT', 'Mã ngành', 'Tên ngành', 'Tổ hợp', 'Điểm đạt sơ tuyển'], dtype='object')"
      ]
     },
     "execution_count": 65,
     "metadata": {},
     "output_type": "execute_result"
    }
   ],
   "source": [
    "df_3 = tables[2]\n",
    "df_3.columns"
   ]
  },
  {
   "cell_type": "code",
   "execution_count": 66,
   "metadata": {},
   "outputs": [],
   "source": [
    "df_3[\"Ghi chú\"] = \"Điểm trúng tuyển(theo thang điểm 40)\"\n",
    "\n",
    "df_3 = df_3.rename(columns={\"Điểm đạt sơ tuyển\": \"Điểm chuẩn\"})"
   ]
  },
  {
   "cell_type": "code",
   "execution_count": 67,
   "metadata": {},
   "outputs": [],
   "source": [
    "df_4 = tables[3]\n",
    "df_4.columns\n",
    "\n",
    "df_4 = df_4.rename(columns={\"Điểm đạt sơ tuyển ĐT1\": \"Điểm chuẩn\"})\n",
    "df_4[\"Ghi chú\"] =  \"(ĐTB HK1 L10 + ĐTB HK2 L10 + ĐTB HK1 L11 + ĐTB HK2 L11 + ĐTB HK1 L12) * 4/5 + Điểm ưu tiên theo trường THPT (nếu có) + Điểm ưu tiên đối tượng, khu vực (nếu có) \\n\" \\\n",
    " +\" Điểm trúng tuyển(theo thang điểm 40)\""
   ]
  },
  {
   "cell_type": "code",
   "execution_count": 68,
   "metadata": {},
   "outputs": [
    {
     "data": {
      "text/html": [
       "<div>\n",
       "<style scoped>\n",
       "    .dataframe tbody tr th:only-of-type {\n",
       "        vertical-align: middle;\n",
       "    }\n",
       "\n",
       "    .dataframe tbody tr th {\n",
       "        vertical-align: top;\n",
       "    }\n",
       "\n",
       "    .dataframe thead th {\n",
       "        text-align: right;\n",
       "    }\n",
       "</style>\n",
       "<table border=\"1\" class=\"dataframe\">\n",
       "  <thead>\n",
       "    <tr style=\"text-align: right;\">\n",
       "      <th></th>\n",
       "      <th>STT</th>\n",
       "      <th>Mã ngành</th>\n",
       "      <th>Tên ngành</th>\n",
       "      <th>Tổ hợp</th>\n",
       "      <th>Điểm chuẩn</th>\n",
       "      <th>Ghi chú</th>\n",
       "    </tr>\n",
       "  </thead>\n",
       "  <tbody>\n",
       "    <tr>\n",
       "      <th>50</th>\n",
       "      <td>15</td>\n",
       "      <td>F7520216</td>\n",
       "      <td>Kỹ thuật điều khiển và tự động hóa - Chất lượn...</td>\n",
       "      <td>Toán*2, Anh, Lý</td>\n",
       "      <td>27,00</td>\n",
       "      <td>Điểm trúng tuyển(theo thang điểm 40)</td>\n",
       "    </tr>\n",
       "    <tr>\n",
       "      <th>51</th>\n",
       "      <td>16</td>\n",
       "      <td>F7580201</td>\n",
       "      <td>Kỹ thuật xây dựng - Chất lượng cao</td>\n",
       "      <td>Toán*2, Anh, Lý</td>\n",
       "      <td>27,00</td>\n",
       "      <td>Điểm trúng tuyển(theo thang điểm 40)</td>\n",
       "    </tr>\n",
       "    <tr>\n",
       "      <th>0</th>\n",
       "      <td>1</td>\n",
       "      <td>FA7220201</td>\n",
       "      <td>Ngôn ngữ Anh _- Chương trình đại học bằng tiến...</td>\n",
       "      <td>NaN</td>\n",
       "      <td>32,00</td>\n",
       "      <td>(ĐTB HK1 L10 + ĐTB HK2 L10 + ĐTB HK1 L11 + ĐTB...</td>\n",
       "    </tr>\n",
       "    <tr>\n",
       "      <th>1</th>\n",
       "      <td>2</td>\n",
       "      <td>FA7310630Q</td>\n",
       "      <td>Việt Nam học _(Chuyên ngành: Du lịch và Quản l...</td>\n",
       "      <td>NaN</td>\n",
       "      <td>27,00</td>\n",
       "      <td>(ĐTB HK1 L10 + ĐTB HK2 L10 + ĐTB HK1 L11 + ĐTB...</td>\n",
       "    </tr>\n",
       "    <tr>\n",
       "      <th>2</th>\n",
       "      <td>3</td>\n",
       "      <td>FA7340101N</td>\n",
       "      <td>Quản trị kinh doanh _(Chuyên ngành: Quản trị n...</td>\n",
       "      <td>NaN</td>\n",
       "      <td>32,00</td>\n",
       "      <td>(ĐTB HK1 L10 + ĐTB HK2 L10 + ĐTB HK1 L11 + ĐTB...</td>\n",
       "    </tr>\n",
       "  </tbody>\n",
       "</table>\n",
       "</div>"
      ],
      "text/plain": [
       "   STT    Mã ngành                                          Tên ngành  \\\n",
       "50  15    F7520216  Kỹ thuật điều khiển và tự động hóa - Chất lượn...   \n",
       "51  16    F7580201                 Kỹ thuật xây dựng - Chất lượng cao   \n",
       "0    1   FA7220201  Ngôn ngữ Anh _- Chương trình đại học bằng tiến...   \n",
       "1    2  FA7310630Q  Việt Nam học _(Chuyên ngành: Du lịch và Quản l...   \n",
       "2    3  FA7340101N  Quản trị kinh doanh _(Chuyên ngành: Quản trị n...   \n",
       "\n",
       "             Tổ hợp Điểm chuẩn  \\\n",
       "50  Toán*2, Anh, Lý      27,00   \n",
       "51  Toán*2, Anh, Lý      27,00   \n",
       "0               NaN      32,00   \n",
       "1               NaN      27,00   \n",
       "2               NaN      32,00   \n",
       "\n",
       "                                              Ghi chú  \n",
       "50               Điểm trúng tuyển(theo thang điểm 40)  \n",
       "51               Điểm trúng tuyển(theo thang điểm 40)  \n",
       "0   (ĐTB HK1 L10 + ĐTB HK2 L10 + ĐTB HK1 L11 + ĐTB...  \n",
       "1   (ĐTB HK1 L10 + ĐTB HK2 L10 + ĐTB HK1 L11 + ĐTB...  \n",
       "2   (ĐTB HK1 L10 + ĐTB HK2 L10 + ĐTB HK1 L11 + ĐTB...  "
      ]
     },
     "execution_count": 68,
     "metadata": {},
     "output_type": "execute_result"
    }
   ],
   "source": [
    "df_34 = pd.concat([df_3, df_4], axis=0)\n",
    "df_34[50:55]"
   ]
  },
  {
   "cell_type": "code",
   "execution_count": 69,
   "metadata": {},
   "outputs": [
    {
     "name": "stdout",
     "output_type": "stream",
     "text": [
      "File đã được lưu tại: E:\\LLM_clone\\Tdtu-chatbot\\notebooks\\Data Tuyển sinh\\TDTU\\Tables\\2021\\2_2021_TDTU.xlsx\n"
     ]
    }
   ],
   "source": [
    "# Định nghĩa đường dẫn và tên tệp\n",
    "output_path = r\"E:\\LLM_clone\\Tdtu-chatbot\\notebooks\\Data Tuyển sinh\\TDTU\\Tables\\2021\"\n",
    "filename = \"2_2021_TDTU.xlsx\"\n",
    "\n",
    "# Lưu lại DataFrame dưới dạng file Excel\n",
    "full_output_path = f\"{output_path}\\{filename}\"\n",
    "df_34.to_excel(full_output_path, index=False)\n",
    "print(f\"File đã được lưu tại: {full_output_path}\")"
   ]
  },
  {
   "cell_type": "markdown",
   "metadata": {},
   "source": [
    "## tab 5"
   ]
  },
  {
   "cell_type": "code",
   "execution_count": 70,
   "metadata": {},
   "outputs": [],
   "source": [
    "df_5 = tables[4] \n",
    "df_5.columns\n",
    "\n",
    "df_5[\"Ghi chú\"] =  \"Điểm trúng tuyển(theo thang điểm 40)\""
   ]
  },
  {
   "cell_type": "markdown",
   "metadata": {},
   "source": [
    "## Tab 6"
   ]
  },
  {
   "cell_type": "code",
   "execution_count": 71,
   "metadata": {},
   "outputs": [],
   "source": [
    "df_6 = tables[5] \n",
    "df_6.columns\n",
    "\n",
    "df_6[\"Ghi chú\"] =  \"(ĐTB HK1 L10 + ĐTB HK2 L10 + ĐTB HK1 L11 + ĐTB HK2 L11 + ĐTB HK1 L12 + ĐTB HK2 L12) * 2/3 + Điểm ưu tiên theo trường THPT (nếu có) + Điểm ưu tiên đối tượng, khu vực (nếu có)\"\n",
    "df_6 = df_6.rename(columns={\"Điểm đạt trúng tuyển\": \"Điểm chuẩn\"})"
   ]
  },
  {
   "cell_type": "code",
   "execution_count": 72,
   "metadata": {},
   "outputs": [
    {
     "data": {
      "text/html": [
       "<div>\n",
       "<style scoped>\n",
       "    .dataframe tbody tr th:only-of-type {\n",
       "        vertical-align: middle;\n",
       "    }\n",
       "\n",
       "    .dataframe tbody tr th {\n",
       "        vertical-align: top;\n",
       "    }\n",
       "\n",
       "    .dataframe thead th {\n",
       "        text-align: right;\n",
       "    }\n",
       "</style>\n",
       "<table border=\"1\" class=\"dataframe\">\n",
       "  <thead>\n",
       "    <tr style=\"text-align: right;\">\n",
       "      <th></th>\n",
       "      <th>STT</th>\n",
       "      <th>Mã ngành</th>\n",
       "      <th>Tên ngành</th>\n",
       "      <th>Tổ hợp</th>\n",
       "      <th>Điểm chuẩn</th>\n",
       "      <th>Ghi chú</th>\n",
       "    </tr>\n",
       "  </thead>\n",
       "  <tbody>\n",
       "    <tr>\n",
       "      <th>50</th>\n",
       "      <td>15</td>\n",
       "      <td>F7520216</td>\n",
       "      <td>Kỹ thuật điều khiển và tự động hóa - Chất lượn...</td>\n",
       "      <td>Toán*2, Anh, Lý</td>\n",
       "      <td>27,00</td>\n",
       "      <td>Điểm trúng tuyển(theo thang điểm 40)</td>\n",
       "    </tr>\n",
       "    <tr>\n",
       "      <th>51</th>\n",
       "      <td>16</td>\n",
       "      <td>F7580201</td>\n",
       "      <td>Kỹ thuật xây dựng - Chất lượng cao</td>\n",
       "      <td>Toán*2, Anh, Lý</td>\n",
       "      <td>27,00</td>\n",
       "      <td>Điểm trúng tuyển(theo thang điểm 40)</td>\n",
       "    </tr>\n",
       "    <tr>\n",
       "      <th>0</th>\n",
       "      <td>1</td>\n",
       "      <td>FA7220201</td>\n",
       "      <td>Ngôn ngữ Anh _- Chương trình đại học bằng tiến...</td>\n",
       "      <td>NaN</td>\n",
       "      <td>32,00</td>\n",
       "      <td>(ĐTB HK1 L10 + ĐTB HK2 L10 + ĐTB HK1 L11 + ĐTB...</td>\n",
       "    </tr>\n",
       "    <tr>\n",
       "      <th>1</th>\n",
       "      <td>2</td>\n",
       "      <td>FA7310630Q</td>\n",
       "      <td>Việt Nam học _(Chuyên ngành: Du lịch và Quản l...</td>\n",
       "      <td>NaN</td>\n",
       "      <td>27,00</td>\n",
       "      <td>(ĐTB HK1 L10 + ĐTB HK2 L10 + ĐTB HK1 L11 + ĐTB...</td>\n",
       "    </tr>\n",
       "    <tr>\n",
       "      <th>2</th>\n",
       "      <td>3</td>\n",
       "      <td>FA7340101N</td>\n",
       "      <td>Quản trị kinh doanh _(Chuyên ngành: Quản trị n...</td>\n",
       "      <td>NaN</td>\n",
       "      <td>32,00</td>\n",
       "      <td>(ĐTB HK1 L10 + ĐTB HK2 L10 + ĐTB HK1 L11 + ĐTB...</td>\n",
       "    </tr>\n",
       "  </tbody>\n",
       "</table>\n",
       "</div>"
      ],
      "text/plain": [
       "   STT    Mã ngành                                          Tên ngành  \\\n",
       "50  15    F7520216  Kỹ thuật điều khiển và tự động hóa - Chất lượn...   \n",
       "51  16    F7580201                 Kỹ thuật xây dựng - Chất lượng cao   \n",
       "0    1   FA7220201  Ngôn ngữ Anh _- Chương trình đại học bằng tiến...   \n",
       "1    2  FA7310630Q  Việt Nam học _(Chuyên ngành: Du lịch và Quản l...   \n",
       "2    3  FA7340101N  Quản trị kinh doanh _(Chuyên ngành: Quản trị n...   \n",
       "\n",
       "             Tổ hợp Điểm chuẩn  \\\n",
       "50  Toán*2, Anh, Lý      27,00   \n",
       "51  Toán*2, Anh, Lý      27,00   \n",
       "0               NaN      32,00   \n",
       "1               NaN      27,00   \n",
       "2               NaN      32,00   \n",
       "\n",
       "                                              Ghi chú  \n",
       "50               Điểm trúng tuyển(theo thang điểm 40)  \n",
       "51               Điểm trúng tuyển(theo thang điểm 40)  \n",
       "0   (ĐTB HK1 L10 + ĐTB HK2 L10 + ĐTB HK1 L11 + ĐTB...  \n",
       "1   (ĐTB HK1 L10 + ĐTB HK2 L10 + ĐTB HK1 L11 + ĐTB...  \n",
       "2   (ĐTB HK1 L10 + ĐTB HK2 L10 + ĐTB HK1 L11 + ĐTB...  "
      ]
     },
     "execution_count": 72,
     "metadata": {},
     "output_type": "execute_result"
    }
   ],
   "source": [
    "df_56 = pd.concat([df_5, df_6], axis=0)\n",
    "df_34[50:55]"
   ]
  },
  {
   "cell_type": "code",
   "execution_count": 73,
   "metadata": {},
   "outputs": [
    {
     "name": "stdout",
     "output_type": "stream",
     "text": [
      "File đã được lưu tại: E:\\LLM_clone\\Tdtu-chatbot\\notebooks\\Data Tuyển sinh\\TDTU\\Tables\\2021\\3_2021_TDTU.xlsx\n"
     ]
    }
   ],
   "source": [
    "# Định nghĩa đường dẫn và tên tệp\n",
    "output_path = r\"E:\\LLM_clone\\Tdtu-chatbot\\notebooks\\Data Tuyển sinh\\TDTU\\Tables\\2021\"\n",
    "filename = \"3_2021_TDTU.xlsx\"\n",
    "\n",
    "# Lưu lại DataFrame dưới dạng file Excel\n",
    "full_output_path = f\"{output_path}\\{filename}\"\n",
    "df_56.to_excel(full_output_path, index=False)\n",
    "print(f\"File đã được lưu tại: {full_output_path}\")"
   ]
  },
  {
   "cell_type": "markdown",
   "metadata": {},
   "source": [
    "# TDTU 2022"
   ]
  },
  {
   "cell_type": "markdown",
   "metadata": {},
   "source": [
    "## Table 1"
   ]
  },
  {
   "cell_type": "code",
   "execution_count": 99,
   "metadata": {},
   "outputs": [],
   "source": [
    "import pandas as pd\n",
    "import re\n",
    "import os\n",
    "\n",
    "# File path\n",
    "file_path = r\"E:\\LLM_clone\\Tdtu-chatbot\\notebooks\\Data Tuyển sinh\\TDTU\\2022_điểm chuẩn.md\"\n",
    "\n",
    "# Output folder\n",
    "output_folder = r\"E:\\LLM_clone\\Tdtu-chatbot\\notebooks\\Data Tuyển sinh\\TDTU\\Tables\\2022\"\n",
    "os.makedirs(output_folder, exist_ok=True)  # Create folder if it doesn't exist\n",
    "\n",
    "# Read the file\n",
    "with open(file_path, 'r', encoding='utf-8') as file:\n",
    "    content = file.read()\n",
    "\n",
    "# Extract all Heading 3 (###) into a list\n",
    "heading_3_list = re.findall(r\"^### (.+)\", content, re.MULTILINE)\n",
    "\n",
    "# Clean the list: remove \\xa0 and ** from headings\n",
    "heading_3_list = [heading.replace('\\xa0', ' ').replace('**', '') for heading in heading_3_list]\n",
    "\n",
    "# Function to parse markdown tables\n",
    "def extract_markdown_tables(content):\n",
    "    tables = []\n",
    "    matches = re.findall(r'(\\|.*?\\|\\n(?:\\|[-:|]*\\|\\n)?(?:\\|.*?\\|\\n)*)', content)\n",
    "    for match in matches:\n",
    "        rows = [row.strip().split('|')[1:-1] for row in match.strip().split('\\n') if row.startswith('|')]\n",
    "        if len(rows) > 1:  # Check for valid table\n",
    "            # Remove the second row (separator row)\n",
    "            rows.pop(1)\n",
    "            headers = [header.strip() for header in rows[0]]\n",
    "            data = [[cell.strip() for cell in row] for row in rows[1:]]\n",
    "            tables.append(pd.DataFrame(data, columns=headers))\n",
    "    return tables\n",
    "\n",
    "# Extract tables\n",
    "tables = extract_markdown_tables(content)   \n"
   ]
  },
  {
   "cell_type": "code",
   "execution_count": 75,
   "metadata": {},
   "outputs": [
    {
     "data": {
      "text/plain": [
       "4"
      ]
     },
     "execution_count": 75,
     "metadata": {},
     "output_type": "execute_result"
    }
   ],
   "source": [
    "len(tables) # Bỏ đi cái 3 "
   ]
  },
  {
   "cell_type": "markdown",
   "metadata": {},
   "source": [
    "**Phương thức 1: Xét tuyển theo kết quả quá trình học tập THPT**\n",
    "\n",
    "**Phương thức 2. Xét tuyển theo kết quả thi tốt nghiệp THPT năm 2022**\n",
    "\n",
    "**Phương thức 3. Ưu tiên xét tuyển theo quy định của TDTU**\n",
    "\n",
    "**Phương thức 4: X****ét tuyển thẳng, ưu tiên xét tuyển theo Quy chế tuyển sinh của Bộ GD&ĐT**\n",
    "\n",
    "**Phương thức 5: Xét tuyển theo kết quả bài thi đánh giá năng lực của Đại học Quốc gia Thành phố Hồ Chí Minh.**"
   ]
  },
  {
   "cell_type": "markdown",
   "metadata": {},
   "source": [
    "**(PT3-ĐT1-Đ2)**; ưu tiên xét tuyển theo quy định của TDTU dành cho học sinh có chứng chỉ tiếng Anh quốc tế tương đương IELTS 5.0 trở lên\n",
    "\n",
    "\n",
    "**(PT3-ĐT2-Đ2)**: Điểm xét tuyển được thực hiện theo đúng đề án tuyển sinh đại học năm 2022, thang điểm 40 và được làm tròn đến 02 chữ số thập phân (đã bao gồm điểm ưu tiên khu vực, đối tượng, hệ số trường THPT, điểm ưu tiên thành tích học sinh giỏi)."
   ]
  },
  {
   "cell_type": "code",
   "execution_count": 100,
   "metadata": {},
   "outputs": [
    {
     "data": {
      "text/plain": [
       "Index(['STT', 'Mã ngành', 'Tên ngành', 'Điểm TT PT1-Đ2', 'Điểm TT PT2',\n",
       "       'Điểm TT PT3-ĐT1-Đ2', 'Điểm TT PT3-ĐT2-Đ2', 'Điểm TT PT5'],\n",
       "      dtype='object')"
      ]
     },
     "execution_count": 100,
     "metadata": {},
     "output_type": "execute_result"
    }
   ],
   "source": [
    "df_1 = tables[0] \n",
    "df_1.columns"
   ]
  },
  {
   "cell_type": "code",
   "execution_count": 77,
   "metadata": {},
   "outputs": [
    {
     "data": {
      "text/html": [
       "<div>\n",
       "<style scoped>\n",
       "    .dataframe tbody tr th:only-of-type {\n",
       "        vertical-align: middle;\n",
       "    }\n",
       "\n",
       "    .dataframe tbody tr th {\n",
       "        vertical-align: top;\n",
       "    }\n",
       "\n",
       "    .dataframe thead th {\n",
       "        text-align: right;\n",
       "    }\n",
       "</style>\n",
       "<table border=\"1\" class=\"dataframe\">\n",
       "  <thead>\n",
       "    <tr style=\"text-align: right;\">\n",
       "      <th></th>\n",
       "      <th>STT</th>\n",
       "      <th>Mã ngành</th>\n",
       "      <th>Tên ngành</th>\n",
       "      <th>Điểm TT PT1-Đ2</th>\n",
       "      <th>Điểm TT PT2</th>\n",
       "      <th>Điểm TT PT3-ĐT1-Đ2</th>\n",
       "      <th>Điểm TT PT3-ĐT2-Đ2</th>\n",
       "      <th>Điểm TT PT5</th>\n",
       "    </tr>\n",
       "  </thead>\n",
       "  <tbody>\n",
       "    <tr>\n",
       "      <th>0</th>\n",
       "      <td>1</td>\n",
       "      <td>7210402</td>\n",
       "      <td>Thiết kế công nghiệp</td>\n",
       "      <td>26.5</td>\n",
       "      <td>23</td>\n",
       "      <td>30</td>\n",
       "      <td></td>\n",
       "      <td>650 HHMT≥6.0</td>\n",
       "    </tr>\n",
       "    <tr>\n",
       "      <th>1</th>\n",
       "      <td>2</td>\n",
       "      <td>7210403</td>\n",
       "      <td>Thiết kế đồ họa</td>\n",
       "      <td>29.5</td>\n",
       "      <td>27</td>\n",
       "      <td>32</td>\n",
       "      <td></td>\n",
       "      <td>700 HHMT≥6.0</td>\n",
       "    </tr>\n",
       "    <tr>\n",
       "      <th>2</th>\n",
       "      <td>3</td>\n",
       "      <td>7210404</td>\n",
       "      <td>Thiết kế thời trang</td>\n",
       "      <td>26.5</td>\n",
       "      <td>24</td>\n",
       "      <td>30</td>\n",
       "      <td></td>\n",
       "      <td>650 HHMT≥6.0</td>\n",
       "    </tr>\n",
       "    <tr>\n",
       "      <th>3</th>\n",
       "      <td>4</td>\n",
       "      <td>7220201</td>\n",
       "      <td>Ngôn ngữ Anh</td>\n",
       "      <td>37</td>\n",
       "      <td>34</td>\n",
       "      <td>36</td>\n",
       "      <td></td>\n",
       "      <td>800</td>\n",
       "    </tr>\n",
       "    <tr>\n",
       "      <th>4</th>\n",
       "      <td>5</td>\n",
       "      <td>7220204</td>\n",
       "      <td>Ngôn ngữ Trung Quốc</td>\n",
       "      <td>37</td>\n",
       "      <td>33</td>\n",
       "      <td>35</td>\n",
       "      <td></td>\n",
       "      <td>800</td>\n",
       "    </tr>\n",
       "  </tbody>\n",
       "</table>\n",
       "</div>"
      ],
      "text/plain": [
       "  STT Mã ngành             Tên ngành Điểm TT PT1-Đ2 Điểm TT PT2  \\\n",
       "0   1  7210402  Thiết kế công nghiệp           26.5          23   \n",
       "1   2  7210403       Thiết kế đồ họa           29.5          27   \n",
       "2   3  7210404   Thiết kế thời trang           26.5          24   \n",
       "3   4  7220201          Ngôn ngữ Anh             37          34   \n",
       "4   5  7220204   Ngôn ngữ Trung Quốc             37          33   \n",
       "\n",
       "  Điểm TT PT3-ĐT1-Đ2 Điểm TT PT3-ĐT2-Đ2   Điểm TT PT5  \n",
       "0                 30                     650 HHMT≥6.0  \n",
       "1                 32                     700 HHMT≥6.0  \n",
       "2                 30                     650 HHMT≥6.0  \n",
       "3                 36                              800  \n",
       "4                 35                              800  "
      ]
     },
     "execution_count": 77,
     "metadata": {},
     "output_type": "execute_result"
    }
   ],
   "source": [
    "df_1[:5]"
   ]
  },
  {
   "cell_type": "code",
   "execution_count": 101,
   "metadata": {},
   "outputs": [],
   "source": [
    "# Tách dữ liệu thành hai DataFrame riêng\n",
    "df_1_1 = df_1[['STT', 'Mã ngành', 'Tên ngành', 'Điểm TT PT1-Đ2']].copy()\n",
    "df_1_1 = df_1_1.rename(columns={\"Điểm TT PT1-Đ2\": \"Điểm chuẩn\"})\n",
    "\n",
    "df_1_1['Tổ hợp'] = \"\"\n",
    "df_1_1['Ghi chú'] = \"ưu tiên xét tuyển theo quy định của TDTU dành cho học sinh trường chuyên trên cả nước và một số trường trọng điểm ở TP.HCM. \" + \" Điểm trúng tuyển(theo thang điểm 40)\"\n",
    "\n",
    "# #\n",
    "df_1_2 = df_1[['STT', 'Mã ngành', 'Tên ngành', 'Điểm TT PT2']].copy()\n",
    "df_1_2 = df_1_2.rename(columns={\"Điểm TT PT2\": \"Điểm chuẩn\"})\n",
    "\n",
    "df_1_2['Tổ hợp'] = \"\"\n",
    "df_1_2['Ghi chú'] = \"\"\n"
   ]
  },
  {
   "cell_type": "code",
   "execution_count": 80,
   "metadata": {},
   "outputs": [],
   "source": [
    "df_1_3 = df_1[['STT', 'Mã ngành', 'Tên ngành', 'Điểm TT PT3-ĐT1-Đ2']].copy()\n",
    "df_1_3 = df_1_3.rename(columns={\"Điểm TT PT3-ĐT1-Đ2\": \"Điểm chuẩn\"})\n",
    "\n",
    "df_1_3['Tổ hợp'] = \"\"\n",
    "df_1_3['Ghi chú'] = \"ưu tiên xét tuyển theo quy định của TDTU dành cho học sinh có chứng chỉ tiếng Anh quốc tế tương đương IELTS 5.0 trở lên\""
   ]
  },
  {
   "cell_type": "code",
   "execution_count": 82,
   "metadata": {},
   "outputs": [],
   "source": [
    "# DGNL\n",
    "df_1_5 = df_1[['STT', 'Mã ngành', 'Tên ngành', 'Điểm TT PT5']].copy()\n",
    "df_1_5 = df_1_5.rename(columns={\"Điểm TT PT5\": \"Điểm chuẩn\"})\n",
    "\n",
    "df_1_5['Tổ hợp'] = \"\"\n",
    "df_1_5['Ghi chú'] = \"\""
   ]
  },
  {
   "cell_type": "code",
   "execution_count": 83,
   "metadata": {},
   "outputs": [
    {
     "data": {
      "text/html": [
       "<div>\n",
       "<style scoped>\n",
       "    .dataframe tbody tr th:only-of-type {\n",
       "        vertical-align: middle;\n",
       "    }\n",
       "\n",
       "    .dataframe tbody tr th {\n",
       "        vertical-align: top;\n",
       "    }\n",
       "\n",
       "    .dataframe thead th {\n",
       "        text-align: right;\n",
       "    }\n",
       "</style>\n",
       "<table border=\"1\" class=\"dataframe\">\n",
       "  <thead>\n",
       "    <tr style=\"text-align: right;\">\n",
       "      <th></th>\n",
       "      <th>STT</th>\n",
       "      <th>Mã ngành</th>\n",
       "      <th>Tên ngành</th>\n",
       "      <th>Điểm chuẩn</th>\n",
       "      <th>Tổ hợp</th>\n",
       "      <th>Ghi chú</th>\n",
       "    </tr>\n",
       "  </thead>\n",
       "  <tbody>\n",
       "    <tr>\n",
       "      <th>0</th>\n",
       "      <td>1</td>\n",
       "      <td>7210402</td>\n",
       "      <td>Thiết kế công nghiệp</td>\n",
       "      <td>650 HHMT≥6.0</td>\n",
       "      <td></td>\n",
       "      <td></td>\n",
       "    </tr>\n",
       "    <tr>\n",
       "      <th>1</th>\n",
       "      <td>2</td>\n",
       "      <td>7210403</td>\n",
       "      <td>Thiết kế đồ họa</td>\n",
       "      <td>700 HHMT≥6.0</td>\n",
       "      <td></td>\n",
       "      <td></td>\n",
       "    </tr>\n",
       "    <tr>\n",
       "      <th>2</th>\n",
       "      <td>3</td>\n",
       "      <td>7210404</td>\n",
       "      <td>Thiết kế thời trang</td>\n",
       "      <td>650 HHMT≥6.0</td>\n",
       "      <td></td>\n",
       "      <td></td>\n",
       "    </tr>\n",
       "    <tr>\n",
       "      <th>3</th>\n",
       "      <td>4</td>\n",
       "      <td>7220201</td>\n",
       "      <td>Ngôn ngữ Anh</td>\n",
       "      <td>800</td>\n",
       "      <td></td>\n",
       "      <td></td>\n",
       "    </tr>\n",
       "    <tr>\n",
       "      <th>4</th>\n",
       "      <td>5</td>\n",
       "      <td>7220204</td>\n",
       "      <td>Ngôn ngữ Trung Quốc</td>\n",
       "      <td>800</td>\n",
       "      <td></td>\n",
       "      <td></td>\n",
       "    </tr>\n",
       "  </tbody>\n",
       "</table>\n",
       "</div>"
      ],
      "text/plain": [
       "  STT Mã ngành             Tên ngành    Điểm chuẩn Tổ hợp Ghi chú\n",
       "0   1  7210402  Thiết kế công nghiệp  650 HHMT≥6.0               \n",
       "1   2  7210403       Thiết kế đồ họa  700 HHMT≥6.0               \n",
       "2   3  7210404   Thiết kế thời trang  650 HHMT≥6.0               \n",
       "3   4  7220201          Ngôn ngữ Anh           800               \n",
       "4   5  7220204   Ngôn ngữ Trung Quốc           800               "
      ]
     },
     "execution_count": 83,
     "metadata": {},
     "output_type": "execute_result"
    }
   ],
   "source": [
    "df_1_5[:5]"
   ]
  },
  {
   "cell_type": "code",
   "execution_count": 84,
   "metadata": {},
   "outputs": [
    {
     "name": "stdout",
     "output_type": "stream",
     "text": [
      "File đã được lưu tại: E:\\LLM_clone\\Tdtu-chatbot\\notebooks\\Data Tuyển sinh\\TDTU\\Tables\\2022\\5_2022_TDTU.xlsx\n",
      "File đã được lưu tại: E:\\LLM_clone\\Tdtu-chatbot\\notebooks\\Data Tuyển sinh\\TDTU\\Tables\\2022\\4_2022_TDTU.xlsx\n"
     ]
    }
   ],
   "source": [
    "# Định nghĩa đường dẫn và tên tệp\n",
    "output_path = r\"E:\\LLM_clone\\Tdtu-chatbot\\notebooks\\Data Tuyển sinh\\TDTU\\Tables\\2022\"\n",
    "filename = \"5_2022_TDTU.xlsx\"\n",
    "\n",
    "# Lưu lại DataFrame dưới dạng file Excel\n",
    "full_output_path = f\"{output_path}\\{filename}\"\n",
    "df_1_3.to_excel(full_output_path, index=False)\n",
    "print(f\"File đã được lưu tại: {full_output_path}\")\n",
    "\n",
    "filename = \"4_2022_TDTU.xlsx\"\n",
    "# Lưu lại DataFrame dưới dạng file Excel\n",
    "full_output_path = f\"{output_path}\\{filename}\"\n",
    "df_1_5.to_excel(full_output_path, index=False)\n",
    "print(f\"File đã được lưu tại: {full_output_path}\")"
   ]
  },
  {
   "cell_type": "markdown",
   "metadata": {},
   "source": [
    "## Table 2, 4"
   ]
  },
  {
   "cell_type": "code",
   "execution_count": 85,
   "metadata": {},
   "outputs": [],
   "source": [
    "df_2 = tables[1] \n",
    "df_4 = tables[3] "
   ]
  },
  {
   "cell_type": "code",
   "execution_count": 51,
   "metadata": {},
   "outputs": [
    {
     "data": {
      "text/html": [
       "<div>\n",
       "<style scoped>\n",
       "    .dataframe tbody tr th:only-of-type {\n",
       "        vertical-align: middle;\n",
       "    }\n",
       "\n",
       "    .dataframe tbody tr th {\n",
       "        vertical-align: top;\n",
       "    }\n",
       "\n",
       "    .dataframe thead th {\n",
       "        text-align: right;\n",
       "    }\n",
       "</style>\n",
       "<table border=\"1\" class=\"dataframe\">\n",
       "  <thead>\n",
       "    <tr style=\"text-align: right;\">\n",
       "      <th></th>\n",
       "      <th>STT</th>\n",
       "      <th>Mã ngành</th>\n",
       "      <th>Tên ngành</th>\n",
       "      <th>Điểm TT PT1-Đ2</th>\n",
       "      <th>Điểm TT PT2</th>\n",
       "      <th>Điểm TT PT3-ĐT1-Đ2</th>\n",
       "      <th>Điểm TT PT3-ĐT2-Đ2</th>\n",
       "      <th>Điểm TT PT5</th>\n",
       "    </tr>\n",
       "  </thead>\n",
       "  <tbody>\n",
       "    <tr>\n",
       "      <th>0</th>\n",
       "      <td>1</td>\n",
       "      <td>FA7220201</td>\n",
       "      <td>Ngôn ngữ Anh – Chương trình đại học bằng tiếng...</td>\n",
       "      <td>32</td>\n",
       "      <td>25</td>\n",
       "      <td>30</td>\n",
       "      <td>34.5</td>\n",
       "      <td>700</td>\n",
       "    </tr>\n",
       "    <tr>\n",
       "      <th>1</th>\n",
       "      <td>2</td>\n",
       "      <td>FA7310630Q</td>\n",
       "      <td>Việt Nam học (Chuyên ngành Du lịch và Quản lý ...</td>\n",
       "      <td>28</td>\n",
       "      <td>24</td>\n",
       "      <td>28</td>\n",
       "      <td>28</td>\n",
       "      <td>650</td>\n",
       "    </tr>\n",
       "    <tr>\n",
       "      <th>2</th>\n",
       "      <td>3</td>\n",
       "      <td>FA7340101N</td>\n",
       "      <td>Quản trị kinh doanh (Chuyên ngành: Quản trị nh...</td>\n",
       "      <td>30</td>\n",
       "      <td>27</td>\n",
       "      <td>30</td>\n",
       "      <td>30</td>\n",
       "      <td>650</td>\n",
       "    </tr>\n",
       "    <tr>\n",
       "      <th>3</th>\n",
       "      <td>4</td>\n",
       "      <td>FA7340115</td>\n",
       "      <td>Marketing - Chương trình đại học bằng tiếng Anh</td>\n",
       "      <td>34</td>\n",
       "      <td>27</td>\n",
       "      <td>32</td>\n",
       "      <td>36</td>\n",
       "      <td>700</td>\n",
       "    </tr>\n",
       "    <tr>\n",
       "      <th>4</th>\n",
       "      <td>5</td>\n",
       "      <td>FA7340120</td>\n",
       "      <td>Kinh doanh quốc tế - Chương trình đại học bằng...</td>\n",
       "      <td>34</td>\n",
       "      <td>27</td>\n",
       "      <td>32</td>\n",
       "      <td>36</td>\n",
       "      <td>700</td>\n",
       "    </tr>\n",
       "  </tbody>\n",
       "</table>\n",
       "</div>"
      ],
      "text/plain": [
       "  STT    Mã ngành                                          Tên ngành  \\\n",
       "0   1   FA7220201  Ngôn ngữ Anh – Chương trình đại học bằng tiếng...   \n",
       "1   2  FA7310630Q  Việt Nam học (Chuyên ngành Du lịch và Quản lý ...   \n",
       "2   3  FA7340101N  Quản trị kinh doanh (Chuyên ngành: Quản trị nh...   \n",
       "3   4   FA7340115    Marketing - Chương trình đại học bằng tiếng Anh   \n",
       "4   5   FA7340120  Kinh doanh quốc tế - Chương trình đại học bằng...   \n",
       "\n",
       "  Điểm TT PT1-Đ2 Điểm TT PT2 Điểm TT PT3-ĐT1-Đ2 Điểm TT PT3-ĐT2-Đ2 Điểm TT PT5  \n",
       "0             32          25                 30               34.5         700  \n",
       "1             28          24                 28                 28         650  \n",
       "2             30          27                 30                 30         650  \n",
       "3             34          27                 32                 36         700  \n",
       "4             34          27                 32                 36         700  "
      ]
     },
     "execution_count": 51,
     "metadata": {},
     "output_type": "execute_result"
    }
   ],
   "source": [
    "df_24 = pd.concat([df_2, df_4], axis= 0)\n",
    "df_24[:5]"
   ]
  },
  {
   "cell_type": "code",
   "execution_count": 90,
   "metadata": {},
   "outputs": [
    {
     "data": {
      "text/plain": [
       "Index(['STT', 'Mã ngành', 'Tên ngành', 'Điểm TT PT1-Đ2', 'Điểm TT PT2',\n",
       "       'Điểm TT PT3-ĐT1-Đ2', 'Điểm TT PT3-ĐT2-Đ2', 'Điểm TT PT5'],\n",
       "      dtype='object')"
      ]
     },
     "execution_count": 90,
     "metadata": {},
     "output_type": "execute_result"
    }
   ],
   "source": [
    "df_24.columns"
   ]
  },
  {
   "cell_type": "code",
   "execution_count": 91,
   "metadata": {},
   "outputs": [],
   "source": [
    "# Tách dữ liệu thành hai DataFrame riêng\n",
    "df_24_1 = df_24[['STT', 'Mã ngành', 'Tên ngành', 'Điểm TT PT1-Đ2']].copy()\n",
    "df_24_1 = df_24_1.rename(columns={\"Điểm TT PT1-Đ2\": \"Điểm chuẩn\"})\n",
    "\n",
    "df_24_1['Tổ hợp'] = \"\"\n",
    "df_24_1['Ghi chú'] = \"\"\n",
    "\n",
    "# #\n",
    "df_24_2 = df_24[['STT', 'Mã ngành', 'Tên ngành', 'Điểm TT PT2']].copy()\n",
    "df_24_2 = df_24_2.rename(columns={\"Điểm TT PT2\": \"Điểm chuẩn\"})\n",
    "\n",
    "df_24_2['Tổ hợp'] = \"\"\n",
    "df_24_2['Ghi chú'] = \"\""
   ]
  },
  {
   "cell_type": "code",
   "execution_count": 92,
   "metadata": {},
   "outputs": [],
   "source": [
    "# Tách dữ liệu thành hai DataFrame riêng\n",
    "df_24_3 = df_24[['STT', 'Mã ngành', 'Tên ngành', 'Điểm TT PT3-ĐT1-Đ2']].copy()\n",
    "df_24_3 = df_24_3.rename(columns={\"Điểm TT PT3-ĐT1-Đ2\": \"Điểm chuẩn\"})\n",
    "\n",
    "df_24_3['Tổ hợp'] = \"\"\n",
    "df_24_3['Ghi chú'] = \"\"\n",
    "\n",
    "# #\n",
    "df_24_4 = df_24[['STT', 'Mã ngành', 'Tên ngành', 'Điểm TT PT3-ĐT2-Đ2']].copy()\n",
    "df_24_4 = df_24_4.rename(columns={\"Điểm TT PT3-ĐT2-Đ2\": \"Điểm chuẩn\"})\n",
    "\n",
    "df_24_4['Tổ hợp'] = \"\"\n",
    "df_24_4['Ghi chú'] = \"\"\n",
    "\n",
    "# #\n",
    "df_24_5 = df_24[['STT', 'Mã ngành', 'Tên ngành', 'Điểm TT PT5']].copy()\n",
    "df_24_5 = df_24_5.rename(columns={\"Điểm TT PT5\": \"Điểm chuẩn\"})\n",
    "\n",
    "df_24_5['Tổ hợp'] = \"\"\n",
    "df_24_5['Ghi chú'] = \"\""
   ]
  },
  {
   "cell_type": "markdown",
   "metadata": {},
   "source": [
    "## Nối lại"
   ]
  },
  {
   "cell_type": "code",
   "execution_count": 115,
   "metadata": {},
   "outputs": [],
   "source": [
    "# Nối cột 1/5\n",
    "df_1_td = pd.concat([df_1_1, df_24_1], axis= 0)\n",
    "df_2_td = pd.concat([df_1_2, df_24_2], axis= 0)\n",
    "df_3_td = pd.concat([df_1_3, df_24_3], axis= 0)\n",
    "df_5_td = pd.concat([df_1_5, df_24_5], axis= 0)"
   ]
  },
  {
   "cell_type": "code",
   "execution_count": 116,
   "metadata": {},
   "outputs": [
    {
     "name": "stdout",
     "output_type": "stream",
     "text": [
      "File đã được lưu tại: E:\\LLM_clone\\Tdtu-chatbot\\notebooks\\Data Tuyển sinh\\TDTU\\Tables\\2022\\3_2022_TDTU.xlsx\n",
      "File đã được lưu tại: E:\\LLM_clone\\Tdtu-chatbot\\notebooks\\Data Tuyển sinh\\TDTU\\Tables\\2022\\1_2022_TDTU.xlsx\n",
      "File đã được lưu tại: E:\\LLM_clone\\Tdtu-chatbot\\notebooks\\Data Tuyển sinh\\TDTU\\Tables\\2022\\5_2022_TDTU.xlsx\n",
      "File đã được lưu tại: E:\\LLM_clone\\Tdtu-chatbot\\notebooks\\Data Tuyển sinh\\TDTU\\Tables\\2022\\4_2022_TDTU.xlsx\n",
      "File đã được lưu tại: E:\\LLM_clone\\Tdtu-chatbot\\notebooks\\Data Tuyển sinh\\TDTU\\Tables\\2022\\6_2022_TDTU.xlsx\n"
     ]
    }
   ],
   "source": [
    "# Định nghĩa đường dẫn và tên tệp\n",
    "output_path = r\"E:\\LLM_clone\\Tdtu-chatbot\\notebooks\\Data Tuyển sinh\\TDTU\\Tables\\2022\"\n",
    "filename = \"3_2022_TDTU.xlsx\"\n",
    "\n",
    "# Lưu lại DataFrame dưới dạng file Excel\n",
    "full_output_path = f\"{output_path}\\{filename}\"\n",
    "df_1_td.to_excel(full_output_path, index=False)\n",
    "print(f\"File đã được lưu tại: {full_output_path}\")\n",
    "\n",
    "#--------\n",
    "filename = \"1_2022_TDTU.xlsx\"\n",
    "# Lưu lại DataFrame dưới dạng file Excel\n",
    "full_output_path = f\"{output_path}\\{filename}\"\n",
    "df_2_td.to_excel(full_output_path, index=False)\n",
    "print(f\"File đã được lưu tại: {full_output_path}\")\n",
    "\n",
    "#--------\n",
    "filename = \"5_2022_TDTU.xlsx\"\n",
    "# Lưu lại DataFrame dưới dạng file Excel\n",
    "full_output_path = f\"{output_path}\\{filename}\"\n",
    "df_3_td.to_excel(full_output_path, index=False)\n",
    "print(f\"File đã được lưu tại: {full_output_path}\")\n",
    "\n",
    "#--------\n",
    "filename = \"4_2022_TDTU.xlsx\"\n",
    "# Lưu lại DataFrame dưới dạng file Excel\n",
    "full_output_path = f\"{output_path}\\{filename}\"\n",
    "df_5_td.to_excel(full_output_path, index=False)\n",
    "print(f\"File đã được lưu tại: {full_output_path}\")\n",
    "\n",
    "#--------\n",
    "filename = \"6_2022_TDTU.xlsx\"\n",
    "# Lưu lại DataFrame dưới dạng file Excel\n",
    "full_output_path = f\"{output_path}\\{filename}\"\n",
    "df_24_4.to_excel(full_output_path, index=False)\n",
    "print(f\"File đã được lưu tại: {full_output_path}\")"
   ]
  },
  {
   "cell_type": "markdown",
   "metadata": {},
   "source": [
    "# TDTU 2023"
   ]
  },
  {
   "cell_type": "code",
   "execution_count": 2,
   "metadata": {},
   "outputs": [],
   "source": [
    "import pandas as pd\n",
    "import re\n",
    "import os\n",
    "\n",
    "# File path\n",
    "file_path = r\"E:\\LLM_clone\\Tdtu-chatbot\\notebooks\\Data Tuyển sinh\\TDTU\\2023_Điểm chuẩn.md\"\n",
    "\n",
    "# Output folder\n",
    "output_folder = r\"E:\\LLM_clone\\Tdtu-chatbot\\notebooks\\Data Tuyển sinh\\TDTU\\Tables\\2023\"\n",
    "os.makedirs(output_folder, exist_ok=True)  # Create folder if it doesn't exist\n",
    "\n",
    "# Read the file\n",
    "with open(file_path, 'r', encoding='utf-8') as file:\n",
    "    content = file.read()\n",
    "\n",
    "# Extract all Heading 3 (###) into a list\n",
    "heading_3_list = re.findall(r\"^### (.+)\", content, re.MULTILINE)\n",
    "\n",
    "# Clean the list: remove \\xa0 and ** from headings\n",
    "heading_3_list = [heading.replace('\\xa0', ' ').replace('**', '') for heading in heading_3_list]\n",
    "\n",
    "# Function to parse markdown tables\n",
    "def extract_markdown_tables(content):\n",
    "    tables = []\n",
    "    matches = re.findall(r'(\\|.*?\\|\\n(?:\\|[-:|]*\\|\\n)?(?:\\|.*?\\|\\n)*)', content)\n",
    "    for match in matches:\n",
    "        rows = [row.strip().split('|')[1:-1] for row in match.strip().split('\\n') if row.startswith('|')]\n",
    "        if len(rows) > 1:  # Check for valid table\n",
    "            # Remove the second row (separator row)\n",
    "            rows.pop(1)\n",
    "            headers = [header.strip() for header in rows[0]]\n",
    "            data = [[cell.strip() for cell in row] for row in rows[1:]]\n",
    "            tables.append(pd.DataFrame(data, columns=headers))\n",
    "    return tables\n",
    "\n",
    "# Extract tables\n",
    "tables = extract_markdown_tables(content)   \n"
   ]
  },
  {
   "cell_type": "code",
   "execution_count": 4,
   "metadata": {},
   "outputs": [
    {
     "data": {
      "text/plain": [
       "Index(['STT', 'Mã ngành', 'Tên ngành', 'Điểm PT1-Đ2', 'Điểm PT2', 'Điểm PT4'], dtype='object')"
      ]
     },
     "execution_count": 4,
     "metadata": {},
     "output_type": "execute_result"
    }
   ],
   "source": [
    "df_1 = tables[0] \n",
    "df_1.columns"
   ]
  },
  {
   "cell_type": "code",
   "execution_count": 5,
   "metadata": {},
   "outputs": [
    {
     "data": {
      "text/html": [
       "<div>\n",
       "<style scoped>\n",
       "    .dataframe tbody tr th:only-of-type {\n",
       "        vertical-align: middle;\n",
       "    }\n",
       "\n",
       "    .dataframe tbody tr th {\n",
       "        vertical-align: top;\n",
       "    }\n",
       "\n",
       "    .dataframe thead th {\n",
       "        text-align: right;\n",
       "    }\n",
       "</style>\n",
       "<table border=\"1\" class=\"dataframe\">\n",
       "  <thead>\n",
       "    <tr style=\"text-align: right;\">\n",
       "      <th></th>\n",
       "      <th>STT</th>\n",
       "      <th>Mã ngành</th>\n",
       "      <th>Tên ngành</th>\n",
       "      <th>Điểm PT1-Đ2</th>\n",
       "      <th>Điểm PT2</th>\n",
       "      <th>Điểm PT4</th>\n",
       "    </tr>\n",
       "  </thead>\n",
       "  <tbody>\n",
       "    <tr>\n",
       "      <th>0</th>\n",
       "      <td>1</td>\n",
       "      <td>7210403</td>\n",
       "      <td>Thiết kế đồ họa</td>\n",
       "      <td>29,50</td>\n",
       "      <td>31,00</td>\n",
       "      <td>700&lt;br&gt;Vẽ HHMT ≥ 6,0</td>\n",
       "    </tr>\n",
       "    <tr>\n",
       "      <th>1</th>\n",
       "      <td>2</td>\n",
       "      <td>7210404</td>\n",
       "      <td>Thiết kế thời trang</td>\n",
       "      <td>27,00</td>\n",
       "      <td>26,50</td>\n",
       "      <td>650&lt;br&gt;Vẽ HHMT ≥ 6,0</td>\n",
       "    </tr>\n",
       "    <tr>\n",
       "      <th>2</th>\n",
       "      <td>3</td>\n",
       "      <td>7220201</td>\n",
       "      <td>Ngôn ngữ Anh</td>\n",
       "      <td>36,50</td>\n",
       "      <td>33,50</td>\n",
       "      <td>820</td>\n",
       "    </tr>\n",
       "    <tr>\n",
       "      <th>3</th>\n",
       "      <td>4</td>\n",
       "      <td>7220204</td>\n",
       "      <td>Ngôn ngữ Trung Quốc</td>\n",
       "      <td>36,00</td>\n",
       "      <td>32,20</td>\n",
       "      <td>800</td>\n",
       "    </tr>\n",
       "    <tr>\n",
       "      <th>4</th>\n",
       "      <td>5</td>\n",
       "      <td>7310301</td>\n",
       "      <td>Xã hội học</td>\n",
       "      <td>33,75</td>\n",
       "      <td>31,25</td>\n",
       "      <td>690</td>\n",
       "    </tr>\n",
       "    <tr>\n",
       "      <th>...</th>\n",
       "      <td>...</td>\n",
       "      <td>...</td>\n",
       "      <td>...</td>\n",
       "      <td>...</td>\n",
       "      <td>...</td>\n",
       "      <td>...</td>\n",
       "    </tr>\n",
       "    <tr>\n",
       "      <th>74</th>\n",
       "      <td>5</td>\n",
       "      <td>K7340301</td>\n",
       "      <td>Kế toán (song bằng, 3+1) - Chương trình liên k...</td>\n",
       "      <td>28,00</td>\n",
       "      <td>22,00</td>\n",
       "      <td>650</td>\n",
       "    </tr>\n",
       "    <tr>\n",
       "      <th>75</th>\n",
       "      <td>6</td>\n",
       "      <td>K7480101L</td>\n",
       "      <td>Công nghệ thông tin (song bằng, 2+2) - Chương ...</td>\n",
       "      <td>28,50</td>\n",
       "      <td>31,00</td>\n",
       "      <td>700</td>\n",
       "    </tr>\n",
       "    <tr>\n",
       "      <th>76</th>\n",
       "      <td>7</td>\n",
       "      <td>K7480101T</td>\n",
       "      <td>Khoa học máy tính (đơn bằng 2+2) - Chương trìn...</td>\n",
       "      <td>28,00</td>\n",
       "      <td>26,00</td>\n",
       "      <td>700</td>\n",
       "    </tr>\n",
       "    <tr>\n",
       "      <th>77</th>\n",
       "      <td>8</td>\n",
       "      <td>K7520201</td>\n",
       "      <td>Kỹ thuật điện – điện tử (song bằng, 2.5+1.5) -...</td>\n",
       "      <td>28,00</td>\n",
       "      <td>24,00</td>\n",
       "      <td>650</td>\n",
       "    </tr>\n",
       "    <tr>\n",
       "      <th>78</th>\n",
       "      <td>9</td>\n",
       "      <td>K7580201</td>\n",
       "      <td>Kỹ thuật xây dựng (song bằng, 2+2) - Chương tr...</td>\n",
       "      <td>28,00</td>\n",
       "      <td>22,00</td>\n",
       "      <td>650</td>\n",
       "    </tr>\n",
       "  </tbody>\n",
       "</table>\n",
       "<p>79 rows × 6 columns</p>\n",
       "</div>"
      ],
      "text/plain": [
       "   STT   Mã ngành                                          Tên ngành  \\\n",
       "0    1    7210403                                    Thiết kế đồ họa   \n",
       "1    2    7210404                                Thiết kế thời trang   \n",
       "2    3    7220201                                       Ngôn ngữ Anh   \n",
       "3    4    7220204                                Ngôn ngữ Trung Quốc   \n",
       "4    5    7310301                                         Xã hội học   \n",
       "..  ..        ...                                                ...   \n",
       "74   5   K7340301  Kế toán (song bằng, 3+1) - Chương trình liên k...   \n",
       "75   6  K7480101L  Công nghệ thông tin (song bằng, 2+2) - Chương ...   \n",
       "76   7  K7480101T  Khoa học máy tính (đơn bằng 2+2) - Chương trìn...   \n",
       "77   8   K7520201  Kỹ thuật điện – điện tử (song bằng, 2.5+1.5) -...   \n",
       "78   9   K7580201  Kỹ thuật xây dựng (song bằng, 2+2) - Chương tr...   \n",
       "\n",
       "   Điểm PT1-Đ2 Điểm PT2              Điểm PT4  \n",
       "0        29,50    31,00  700<br>Vẽ HHMT ≥ 6,0  \n",
       "1        27,00    26,50  650<br>Vẽ HHMT ≥ 6,0  \n",
       "2        36,50    33,50                   820  \n",
       "3        36,00    32,20                   800  \n",
       "4        33,75    31,25                   690  \n",
       "..         ...      ...                   ...  \n",
       "74       28,00    22,00                   650  \n",
       "75       28,50    31,00                   700  \n",
       "76       28,00    26,00                   700  \n",
       "77       28,00    24,00                   650  \n",
       "78       28,00    22,00                   650  \n",
       "\n",
       "[79 rows x 6 columns]"
      ]
     },
     "execution_count": 5,
     "metadata": {},
     "output_type": "execute_result"
    }
   ],
   "source": [
    "df_1"
   ]
  },
  {
   "cell_type": "code",
   "execution_count": 10,
   "metadata": {},
   "outputs": [],
   "source": [
    "df_1_1 = df_1[['STT', 'Mã ngành', 'Tên ngành', 'Điểm PT1-Đ2']].copy()\n",
    "df_1_1 = df_1_1.rename(columns={\"Điểm PT1-Đ2\": \"Điểm chuẩn\"})\n",
    "\n",
    "df_1_1['Tổ hợp'] = \"\"\n",
    "df_1_1['Ghi chú'] = \"\" \n",
    "\n",
    "# col2\n",
    "df_1_2 = df_1[['STT', 'Mã ngành', 'Tên ngành', 'Điểm PT2']].copy()\n",
    "df_1_2 = df_1_2.rename(columns={\"Điểm PT2\": \"Điểm chuẩn\"})\n",
    "\n",
    "df_1_2['Tổ hợp'] = \"\"\n",
    "df_1_2['Ghi chú'] = \"\" \n",
    "\n",
    "#col3\n",
    "df_1_3 = df_1[['STT', 'Mã ngành', 'Tên ngành', 'Điểm PT4']].copy()\n",
    "df_1_3 = df_1_3.rename(columns={\"Điểm PT4\": \"Điểm chuẩn\"})\n",
    "\n",
    "df_1_3['Tổ hợp'] = \"\"\n",
    "df_1_3['Ghi chú'] = \"\" \n"
   ]
  },
  {
   "cell_type": "code",
   "execution_count": 15,
   "metadata": {},
   "outputs": [
    {
     "name": "stdout",
     "output_type": "stream",
     "text": [
      "File đã được lưu tại: E:\\LLM_clone\\Tdtu-chatbot\\notebooks\\Data Tuyển sinh\\TDTU\\Tables\\2023\\3_2023_TDTU.xlsx\n",
      "File đã được lưu tại: E:\\LLM_clone\\Tdtu-chatbot\\notebooks\\Data Tuyển sinh\\TDTU\\Tables\\2023\\1_2023_TDTU.xlsx\n",
      "File đã được lưu tại: E:\\LLM_clone\\Tdtu-chatbot\\notebooks\\Data Tuyển sinh\\TDTU\\Tables\\2023\\4_2023_TDTU.xlsx\n"
     ]
    }
   ],
   "source": [
    "output_path = r\"E:\\LLM_clone\\Tdtu-chatbot\\notebooks\\Data Tuyển sinh\\TDTU\\Tables\\2023\"\n",
    "filename = \"3_2023_TDTU.xlsx\"\n",
    "\n",
    "# Lưu lại DataFrame dưới dạng file Excel\n",
    "full_output_path = f\"{output_path}\\{filename}\"\n",
    "df_1_1.to_excel(full_output_path, index=False)\n",
    "print(f\"File đã được lưu tại: {full_output_path}\")\n",
    "\n",
    "#--------\n",
    "filename = \"1_2023_TDTU.xlsx\"\n",
    "# Lưu lại DataFrame dưới dạng file Excel\n",
    "full_output_path = f\"{output_path}\\{filename}\"\n",
    "df_1_2.to_excel(full_output_path, index=False)\n",
    "print(f\"File đã được lưu tại: {full_output_path}\")\n",
    "\n",
    "filename = \"4_2023_TDTU.xlsx\"\n",
    "# Lưu lại DataFrame dưới dạng file Excel\n",
    "full_output_path = f\"{output_path}\\{filename}\"\n",
    "df_1_3.to_excel(full_output_path, index=False)\n",
    "print(f\"File đã được lưu tại: {full_output_path}\")"
   ]
  },
  {
   "cell_type": "markdown",
   "metadata": {},
   "source": [
    "# 2024"
   ]
  },
  {
   "cell_type": "code",
   "execution_count": 9,
   "metadata": {},
   "outputs": [],
   "source": [
    "import pandas as pd\n",
    "import re\n",
    "import os\n",
    "\n",
    "# File path\n",
    "file_path = r\"E:\\LLM_clone\\Tdtu-chatbot\\notebooks\\Data Tuyển sinh\\TDTU\\2024_Điểm chuẩn.md\"\n",
    "\n",
    "# Output folder\n",
    "output_folder = r\"E:\\LLM_clone\\Tdtu-chatbot\\notebooks\\Data Tuyển sinh\\TDTU\\Tables\\2024\"\n",
    "os.makedirs(output_folder, exist_ok=True)  # Create folder if it doesn't exist\n",
    "\n",
    "# Read the file\n",
    "with open(file_path, 'r', encoding='utf-8') as file:\n",
    "    content = file.read()\n",
    "\n",
    "# Function to parse markdown tables\n",
    "def extract_markdown_tables(content):\n",
    "    tables = []\n",
    "    matches = re.findall(r'(\\|.*?\\|\\n(?:\\|[-:|]*\\|\\n)?(?:\\|.*?\\|\\n)*)', content)\n",
    "    for match in matches:\n",
    "        rows = [row.strip().split('|')[1:-1] for row in match.strip().split('\\n') if row.startswith('|')]\n",
    "        if len(rows) > 1:  # Check for valid table\n",
    "            # Remove the second row (separator row)\n",
    "            rows.pop(1)\n",
    "            headers = [header.strip() for header in rows[0]]\n",
    "            data = [[cell.strip() for cell in row] for row in rows[1:]]\n",
    "            tables.append(pd.DataFrame(data, columns=headers))\n",
    "    return tables\n",
    "\n",
    "# Extract tables\n",
    "tables = extract_markdown_tables(content)   \n"
   ]
  },
  {
   "cell_type": "code",
   "execution_count": 2,
   "metadata": {},
   "outputs": [
    {
     "data": {
      "text/plain": [
       "2"
      ]
     },
     "execution_count": 2,
     "metadata": {},
     "output_type": "execute_result"
    }
   ],
   "source": [
    "len(tables)"
   ]
  },
  {
   "cell_type": "code",
   "execution_count": 3,
   "metadata": {},
   "outputs": [
    {
     "data": {
      "text/plain": [
       "Index(['STT', 'Mã ngành', 'Tên ngành', 'Tổ hợp xét tuyển',\n",
       "       'Môn nhân hệ số 2, điều kiện', 'Điểm trúng tuyển PT2 (thang điểm 40)'],\n",
       "      dtype='object')"
      ]
     },
     "execution_count": 3,
     "metadata": {},
     "output_type": "execute_result"
    }
   ],
   "source": [
    "df_1 = tables[0] \n",
    "df_1.columns"
   ]
  },
  {
   "cell_type": "code",
   "execution_count": 4,
   "metadata": {},
   "outputs": [
    {
     "data": {
      "text/html": [
       "<div>\n",
       "<style scoped>\n",
       "    .dataframe tbody tr th:only-of-type {\n",
       "        vertical-align: middle;\n",
       "    }\n",
       "\n",
       "    .dataframe tbody tr th {\n",
       "        vertical-align: top;\n",
       "    }\n",
       "\n",
       "    .dataframe thead th {\n",
       "        text-align: right;\n",
       "    }\n",
       "</style>\n",
       "<table border=\"1\" class=\"dataframe\">\n",
       "  <thead>\n",
       "    <tr style=\"text-align: right;\">\n",
       "      <th></th>\n",
       "      <th>STT</th>\n",
       "      <th>Mã ngành</th>\n",
       "      <th>Tên ngành</th>\n",
       "      <th>Tổ hợp xét tuyển</th>\n",
       "      <th>Môn nhân hệ số 2, điều kiện</th>\n",
       "      <th>Điểm trúng tuyển PT2 (thang điểm 40)</th>\n",
       "    </tr>\n",
       "  </thead>\n",
       "  <tbody>\n",
       "    <tr>\n",
       "      <th>0</th>\n",
       "      <td>1</td>\n",
       "      <td>7210403</td>\n",
       "      <td>Thiết kế đồ họa</td>\n",
       "      <td>H00; H01; H02; H03</td>\n",
       "      <td>H00, H02: Vẽ HHMT, Vẽ HHMT ≥ 6,0; Vẽ TTM ≥ 6,0</td>\n",
       "      <td>31,50</td>\n",
       "    </tr>\n",
       "    <tr>\n",
       "      <th>1</th>\n",
       "      <td>2</td>\n",
       "      <td>7210404</td>\n",
       "      <td>Thiết kế thời trang</td>\n",
       "      <td>H00; H01; H02; H03</td>\n",
       "      <td>H00, H02: Vẽ HHMT, Vẽ HHMT ≥ 6,0; Vẽ TTM ≥ 6,0</td>\n",
       "      <td>30,60</td>\n",
       "    </tr>\n",
       "    <tr>\n",
       "      <th>2</th>\n",
       "      <td>3</td>\n",
       "      <td>7220201</td>\n",
       "      <td>Ngôn ngữ Anh</td>\n",
       "      <td>D01; D11</td>\n",
       "      <td>Anh</td>\n",
       "      <td>33,80</td>\n",
       "    </tr>\n",
       "    <tr>\n",
       "      <th>3</th>\n",
       "      <td>4</td>\n",
       "      <td>7220204</td>\n",
       "      <td>Ngôn ngữ Trung Quốc</td>\n",
       "      <td>D01; D04; D11; D55</td>\n",
       "      <td>D01, D11: Anh, D04, D55: Trung Quốc</td>\n",
       "      <td>32,50</td>\n",
       "    </tr>\n",
       "    <tr>\n",
       "      <th>4</th>\n",
       "      <td>5</td>\n",
       "      <td>7310301</td>\n",
       "      <td>Xã hội học</td>\n",
       "      <td>A01; C00; C01; D01</td>\n",
       "      <td>A01, D01: Anh, C00, C01: Văn</td>\n",
       "      <td>32,30</td>\n",
       "    </tr>\n",
       "  </tbody>\n",
       "</table>\n",
       "</div>"
      ],
      "text/plain": [
       "  STT Mã ngành            Tên ngành    Tổ hợp xét tuyển  \\\n",
       "0   1  7210403      Thiết kế đồ họa  H00; H01; H02; H03   \n",
       "1   2  7210404  Thiết kế thời trang  H00; H01; H02; H03   \n",
       "2   3  7220201         Ngôn ngữ Anh            D01; D11   \n",
       "3   4  7220204  Ngôn ngữ Trung Quốc  D01; D04; D11; D55   \n",
       "4   5  7310301           Xã hội học  A01; C00; C01; D01   \n",
       "\n",
       "                      Môn nhân hệ số 2, điều kiện  \\\n",
       "0  H00, H02: Vẽ HHMT, Vẽ HHMT ≥ 6,0; Vẽ TTM ≥ 6,0   \n",
       "1  H00, H02: Vẽ HHMT, Vẽ HHMT ≥ 6,0; Vẽ TTM ≥ 6,0   \n",
       "2                                             Anh   \n",
       "3             D01, D11: Anh, D04, D55: Trung Quốc   \n",
       "4                    A01, D01: Anh, C00, C01: Văn   \n",
       "\n",
       "  Điểm trúng tuyển PT2 (thang điểm 40)  \n",
       "0                                31,50  \n",
       "1                                30,60  \n",
       "2                                33,80  \n",
       "3                                32,50  \n",
       "4                                32,30  "
      ]
     },
     "execution_count": 4,
     "metadata": {},
     "output_type": "execute_result"
    }
   ],
   "source": [
    "df_1[:5]"
   ]
  },
  {
   "cell_type": "code",
   "execution_count": 5,
   "metadata": {},
   "outputs": [],
   "source": [
    "df_1[\"Ghi chú\"] = \"Môn nhân hệ số 2, điều kiện: \" + df_1[\"Môn nhân hệ số 2, điều kiện\"] + \\\n",
    "                \"\\n \" + \"Điểm trúng tuyển(theo thang điểm 40)\"\n",
    "\n",
    "df_1 = df_1.drop(columns=[\"Môn nhân hệ số 2, điều kiện\"])\n",
    "df_1 = df_1.rename(columns={\"Điểm trúng tuyển PT2 (thang điểm 40)\": \"Điểm chuẩn\"})"
   ]
  },
  {
   "cell_type": "code",
   "execution_count": 7,
   "metadata": {},
   "outputs": [
    {
     "name": "stdout",
     "output_type": "stream",
     "text": [
      "File đã được lưu tại: E:\\LLM_clone\\Tdtu-chatbot\\notebooks\\Data Tuyển sinh\\TDTU\\Tables\\2024\\1_2024_TDTU.xlsx\n"
     ]
    }
   ],
   "source": [
    "output_path = r\"E:\\LLM_clone\\Tdtu-chatbot\\notebooks\\Data Tuyển sinh\\TDTU\\Tables\\2024\"\n",
    "filename = \"1_2024_TDTU.xlsx\"\n",
    "\n",
    "# Lưu lại DataFrame dưới dạng file Excel\n",
    "full_output_path = f\"{output_path}\\{filename}\"\n",
    "df_1.to_excel(full_output_path, index=False)\n",
    "print(f\"File đã được lưu tại: {full_output_path}\")"
   ]
  },
  {
   "cell_type": "code",
   "execution_count": 10,
   "metadata": {},
   "outputs": [
    {
     "data": {
      "text/plain": [
       "Index(['STT', 'Mã ngành', 'Tên ngành', 'PT1-5HK', 'PT1-6HK', 'PT3-ĐT1-5HK',\n",
       "       'PT3-ĐT2-5HK', 'PT3-ĐT2-6HK', 'PT4'],\n",
       "      dtype='object')"
      ]
     },
     "execution_count": 10,
     "metadata": {},
     "output_type": "execute_result"
    }
   ],
   "source": [
    "df_2 = tables[1] \n",
    "df_2.columns"
   ]
  },
  {
   "cell_type": "code",
   "execution_count": 11,
   "metadata": {},
   "outputs": [],
   "source": [
    "df_2_1 = df_2[['STT', 'Mã ngành', 'Tên ngành', 'PT1-5HK']].copy()\n",
    "df_2_1 = df_2_1.rename(columns={\"PT1-5HK\": \"Điểm chuẩn\"})\n",
    "\n",
    "df_2_1['Tổ hợp'] = \"\"\n",
    "df_2_1['Ghi chú'] = \"PT1-5HK\" \n",
    "\n",
    "######\n",
    "df_2_2 = df_2[['STT', 'Mã ngành', 'Tên ngành', 'PT1-6HK']].copy()\n",
    "df_2_2 = df_2_2.rename(columns={\"PT1-6HK\": \"Điểm chuẩn\"})\n",
    "\n",
    "df_2_2['Tổ hợp'] = \"\"\n",
    "df_2_2['Ghi chú'] = \"PT1-6HK\" \n"
   ]
  },
  {
   "cell_type": "code",
   "execution_count": 19,
   "metadata": {},
   "outputs": [
    {
     "name": "stdout",
     "output_type": "stream",
     "text": [
      "File đã được lưu tại: E:\\LLM_clone\\Tdtu-chatbot\\notebooks\\Data Tuyển sinh\\TDTU\\Tables\\2024\\2_2024_TDTU.xlsx\n",
      "File đã được lưu tại: E:\\LLM_clone\\Tdtu-chatbot\\notebooks\\Data Tuyển sinh\\TDTU\\Tables\\2024\\3_2024_TDTU.xlsx\n"
     ]
    }
   ],
   "source": [
    "output_path = r\"E:\\LLM_clone\\Tdtu-chatbot\\notebooks\\Data Tuyển sinh\\TDTU\\Tables\\2024\"\n",
    "filename = \"2_2024_TDTU.xlsx\"\n",
    "\n",
    "# Lưu lại DataFrame dưới dạng file Excel\n",
    "full_output_path = f\"{output_path}\\{filename}\"\n",
    "df_2_1.to_excel(full_output_path, index=False)\n",
    "print(f\"File đã được lưu tại: {full_output_path}\")\n",
    "\n",
    "\n",
    "filename = \"3_2024_TDTU.xlsx\"\n",
    "# Lưu lại DataFrame dưới dạng file Excel\n",
    "full_output_path = f\"{output_path}\\{filename}\"\n",
    "df_2_2.to_excel(full_output_path, index=False)\n",
    "print(f\"File đã được lưu tại: {full_output_path}\")"
   ]
  },
  {
   "cell_type": "code",
   "execution_count": 20,
   "metadata": {},
   "outputs": [],
   "source": [
    "######\n",
    "df_2_6 = df_2[['STT', 'Mã ngành', 'Tên ngành', 'PT4']].copy()\n",
    "df_2_6 = df_2_6.rename(columns={\"PT4\": \"Điểm chuẩn\"})\n",
    "\n",
    "df_2_6['Tổ hợp'] = \"\"\n",
    "df_2_6['Ghi chú'] = \"\" "
   ]
  },
  {
   "cell_type": "code",
   "execution_count": 21,
   "metadata": {},
   "outputs": [
    {
     "name": "stdout",
     "output_type": "stream",
     "text": [
      "File đã được lưu tại: E:\\LLM_clone\\Tdtu-chatbot\\notebooks\\Data Tuyển sinh\\TDTU\\Tables\\2024\\4_2024_TDTU.xlsx\n"
     ]
    }
   ],
   "source": [
    "filename = \"4_2024_TDTU.xlsx\"\n",
    "# Lưu lại DataFrame dưới dạng file Excel\n",
    "full_output_path = f\"{output_path}\\{filename}\"\n",
    "df_2_6.to_excel(full_output_path, index=False)\n",
    "print(f\"File đã được lưu tại: {full_output_path}\")"
   ]
  }
 ],
 "metadata": {
  "kernelspec": {
   "display_name": "torch",
   "language": "python",
   "name": "python3"
  },
  "language_info": {
   "codemirror_mode": {
    "name": "ipython",
    "version": 3
   },
   "file_extension": ".py",
   "mimetype": "text/x-python",
   "name": "python",
   "nbconvert_exporter": "python",
   "pygments_lexer": "ipython3",
   "version": "3.11.9"
  }
 },
 "nbformat": 4,
 "nbformat_minor": 2
}
