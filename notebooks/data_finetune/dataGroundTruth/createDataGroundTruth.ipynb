{
 "cells": [
  {
   "cell_type": "code",
   "execution_count": 1,
   "metadata": {},
   "outputs": [
    {
     "name": "stdout",
     "output_type": "stream",
     "text": [
      "Đã nối các file và lưu vào E:\\LLM_clone\\Tdtu-chatbot\\notebooks\\data_finetune\\excel\\cleaned_file26.xlsx\n"
     ]
    }
   ],
   "source": [
    "import pandas as pd\n",
    "import os\n",
    "\n",
    "# Đường dẫn thư mục chứa các file Excel\n",
    "folder_path = r\"E:\\LLM_clone\\Tdtu-chatbot\\notebooks\\data_finetune\\excel\"\n",
    "\n",
    "# Danh sách các file cần nối\n",
    "files_to_merge = [\n",
    "    \"26_1_complete.xlsx\",\n",
    "    \"26_2_complete.xlsx\",\n",
    "    \"26_3_complete.xlsx\",\n",
    "    \"26_4_complete.xlsx\"\n",
    "]\n",
    "\n",
    "# Tạo một danh sách để lưu các DataFrame\n",
    "dfs = []\n",
    "\n",
    "# Đọc từng file Excel và thêm vào danh sách\n",
    "for file in files_to_merge:\n",
    "    file_path = os.path.join(folder_path, file)\n",
    "    df = pd.read_excel(file_path)\n",
    "    dfs.append(df)\n",
    "\n",
    "# Nối tất cả các DataFrame lại với nhau\n",
    "merged_df = pd.concat(dfs, ignore_index=True)\n",
    "\n",
    "# Lưu kết quả vào file Excel mới\n",
    "output_file = os.path.join(folder_path, \"cleaned_file26.xlsx\")\n",
    "merged_df.to_excel(output_file, index=False)\n",
    "\n",
    "print(f\"Đã nối các file và lưu vào {output_file}\")\n"
   ]
  },
  {
   "cell_type": "markdown",
   "metadata": {},
   "source": [
    "# View 309"
   ]
  },
  {
   "cell_type": "code",
   "execution_count": 30,
   "metadata": {},
   "outputs": [
    {
     "data": {
      "text/html": [
       "<div>\n",
       "<style scoped>\n",
       "    .dataframe tbody tr th:only-of-type {\n",
       "        vertical-align: middle;\n",
       "    }\n",
       "\n",
       "    .dataframe tbody tr th {\n",
       "        vertical-align: top;\n",
       "    }\n",
       "\n",
       "    .dataframe thead th {\n",
       "        text-align: right;\n",
       "    }\n",
       "</style>\n",
       "<table border=\"1\" class=\"dataframe\">\n",
       "  <thead>\n",
       "    <tr style=\"text-align: right;\">\n",
       "      <th></th>\n",
       "      <th>Câu hỏi</th>\n",
       "      <th>Trả lời</th>\n",
       "    </tr>\n",
       "  </thead>\n",
       "  <tbody>\n",
       "    <tr>\n",
       "      <th>0</th>\n",
       "      <td>Học bổng Thủ khoa đầu vào dành cho đối tượng nào?</td>\n",
       "      <td>Học bổng Thủ khoa đầu vào dành cho sinh viên t...</td>\n",
       "    </tr>\n",
       "    <tr>\n",
       "      <th>1</th>\n",
       "      <td>Điều kiện để nhận học bổng Thủ khoa đầu vào là...</td>\n",
       "      <td>Điều kiện để nhận học bổng Thủ khoa đầu vào là...</td>\n",
       "    </tr>\n",
       "    <tr>\n",
       "      <th>2</th>\n",
       "      <td>Mức cấp học bổng Thủ khoa đầu vào là gì?</td>\n",
       "      <td>Mức cấp học bổng Thủ khoa đầu vào là học bổng ...</td>\n",
       "    </tr>\n",
       "    <tr>\n",
       "      <th>3</th>\n",
       "      <td>Học bổng Tân sinh viên dành cho các tỉnh nào?</td>\n",
       "      <td>Học bổng Tân sinh viên dành cho các tỉnh đã ký...</td>\n",
       "    </tr>\n",
       "    <tr>\n",
       "      <th>4</th>\n",
       "      <td>Điều kiện để nhận học bổng Tân sinh viên dành ...</td>\n",
       "      <td>Điều kiện để nhận học bổng Tân sinh viên dành ...</td>\n",
       "    </tr>\n",
       "    <tr>\n",
       "      <th>...</th>\n",
       "      <td>...</td>\n",
       "      <td>...</td>\n",
       "    </tr>\n",
       "    <tr>\n",
       "      <th>106</th>\n",
       "      <td>Mức thưởng dành cho sinh viên đạt huy chương đ...</td>\n",
       "      <td>Mức thưởng dành cho sinh viên đạt huy chương đ...</td>\n",
       "    </tr>\n",
       "    <tr>\n",
       "      <th>107</th>\n",
       "      <td>Mức thưởng dành cho sinh viên đạt giải khuyến ...</td>\n",
       "      <td>Mức thưởng dành cho sinh viên đạt giải khuyến ...</td>\n",
       "    </tr>\n",
       "    <tr>\n",
       "      <th>108</th>\n",
       "      <td>Mức thưởng dành cho sinh viên có bài báo đăng ...</td>\n",
       "      <td>Mức thưởng sẽ căn cứ theo Quyết định số 1989/2...</td>\n",
       "    </tr>\n",
       "    <tr>\n",
       "      <th>109</th>\n",
       "      <td>Sinh viên đạt thành tích trong phong trào \"Ngư...</td>\n",
       "      <td>Sinh viên đạt thành tích trong phong trào \"Ngư...</td>\n",
       "    </tr>\n",
       "    <tr>\n",
       "      <th>110</th>\n",
       "      <td>Những trường hợp nào khác sẽ được Nhà trường k...</td>\n",
       "      <td>Những trường hợp khác, Nhà trường sẽ dựa vào q...</td>\n",
       "    </tr>\n",
       "  </tbody>\n",
       "</table>\n",
       "<p>111 rows × 2 columns</p>\n",
       "</div>"
      ],
      "text/plain": [
       "                                               Câu hỏi  \\\n",
       "0    Học bổng Thủ khoa đầu vào dành cho đối tượng nào?   \n",
       "1    Điều kiện để nhận học bổng Thủ khoa đầu vào là...   \n",
       "2             Mức cấp học bổng Thủ khoa đầu vào là gì?   \n",
       "3        Học bổng Tân sinh viên dành cho các tỉnh nào?   \n",
       "4    Điều kiện để nhận học bổng Tân sinh viên dành ...   \n",
       "..                                                 ...   \n",
       "106  Mức thưởng dành cho sinh viên đạt huy chương đ...   \n",
       "107  Mức thưởng dành cho sinh viên đạt giải khuyến ...   \n",
       "108  Mức thưởng dành cho sinh viên có bài báo đăng ...   \n",
       "109  Sinh viên đạt thành tích trong phong trào \"Ngư...   \n",
       "110  Những trường hợp nào khác sẽ được Nhà trường k...   \n",
       "\n",
       "                                               Trả lời  \n",
       "0    Học bổng Thủ khoa đầu vào dành cho sinh viên t...  \n",
       "1    Điều kiện để nhận học bổng Thủ khoa đầu vào là...  \n",
       "2    Mức cấp học bổng Thủ khoa đầu vào là học bổng ...  \n",
       "3    Học bổng Tân sinh viên dành cho các tỉnh đã ký...  \n",
       "4    Điều kiện để nhận học bổng Tân sinh viên dành ...  \n",
       "..                                                 ...  \n",
       "106  Mức thưởng dành cho sinh viên đạt huy chương đ...  \n",
       "107  Mức thưởng dành cho sinh viên đạt giải khuyến ...  \n",
       "108  Mức thưởng sẽ căn cứ theo Quyết định số 1989/2...  \n",
       "109  Sinh viên đạt thành tích trong phong trào \"Ngư...  \n",
       "110  Những trường hợp khác, Nhà trường sẽ dựa vào q...  \n",
       "\n",
       "[111 rows x 2 columns]"
      ]
     },
     "execution_count": 30,
     "metadata": {},
     "output_type": "execute_result"
    }
   ],
   "source": [
    "import pandas as pd\n",
    "import re\n",
    "\n",
    "# Đọc nội dung từ file 309.txt\n",
    "file_path = r\"E:\\LLM_clone\\Tdtu-chatbot\\notebooks\\data_finetune\\dataGroundTruth\\data_groundTruth\\309.txt\"\n",
    "with open(file_path, \"r\", encoding=\"utf-8\") as file:\n",
    "    content = file.read()\n",
    "\n",
    "# Sử dụng regex để tách câu hỏi và câu trả lời\n",
    "qa_pairs = re.findall(r\"\\*\\*Câu hỏi \\d+:\\*\\* (.*?)\\n\\n\\*\\*Trả lời:\\*\\* (.*?)(?=\\n---|\\Z)\", content, re.DOTALL)\n",
    "\n",
    "# Tạo dataframe từ các cặp câu hỏi và câu trả lời\n",
    "df = pd.DataFrame(qa_pairs, columns=[\"Câu hỏi\", \"Trả lời\"])\n",
    "df\n"
   ]
  },
  {
   "cell_type": "code",
   "execution_count": 31,
   "metadata": {},
   "outputs": [
    {
     "data": {
      "text/html": [
       "<div>\n",
       "<style scoped>\n",
       "    .dataframe tbody tr th:only-of-type {\n",
       "        vertical-align: middle;\n",
       "    }\n",
       "\n",
       "    .dataframe tbody tr th {\n",
       "        vertical-align: top;\n",
       "    }\n",
       "\n",
       "    .dataframe thead th {\n",
       "        text-align: right;\n",
       "    }\n",
       "</style>\n",
       "<table border=\"1\" class=\"dataframe\">\n",
       "  <thead>\n",
       "    <tr style=\"text-align: right;\">\n",
       "      <th></th>\n",
       "      <th>id question</th>\n",
       "      <th>id corpus</th>\n",
       "      <th>Câu hỏi</th>\n",
       "      <th>Trả lời</th>\n",
       "    </tr>\n",
       "  </thead>\n",
       "  <tbody>\n",
       "    <tr>\n",
       "      <th>0</th>\n",
       "      <td>3c32f308-478b-499e-b4be-1b475b592eda</td>\n",
       "      <td>10/2021/309_1</td>\n",
       "      <td>Học bổng Thủ khoa đầu vào dành cho đối tượng nào?</td>\n",
       "      <td>Học bổng Thủ khoa đầu vào dành cho sinh viên t...</td>\n",
       "    </tr>\n",
       "    <tr>\n",
       "      <th>1</th>\n",
       "      <td>ed347cc0-636b-4960-9c71-a09dce3a843e</td>\n",
       "      <td>10/2021/309_2</td>\n",
       "      <td>Điều kiện để nhận học bổng Thủ khoa đầu vào là...</td>\n",
       "      <td>Điều kiện để nhận học bổng Thủ khoa đầu vào là...</td>\n",
       "    </tr>\n",
       "    <tr>\n",
       "      <th>2</th>\n",
       "      <td>13b5da5e-7409-4a71-940c-3003767b3f7b</td>\n",
       "      <td>10/2021/309_3</td>\n",
       "      <td>Mức cấp học bổng Thủ khoa đầu vào là gì?</td>\n",
       "      <td>Mức cấp học bổng Thủ khoa đầu vào là học bổng ...</td>\n",
       "    </tr>\n",
       "    <tr>\n",
       "      <th>3</th>\n",
       "      <td>01c295f2-fb77-46d7-beca-a87fba851b9c</td>\n",
       "      <td>10/2021/309_4</td>\n",
       "      <td>Học bổng Tân sinh viên dành cho các tỉnh nào?</td>\n",
       "      <td>Học bổng Tân sinh viên dành cho các tỉnh đã ký...</td>\n",
       "    </tr>\n",
       "    <tr>\n",
       "      <th>4</th>\n",
       "      <td>73e5e894-b218-4c54-b454-463c104ea97b</td>\n",
       "      <td>10/2021/309_5</td>\n",
       "      <td>Điều kiện để nhận học bổng Tân sinh viên dành ...</td>\n",
       "      <td>Điều kiện để nhận học bổng Tân sinh viên dành ...</td>\n",
       "    </tr>\n",
       "    <tr>\n",
       "      <th>...</th>\n",
       "      <td>...</td>\n",
       "      <td>...</td>\n",
       "      <td>...</td>\n",
       "      <td>...</td>\n",
       "    </tr>\n",
       "    <tr>\n",
       "      <th>106</th>\n",
       "      <td>08736aee-466a-42c6-915d-42b7b6456772</td>\n",
       "      <td>10/2021/309_107</td>\n",
       "      <td>Mức thưởng dành cho sinh viên đạt huy chương đ...</td>\n",
       "      <td>Mức thưởng dành cho sinh viên đạt huy chương đ...</td>\n",
       "    </tr>\n",
       "    <tr>\n",
       "      <th>107</th>\n",
       "      <td>322e7f6e-994e-4356-9a39-2507ed2ef83f</td>\n",
       "      <td>10/2021/309_108</td>\n",
       "      <td>Mức thưởng dành cho sinh viên đạt giải khuyến ...</td>\n",
       "      <td>Mức thưởng dành cho sinh viên đạt giải khuyến ...</td>\n",
       "    </tr>\n",
       "    <tr>\n",
       "      <th>108</th>\n",
       "      <td>2474fbb7-93b2-4e93-bf6f-01087079f150</td>\n",
       "      <td>10/2021/309_109</td>\n",
       "      <td>Mức thưởng dành cho sinh viên có bài báo đăng ...</td>\n",
       "      <td>Mức thưởng sẽ căn cứ theo Quyết định số 1989/2...</td>\n",
       "    </tr>\n",
       "    <tr>\n",
       "      <th>109</th>\n",
       "      <td>0fe74cf4-340e-4317-9821-f8858662be11</td>\n",
       "      <td>10/2021/309_110</td>\n",
       "      <td>Sinh viên đạt thành tích trong phong trào \"Ngư...</td>\n",
       "      <td>Sinh viên đạt thành tích trong phong trào \"Ngư...</td>\n",
       "    </tr>\n",
       "    <tr>\n",
       "      <th>110</th>\n",
       "      <td>443eb55a-4d2b-4c98-a785-6786d7a94962</td>\n",
       "      <td>10/2021/309_111</td>\n",
       "      <td>Những trường hợp nào khác sẽ được Nhà trường k...</td>\n",
       "      <td>Những trường hợp khác, Nhà trường sẽ dựa vào q...</td>\n",
       "    </tr>\n",
       "  </tbody>\n",
       "</table>\n",
       "<p>111 rows × 4 columns</p>\n",
       "</div>"
      ],
      "text/plain": [
       "                              id question        id corpus  \\\n",
       "0    3c32f308-478b-499e-b4be-1b475b592eda    10/2021/309_1   \n",
       "1    ed347cc0-636b-4960-9c71-a09dce3a843e    10/2021/309_2   \n",
       "2    13b5da5e-7409-4a71-940c-3003767b3f7b    10/2021/309_3   \n",
       "3    01c295f2-fb77-46d7-beca-a87fba851b9c    10/2021/309_4   \n",
       "4    73e5e894-b218-4c54-b454-463c104ea97b    10/2021/309_5   \n",
       "..                                    ...              ...   \n",
       "106  08736aee-466a-42c6-915d-42b7b6456772  10/2021/309_107   \n",
       "107  322e7f6e-994e-4356-9a39-2507ed2ef83f  10/2021/309_108   \n",
       "108  2474fbb7-93b2-4e93-bf6f-01087079f150  10/2021/309_109   \n",
       "109  0fe74cf4-340e-4317-9821-f8858662be11  10/2021/309_110   \n",
       "110  443eb55a-4d2b-4c98-a785-6786d7a94962  10/2021/309_111   \n",
       "\n",
       "                                               Câu hỏi  \\\n",
       "0    Học bổng Thủ khoa đầu vào dành cho đối tượng nào?   \n",
       "1    Điều kiện để nhận học bổng Thủ khoa đầu vào là...   \n",
       "2             Mức cấp học bổng Thủ khoa đầu vào là gì?   \n",
       "3        Học bổng Tân sinh viên dành cho các tỉnh nào?   \n",
       "4    Điều kiện để nhận học bổng Tân sinh viên dành ...   \n",
       "..                                                 ...   \n",
       "106  Mức thưởng dành cho sinh viên đạt huy chương đ...   \n",
       "107  Mức thưởng dành cho sinh viên đạt giải khuyến ...   \n",
       "108  Mức thưởng dành cho sinh viên có bài báo đăng ...   \n",
       "109  Sinh viên đạt thành tích trong phong trào \"Ngư...   \n",
       "110  Những trường hợp nào khác sẽ được Nhà trường k...   \n",
       "\n",
       "                                               Trả lời  \n",
       "0    Học bổng Thủ khoa đầu vào dành cho sinh viên t...  \n",
       "1    Điều kiện để nhận học bổng Thủ khoa đầu vào là...  \n",
       "2    Mức cấp học bổng Thủ khoa đầu vào là học bổng ...  \n",
       "3    Học bổng Tân sinh viên dành cho các tỉnh đã ký...  \n",
       "4    Điều kiện để nhận học bổng Tân sinh viên dành ...  \n",
       "..                                                 ...  \n",
       "106  Mức thưởng dành cho sinh viên đạt huy chương đ...  \n",
       "107  Mức thưởng dành cho sinh viên đạt giải khuyến ...  \n",
       "108  Mức thưởng sẽ căn cứ theo Quyết định số 1989/2...  \n",
       "109  Sinh viên đạt thành tích trong phong trào \"Ngư...  \n",
       "110  Những trường hợp khác, Nhà trường sẽ dựa vào q...  \n",
       "\n",
       "[111 rows x 4 columns]"
      ]
     },
     "execution_count": 31,
     "metadata": {},
     "output_type": "execute_result"
    }
   ],
   "source": [
    "import pandas as pd\n",
    "import re\n",
    "import uuid\n",
    "\n",
    "# Đọc nội dung từ file 309.txt\n",
    "file_path = r\"E:\\LLM_clone\\Tdtu-chatbot\\notebooks\\data_finetune\\dataGroundTruth\\data_groundTruth\\309.txt\"\n",
    "with open(file_path, \"r\", encoding=\"utf-8\") as file:\n",
    "    content = file.read()\n",
    "\n",
    "# Sử dụng regex để tách câu hỏi và câu trả lời\n",
    "qa_pairs = re.findall(r\"\\*\\*Câu hỏi \\d+:\\*\\* (.*?)\\n\\n\\*\\*Trả lời:\\*\\* (.*?)(?=\\n---|\\Z)\", content, re.DOTALL)\n",
    "\n",
    "# Tạo dataframe từ các cặp câu hỏi và câu trả lời\n",
    "df = pd.DataFrame(qa_pairs, columns=[\"Câu hỏi\", \"Trả lời\"])\n",
    "\n",
    "# Thêm cột id question và id corpus\n",
    "df[\"id question\"] = [str(uuid.uuid4()) for _ in range(len(df))]\n",
    "df[\"id corpus\"] = [f\"10/2021/309_{i+1}\" for i in range(len(df))]\n",
    "\n",
    "# Sắp xếp lại thứ tự các cột\n",
    "df = df[[\"id question\", \"id corpus\", \"Câu hỏi\", \"Trả lời\"]]\n",
    "\n",
    "df\n"
   ]
  },
  {
   "cell_type": "markdown",
   "metadata": {},
   "source": [
    "# 2505.txt"
   ]
  },
  {
   "cell_type": "code",
   "execution_count": 24,
   "metadata": {},
   "outputs": [
    {
     "data": {
      "text/html": [
       "<div>\n",
       "<style scoped>\n",
       "    .dataframe tbody tr th:only-of-type {\n",
       "        vertical-align: middle;\n",
       "    }\n",
       "\n",
       "    .dataframe tbody tr th {\n",
       "        vertical-align: top;\n",
       "    }\n",
       "\n",
       "    .dataframe thead th {\n",
       "        text-align: right;\n",
       "    }\n",
       "</style>\n",
       "<table border=\"1\" class=\"dataframe\">\n",
       "  <thead>\n",
       "    <tr style=\"text-align: right;\">\n",
       "      <th></th>\n",
       "      <th>Câu hỏi</th>\n",
       "      <th>Trả lời</th>\n",
       "    </tr>\n",
       "  </thead>\n",
       "  <tbody>\n",
       "    <tr>\n",
       "      <th>0</th>\n",
       "      <td>Quy chế Công tác sinh viên áp dụng cho đối tượ...</td>\n",
       "      <td>Quy chế Công tác sinh viên áp dụng đối với sin...</td>\n",
       "    </tr>\n",
       "    <tr>\n",
       "      <th>1</th>\n",
       "      <td>Quy chế Công tác sinh viên quy định về những n...</td>\n",
       "      <td>Quy chế này quy định về công tác sinh viên bao...</td>\n",
       "    </tr>\n",
       "    <tr>\n",
       "      <th>2</th>\n",
       "      <td>Sinh viên được định nghĩa trong Quy chế này là...</td>\n",
       "      <td>Sinh viên được quy định trong Quy chế này là n...</td>\n",
       "    </tr>\n",
       "    <tr>\n",
       "      <th>3</th>\n",
       "      <td>Mục tiêu của công tác sinh viên tại Trường Đại...</td>\n",
       "      <td>Mục tiêu của công tác sinh viên là đảm bảo việ...</td>\n",
       "    </tr>\n",
       "    <tr>\n",
       "      <th>4</th>\n",
       "      <td>Công tác sinh viên tại Trường Đại học Tôn Đức ...</td>\n",
       "      <td>Công tác sinh viên cần phải thực hiện đồng bộ ...</td>\n",
       "    </tr>\n",
       "    <tr>\n",
       "      <th>...</th>\n",
       "      <td>...</td>\n",
       "      <td>...</td>\n",
       "    </tr>\n",
       "    <tr>\n",
       "      <th>100</th>\n",
       "      <td>Sinh viên tự ý di chuyển trang thiết bị, tài s...</td>\n",
       "      <td>Sinh viên sẽ bị xử lý tùy theo mức độ, từ cảnh...</td>\n",
       "    </tr>\n",
       "    <tr>\n",
       "      <th>101</th>\n",
       "      <td>Nếu sinh viên sử dụng tài sản, trang thiết bị ...</td>\n",
       "      <td>Sinh viên sẽ bị xử lý tùy theo mức độ, từ cảnh...</td>\n",
       "    </tr>\n",
       "    <tr>\n",
       "      <th>102</th>\n",
       "      <td>Sinh viên làm mất vệ sinh trong Trường hoặc bỏ...</td>\n",
       "      <td>Sinh viên sẽ bị xử lý tùy theo mức độ, từ cảnh...</td>\n",
       "    </tr>\n",
       "    <tr>\n",
       "      <th>103</th>\n",
       "      <td>Vi phạm lãng phí điện, nước trong Trường sẽ bị...</td>\n",
       "      <td>Sinh viên sẽ bị xử lý tùy theo mức độ, từ cảnh...</td>\n",
       "    </tr>\n",
       "    <tr>\n",
       "      <th>104</th>\n",
       "      <td>Nếu sinh viên lấy cắp tài sản trong Trường, hì...</td>\n",
       "      <td>Sinh viên sẽ bị xử lý từ đình chỉ học tập có t...</td>\n",
       "    </tr>\n",
       "  </tbody>\n",
       "</table>\n",
       "<p>105 rows × 2 columns</p>\n",
       "</div>"
      ],
      "text/plain": [
       "                                               Câu hỏi  \\\n",
       "0    Quy chế Công tác sinh viên áp dụng cho đối tượ...   \n",
       "1    Quy chế Công tác sinh viên quy định về những n...   \n",
       "2    Sinh viên được định nghĩa trong Quy chế này là...   \n",
       "3    Mục tiêu của công tác sinh viên tại Trường Đại...   \n",
       "4    Công tác sinh viên tại Trường Đại học Tôn Đức ...   \n",
       "..                                                 ...   \n",
       "100  Sinh viên tự ý di chuyển trang thiết bị, tài s...   \n",
       "101  Nếu sinh viên sử dụng tài sản, trang thiết bị ...   \n",
       "102  Sinh viên làm mất vệ sinh trong Trường hoặc bỏ...   \n",
       "103  Vi phạm lãng phí điện, nước trong Trường sẽ bị...   \n",
       "104  Nếu sinh viên lấy cắp tài sản trong Trường, hì...   \n",
       "\n",
       "                                               Trả lời  \n",
       "0    Quy chế Công tác sinh viên áp dụng đối với sin...  \n",
       "1    Quy chế này quy định về công tác sinh viên bao...  \n",
       "2    Sinh viên được quy định trong Quy chế này là n...  \n",
       "3    Mục tiêu của công tác sinh viên là đảm bảo việ...  \n",
       "4    Công tác sinh viên cần phải thực hiện đồng bộ ...  \n",
       "..                                                 ...  \n",
       "100  Sinh viên sẽ bị xử lý tùy theo mức độ, từ cảnh...  \n",
       "101  Sinh viên sẽ bị xử lý tùy theo mức độ, từ cảnh...  \n",
       "102  Sinh viên sẽ bị xử lý tùy theo mức độ, từ cảnh...  \n",
       "103  Sinh viên sẽ bị xử lý tùy theo mức độ, từ cảnh...  \n",
       "104  Sinh viên sẽ bị xử lý từ đình chỉ học tập có t...  \n",
       "\n",
       "[105 rows x 2 columns]"
      ]
     },
     "execution_count": 24,
     "metadata": {},
     "output_type": "execute_result"
    }
   ],
   "source": [
    "import pandas as pd\n",
    "import re\n",
    "\n",
    "# Đọc nội dung từ file 309.txt\n",
    "file_path = r\"E:\\LLM_clone\\Tdtu-chatbot\\notebooks\\data_finetune\\dataGroundTruth\\data_groundTruth\\2505.txt\"\n",
    "with open(file_path, \"r\", encoding=\"utf-8\") as file:\n",
    "    content = file.read()\n",
    "\n",
    "# Sử dụng regex để tách câu hỏi và câu trả lời\n",
    "qa_pairs = re.findall(r\"\\*\\*Câu hỏi \\d+:\\*\\* (.*?)\\n\\n\\*\\*Trả lời:\\*\\* (.*?)(?=\\n---|\\Z)\", content, re.DOTALL)\n",
    "\n",
    "# Tạo dataframe từ các cặp câu hỏi và câu trả lời\n",
    "df = pd.DataFrame(qa_pairs, columns=[\"Câu hỏi\", \"Trả lời\"])\n",
    "df\n",
    "\n",
    "# excel_file_path = \"2505_1.xlsx\"\n",
    "# df.to_excel(excel_file_path, index=False, engine=\"openpyxl\")"
   ]
  },
  {
   "cell_type": "markdown",
   "metadata": {},
   "source": [
    "# DRL.txt"
   ]
  },
  {
   "cell_type": "code",
   "execution_count": 27,
   "metadata": {},
   "outputs": [
    {
     "data": {
      "text/html": [
       "<div>\n",
       "<style scoped>\n",
       "    .dataframe tbody tr th:only-of-type {\n",
       "        vertical-align: middle;\n",
       "    }\n",
       "\n",
       "    .dataframe tbody tr th {\n",
       "        vertical-align: top;\n",
       "    }\n",
       "\n",
       "    .dataframe thead th {\n",
       "        text-align: right;\n",
       "    }\n",
       "</style>\n",
       "<table border=\"1\" class=\"dataframe\">\n",
       "  <thead>\n",
       "    <tr style=\"text-align: right;\">\n",
       "      <th></th>\n",
       "      <th>Câu hỏi</th>\n",
       "      <th>Trả lời</th>\n",
       "    </tr>\n",
       "  </thead>\n",
       "  <tbody>\n",
       "    <tr>\n",
       "      <th>0</th>\n",
       "      <td>Sinh viên không vi phạm nội quy, quy định của ...</td>\n",
       "      <td>Sinh viên không vi phạm nội quy, quy định của ...</td>\n",
       "    </tr>\n",
       "    <tr>\n",
       "      <th>1</th>\n",
       "      <td>Nếu sinh viên vi phạm nội quy, quy chế, hình t...</td>\n",
       "      <td>\\n- Nhắc nhở: - 05 điểm  \\n- Phê bình: - 07 đ...</td>\n",
       "    </tr>\n",
       "    <tr>\n",
       "      <th>2</th>\n",
       "      <td>Nếu sinh viên không chấp hành điều động, phân ...</td>\n",
       "      <td>Sinh viên sẽ bị trừ 05 điểm/lần.  \\n</td>\n",
       "    </tr>\n",
       "    <tr>\n",
       "      <th>3</th>\n",
       "      <td>Tham gia các cuộc thi học thuật, nghiên cứu kh...</td>\n",
       "      <td>Sinh viên sẽ được 10 điểm.  \\n</td>\n",
       "    </tr>\n",
       "    <tr>\n",
       "      <th>4</th>\n",
       "      <td>Tham gia các cuộc thi học thuật, nghiên cứu kh...</td>\n",
       "      <td>Sinh viên sẽ được 15 điểm.  \\n</td>\n",
       "    </tr>\n",
       "    <tr>\n",
       "      <th>...</th>\n",
       "      <td>...</td>\n",
       "      <td>...</td>\n",
       "    </tr>\n",
       "    <tr>\n",
       "      <th>67</th>\n",
       "      <td>Sinh viên sẽ nhận được bao nhiêu điểm rèn luyệ...</td>\n",
       "      <td>Sinh viên sẽ nhận được 50 điểm.  \\n</td>\n",
       "    </tr>\n",
       "    <tr>\n",
       "      <th>68</th>\n",
       "      <td>Sinh viên sẽ nhận được bao nhiêu điểm rèn luyệ...</td>\n",
       "      <td>Sinh viên sẽ nhận được 40 điểm.  \\n</td>\n",
       "    </tr>\n",
       "    <tr>\n",
       "      <th>69</th>\n",
       "      <td>Sinh viên sẽ nhận được bao nhiêu điểm rèn luyệ...</td>\n",
       "      <td>Sinh viên sẽ nhận được 00 điểm.  \\n</td>\n",
       "    </tr>\n",
       "    <tr>\n",
       "      <th>70</th>\n",
       "      <td>Sinh viên không tham gia tập sự nghề nghiệp th...</td>\n",
       "      <td>Sinh viên sẽ tham gia hoạt động bình thường và...</td>\n",
       "    </tr>\n",
       "    <tr>\n",
       "      <th>71</th>\n",
       "      <td>Trong học kỳ tập sự nghề nghiệp, nếu sinh viên...</td>\n",
       "      <td>Hệ thống sẽ ghi nhận hoạt động ngoại khóa nhưn...</td>\n",
       "    </tr>\n",
       "  </tbody>\n",
       "</table>\n",
       "<p>72 rows × 2 columns</p>\n",
       "</div>"
      ],
      "text/plain": [
       "                                              Câu hỏi  \\\n",
       "0   Sinh viên không vi phạm nội quy, quy định của ...   \n",
       "1   Nếu sinh viên vi phạm nội quy, quy chế, hình t...   \n",
       "2   Nếu sinh viên không chấp hành điều động, phân ...   \n",
       "3   Tham gia các cuộc thi học thuật, nghiên cứu kh...   \n",
       "4   Tham gia các cuộc thi học thuật, nghiên cứu kh...   \n",
       "..                                                ...   \n",
       "67  Sinh viên sẽ nhận được bao nhiêu điểm rèn luyệ...   \n",
       "68  Sinh viên sẽ nhận được bao nhiêu điểm rèn luyệ...   \n",
       "69  Sinh viên sẽ nhận được bao nhiêu điểm rèn luyệ...   \n",
       "70  Sinh viên không tham gia tập sự nghề nghiệp th...   \n",
       "71  Trong học kỳ tập sự nghề nghiệp, nếu sinh viên...   \n",
       "\n",
       "                                              Trả lời  \n",
       "0   Sinh viên không vi phạm nội quy, quy định của ...  \n",
       "1    \\n- Nhắc nhở: - 05 điểm  \\n- Phê bình: - 07 đ...  \n",
       "2                Sinh viên sẽ bị trừ 05 điểm/lần.  \\n  \n",
       "3                      Sinh viên sẽ được 10 điểm.  \\n  \n",
       "4                      Sinh viên sẽ được 15 điểm.  \\n  \n",
       "..                                                ...  \n",
       "67                Sinh viên sẽ nhận được 50 điểm.  \\n  \n",
       "68                Sinh viên sẽ nhận được 40 điểm.  \\n  \n",
       "69                Sinh viên sẽ nhận được 00 điểm.  \\n  \n",
       "70  Sinh viên sẽ tham gia hoạt động bình thường và...  \n",
       "71  Hệ thống sẽ ghi nhận hoạt động ngoại khóa nhưn...  \n",
       "\n",
       "[72 rows x 2 columns]"
      ]
     },
     "execution_count": 27,
     "metadata": {},
     "output_type": "execute_result"
    }
   ],
   "source": [
    "import pandas as pd\n",
    "import re\n",
    "\n",
    "# Đọc nội dung từ file 309.txt\n",
    "file_path = r\"E:\\LLM_clone\\Tdtu-chatbot\\notebooks\\data_finetune\\dataGroundTruth\\data_groundTruth\\DRL.txt\"\n",
    "with open(file_path, \"r\", encoding=\"utf-8\") as file:\n",
    "    content = file.read()\n",
    "\n",
    "# Sử dụng regex để tách câu hỏi và câu trả lời\n",
    "qa_pairs = re.findall(r\"\\*\\*Câu hỏi \\d+:\\*\\* (.*?)\\n\\n\\*\\*Trả lời:\\*\\* (.*?)(?=\\n---|\\Z)\", content, re.DOTALL)\n",
    "\n",
    "# Tạo dataframe từ các cặp câu hỏi và câu trả lời\n",
    "df = pd.DataFrame(qa_pairs, columns=[\"Câu hỏi\", \"Trả lời\"])\n",
    "df\n",
    "\n",
    "# excel_file_path = \"DRL1.xlsx\"\n",
    "# df.to_excel(excel_file_path, index=False, engine=\"openpyxl\")"
   ]
  },
  {
   "cell_type": "markdown",
   "metadata": {},
   "source": [
    "# QCDT"
   ]
  },
  {
   "cell_type": "code",
   "execution_count": 29,
   "metadata": {},
   "outputs": [],
   "source": [
    "import pandas as pd\n",
    "import re\n",
    "\n",
    "# Đọc nội dung từ file 309.txt\n",
    "file_path = r\"E:\\LLM_clone\\Tdtu-chatbot\\notebooks\\data_finetune\\dataGroundTruth\\data_groundTruth\\QCDT.txt\"\n",
    "with open(file_path, \"r\", encoding=\"utf-8\") as file:\n",
    "    content = file.read()\n",
    "\n",
    "# Sử dụng regex để tách câu hỏi và câu trả lời\n",
    "qa_pairs = re.findall(r\"\\*\\*Câu hỏi \\d+:\\*\\* (.*?)\\n\\n\\*\\*Trả lời:\\*\\* (.*?)(?=\\n---|\\Z)\", content, re.DOTALL)\n",
    "\n",
    "# Tạo dataframe từ các cặp câu hỏi và câu trả lời\n",
    "df = pd.DataFrame(qa_pairs, columns=[\"Câu hỏi\", \"Trả lời\"])\n",
    "df\n",
    "\n",
    "excel_file_path = \"QCDT1.xlsx\"\n",
    "df.to_excel(excel_file_path, index=False, engine=\"openpyxl\")"
   ]
  },
  {
   "cell_type": "markdown",
   "metadata": {},
   "source": [
    "# Done\n"
   ]
  },
  {
   "cell_type": "code",
   "execution_count": null,
   "metadata": {},
   "outputs": [],
   "source": [
    "# 309.txt, 2505.txt, DRL.txt, QCDT.txt                          :Tên txt\n",
    "# 10 năm 2021, 2 năm 2022, 3 năm 2019, 9 năm 2021               :Năm        - Corpus id\n",
    "# Mỗi question là 1 id_question\n",
    "\n",
    "# 3 data\n",
    "# id question -> (uuid.uuid4()), question\n",
    "# id corpus (tên txt_stt. -> 10/2021/309_1, ), text\n",
    "# id question, id corpus"
   ]
  },
  {
   "cell_type": "code",
   "execution_count": 35,
   "metadata": {},
   "outputs": [
    {
     "data": {
      "text/plain": [
       "{'309.txt': '10/2021/309',\n",
       " '2505.txt': '2/2022/2505',\n",
       " 'DRL.txt': '3/2019/DRL',\n",
       " 'QCDT.txt': '9/2021/QCDT'}"
      ]
     },
     "execution_count": 35,
     "metadata": {},
     "output_type": "execute_result"
    }
   ],
   "source": [
    "# Danh sách các file TXT và năm tương ứng\n",
    "file_info = {\n",
    "    \"309.txt\": \"10 năm 2021\",\n",
    "    \"2505.txt\": \"2 năm 2022\",\n",
    "    \"DRL.txt\": \"3 năm 2019\",\n",
    "    \"QCDT.txt\": \"9 năm 2021\"\n",
    "}\n",
    "\n",
    "# Tạo dict chứa tên file và id corpus với năm đúng từ dữ liệu\n",
    "file_id_dict = {\n",
    "    file_name: f\"{time_info.split(' ')[0]}/{time_info.split(' ')[2]}/{os.path.splitext(file_name)[0]}\"\n",
    "    for file_name, time_info in file_info.items()\n",
    "}\n",
    "\n",
    "# Kết quả\n",
    "file_id_dict\n"
   ]
  },
  {
   "cell_type": "code",
   "execution_count": 2,
   "metadata": {},
   "outputs": [
    {
     "name": "stdout",
     "output_type": "stream",
     "text": [
      "Data combined and exported to: E:\\LLM_clone\\Tdtu-chatbot\\notebooks\\data_finetune\\dataGroundTruth\\data_groundTruth\\combined_output.xlsx\n"
     ]
    }
   ],
   "source": [
    "import os\n",
    "import pandas as pd\n",
    "import re\n",
    "import uuid\n",
    "\n",
    "# Danh sách các file TXT và năm tương ứng\n",
    "file_info = {\n",
    "    \"309.txt\": \"10 năm 2021\",\n",
    "    \"2505.txt\": \"2 năm 2022\",\n",
    "    \"DRL.txt\": \"3 năm 2019\",\n",
    "    \"QCDT.txt\": \"9 năm 2021\"\n",
    "}\n",
    "\n",
    "# Tạo dict chứa tên file và id corpus base (không có số thứ tự)\n",
    "file_id_dict = {\n",
    "    file_name: f\"{time_info.split(' ')[0]}/{time_info.split(' ')[2]}/{os.path.splitext(file_name)[0]}\"\n",
    "    for file_name, time_info in file_info.items()\n",
    "}\n",
    "\n",
    "# Đường dẫn tới thư mục chứa các file TXT\n",
    "folder_path = r\"E:\\LLM_clone\\Tdtu-chatbot\\notebooks\\data_finetune\\dataGroundTruth\\data_groundTruth\"\n",
    "\n",
    "# Tạo danh sách các file TXT trong thư mục\n",
    "file_list = [f for f in os.listdir(folder_path) if f.endswith(\".txt\")]\n",
    "\n",
    "# Tạo một DataFrame trống để lưu kết quả\n",
    "all_data = pd.DataFrame(columns=[\"id_question\", \"id_corpus\", \"question\", \"text\"])\n",
    "\n",
    "# Lặp qua từng file TXT\n",
    "for file_name in file_list:\n",
    "    file_path = os.path.join(folder_path, file_name)\n",
    "    with open(file_path, \"r\", encoding=\"utf-8\") as file:\n",
    "        content = file.read()\n",
    "\n",
    "    # Sử dụng regex để tách câu hỏi và câu trả lời\n",
    "    qa_pairs = re.findall(r\"\\*\\*Câu hỏi \\d+:\\*\\* (.*?)\\n\\n\\*\\*Trả lời:\\*\\* (.*?)(?=\\n---|\\Z)\", content, re.DOTALL)\n",
    "    \n",
    "    # Tạo DataFrame từ các cặp câu hỏi và câu trả lời\n",
    "    df = pd.DataFrame(qa_pairs, columns=[\"question\", \"text\"])\n",
    "    \n",
    "    # Lấy id corpus base từ file_id_dict\n",
    "    base_corpus_id = file_id_dict.get(file_name, f\"unknown/{file_name}\")\n",
    "    \n",
    "    # Thêm cột id question và id corpus\n",
    "    df[\"id_question\"] = [str(uuid.uuid4()) for _ in range(len(df))]\n",
    "    df[\"id_corpus\"] = [f\"{base_corpus_id}_{i+1}\" for i in range(len(df))]\n",
    "    \n",
    "    # Sắp xếp lại thứ tự các cột\n",
    "    df = df[[\"id_question\", \"id_corpus\", \"question\", \"text\"]]\n",
    "    \n",
    "    # Nối vào DataFrame tổng\n",
    "    all_data = pd.concat([all_data, df], ignore_index=True)\n",
    "\n",
    "# Xuất DataFrame tổng ra file Excel\n",
    "output_path = os.path.join(folder_path, \"combined_output.xlsx\")\n",
    "all_data.to_excel(output_path, index=False, engine=\"openpyxl\")\n",
    "print(f\"Data combined and exported to: {output_path}\")\n"
   ]
  },
  {
   "cell_type": "code",
   "execution_count": 3,
   "metadata": {},
   "outputs": [],
   "source": [
    "# Tách các bảng con\n",
    "queries_df = all_data[[\"id_question\", \"question\"]]\n",
    "corpus_df = all_data[[\"id_corpus\", \"text\"]]\n",
    "labels_df = all_data[[\"id_question\", \"id_corpus\"]]"
   ]
  },
  {
   "cell_type": "code",
   "execution_count": 1,
   "metadata": {},
   "outputs": [],
   "source": [
    "import pandas as pd\n",
    "from datasets import Dataset\n",
    "from huggingface_hub import HfApi, HfFolder\n",
    "import json\n",
    "\n",
    "# Đăng nhập Hugging Face\n",
    "credentials_path = r\"E:\\LLM_clone\\Tdtu-chatbot\\credentials.json\"\n",
    "with open(credentials_path, \"r\") as f:\n",
    "    credentials = json.load(f)\n",
    "\n",
    "hf_token = credentials[\"Huggingface\"]\n",
    "HfFolder.save_token(hf_token)"
   ]
  },
  {
   "cell_type": "code",
   "execution_count": 7,
   "metadata": {},
   "outputs": [
    {
     "data": {
      "application/vnd.jupyter.widget-view+json": {
       "model_id": "ee239a7c88164fddbebbc7c87ac39ed1",
       "version_major": 2,
       "version_minor": 0
      },
      "text/plain": [
       "Uploading the dataset shards:   0%|          | 0/1 [00:00<?, ?it/s]"
      ]
     },
     "metadata": {},
     "output_type": "display_data"
    },
    {
     "data": {
      "application/vnd.jupyter.widget-view+json": {
       "model_id": "4068484f73694390af1526c1010b0435",
       "version_major": 2,
       "version_minor": 0
      },
      "text/plain": [
       "Creating parquet from Arrow format:   0%|          | 0/1 [00:00<?, ?ba/s]"
      ]
     },
     "metadata": {},
     "output_type": "display_data"
    },
    {
     "name": "stdout",
     "output_type": "stream",
     "text": [
      "Queries data uploaded to: https://huggingface.co/datasets/HoangVuSnape/Tdtu_eval\n"
     ]
    },
    {
     "data": {
      "application/vnd.jupyter.widget-view+json": {
       "model_id": "dcb2a730b8594d29b159de6806fc7075",
       "version_major": 2,
       "version_minor": 0
      },
      "text/plain": [
       "Uploading the dataset shards:   0%|          | 0/1 [00:00<?, ?it/s]"
      ]
     },
     "metadata": {},
     "output_type": "display_data"
    },
    {
     "data": {
      "application/vnd.jupyter.widget-view+json": {
       "model_id": "d114c5e3977c4769ba256446e6bb36b6",
       "version_major": 2,
       "version_minor": 0
      },
      "text/plain": [
       "Creating parquet from Arrow format:   0%|          | 0/1 [00:00<?, ?ba/s]"
      ]
     },
     "metadata": {},
     "output_type": "display_data"
    },
    {
     "data": {
      "application/vnd.jupyter.widget-view+json": {
       "model_id": "3693d0c16a5a4e82a8ea77fc66adf3b5",
       "version_major": 2,
       "version_minor": 0
      },
      "text/plain": [
       "README.md:   0%|          | 0.00/337 [00:00<?, ?B/s]"
      ]
     },
     "metadata": {},
     "output_type": "display_data"
    },
    {
     "name": "stdout",
     "output_type": "stream",
     "text": [
      "Corpus data uploaded to: https://huggingface.co/datasets/HoangVuSnape/Tdtu_eval\n"
     ]
    }
   ],
   "source": [
    "# Push queries and corpus as separate configurations\n",
    "repo_name_split = \"HoangVuSnape/Tdtu_eval\"\n",
    "\n",
    "queries_dataset = Dataset.from_pandas(queries_df)\n",
    "corpus_dataset = Dataset.from_pandas(corpus_df)\n",
    "\n",
    "# Push queries as one configuration\n",
    "queries_dataset.push_to_hub(repo_name_split, config_name=\"queries\", token=hf_token)\n",
    "print(f\"Queries data uploaded to: https://huggingface.co/datasets/{repo_name_split}\")\n",
    "\n",
    "# Push corpus as another configuration\n",
    "corpus_dataset.push_to_hub(repo_name_split, config_name=\"corpus\", token=hf_token)\n",
    "print(f\"Corpus data uploaded to: https://huggingface.co/datasets/{repo_name_split}\")"
   ]
  },
  {
   "cell_type": "code",
   "execution_count": 8,
   "metadata": {},
   "outputs": [
    {
     "data": {
      "application/vnd.jupyter.widget-view+json": {
       "model_id": "993f63ed36164b31a27a65cfdf25e71f",
       "version_major": 2,
       "version_minor": 0
      },
      "text/plain": [
       "Uploading the dataset shards:   0%|          | 0/1 [00:00<?, ?it/s]"
      ]
     },
     "metadata": {},
     "output_type": "display_data"
    },
    {
     "data": {
      "application/vnd.jupyter.widget-view+json": {
       "model_id": "f89fb6be6f104d1fb058208fe5fce0b9",
       "version_major": 2,
       "version_minor": 0
      },
      "text/plain": [
       "Creating parquet from Arrow format:   0%|          | 0/1 [00:00<?, ?ba/s]"
      ]
     },
     "metadata": {},
     "output_type": "display_data"
    },
    {
     "name": "stdout",
     "output_type": "stream",
     "text": [
      "Labels data uploaded to: https://huggingface.co/datasets/HoangVuSnape/Tdtu_eval_label\n"
     ]
    }
   ],
   "source": [
    "# Push labels to a separate repository\n",
    "repo_name_labels = \"HoangVuSnape/Tdtu_eval_label\"\n",
    "labels_dataset = Dataset.from_pandas(labels_df)\n",
    "\n",
    "labels_dataset.push_to_hub(repo_name_labels, token=hf_token)\n",
    "print(f\"Labels data uploaded to: https://huggingface.co/datasets/{repo_name_labels}\")"
   ]
  }
 ],
 "metadata": {
  "kernelspec": {
   "display_name": "testApp",
   "language": "python",
   "name": "python3"
  },
  "language_info": {
   "codemirror_mode": {
    "name": "ipython",
    "version": 3
   },
   "file_extension": ".py",
   "mimetype": "text/x-python",
   "name": "python",
   "nbconvert_exporter": "python",
   "pygments_lexer": "ipython3",
   "version": "3.11.9"
  }
 },
 "nbformat": 4,
 "nbformat_minor": 2
}
