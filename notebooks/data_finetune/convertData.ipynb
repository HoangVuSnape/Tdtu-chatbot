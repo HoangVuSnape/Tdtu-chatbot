{
 "cells": [
  {
   "cell_type": "markdown",
   "metadata": {},
   "source": [
    "# Clean \n",
    "- 16_1\n",
    "- 16_2"
   ]
  },
  {
   "cell_type": "code",
   "execution_count": 10,
   "metadata": {},
   "outputs": [
    {
     "name": "stdout",
     "output_type": "stream",
     "text": [
      "File Excel đã được tạo thành công: 16_3.xlsx\n"
     ]
    }
   ],
   "source": [
    "import pandas as pd\n",
    "import re\n",
    "\n",
    "# Đọc nội dung file .md\n",
    "# file_path = \"E:/LLM_clone/Tdtu-chatbot/notebooks/data_finetune/16_1.md\"\n",
    "# file_path = \"E:/LLM_clone/Tdtu-chatbot/notebooks/data_finetune/16_2.md\"\n",
    "file_path = \"E:/LLM_clone/Tdtu-chatbot/notebooks/data_finetune/16_3.md\"\n",
    "\n",
    "with open(file_path, \"r\", encoding=\"utf-8\") as file:\n",
    "    content = file.read()\n",
    "\n",
    "# Định nghĩa các biểu thức chính quy (regex) để tìm câu hỏi và câu trả lời\n",
    "# Điều chỉnh để tách câu hỏi và câu trả lời mà không bị dính liền nhau\n",
    "question_pattern_1 = re.compile(r\"(\\d+\\..*?\\?)\\s*Trả lời:([\\s\\S]*?)(?=\\s*(\\d+\\.)|^$)\", re.MULTILINE)\n",
    "question_pattern_2 = re.compile(r\"(\\d+\\..*?\\?)\\s*Trả lời:([\\s\\S]*?)(?=\\s*(\\d+\\.)|^$)\", re.MULTILINE)\n",
    "question_pattern_3 = re.compile(r\"(\\d+\\..*?\\?)\\s*([\\s\\S]*?)(?=\\s*\\d+\\.)\", re.MULTILINE)\n",
    "question_pattern_4 = re.compile(r\"(Câu \\d+:.*?\\?)\\s*Đáp:([\\s\\S]*?)(?=\\s*(Câu \\d+:)|^$)\", re.MULTILINE)\n",
    "\n",
    "# Kết hợp tất cả các mẫu regex lại\n",
    "all_patterns = [question_pattern_1, question_pattern_2, question_pattern_3, question_pattern_4]\n",
    "\n",
    "# Khởi tạo danh sách lưu trữ câu hỏi và câu trả lời\n",
    "data = []\n",
    "\n",
    "# Tìm các câu hỏi và câu trả lời phù hợp với từng mẫu\n",
    "for pattern in all_patterns:\n",
    "    matches = re.findall(pattern, content)\n",
    "    for match in matches:\n",
    "        question = match[0].strip()  # Câu hỏi\n",
    "        answer = match[1].strip().replace(\"\\n\", \" \").replace(\"\\r\", \"\")  # Đáp án\n",
    "        data.append({\"Question\": question, \"Answer\": answer})\n",
    "\n",
    "# Chuyển danh sách thành DataFrame\n",
    "df = pd.DataFrame(data)\n",
    "\n",
    "# Xuất ra file Excel\n",
    "excel_file_path = \"16_3.xlsx\"\n",
    "df.to_excel(excel_file_path, index=False, engine=\"openpyxl\")\n",
    "\n",
    "print(f\"File Excel đã được tạo thành công: {excel_file_path}\")\n"
   ]
  },
  {
   "cell_type": "code",
   "execution_count": 6,
   "metadata": {},
   "outputs": [],
   "source": [
    "import pandas as pd\n",
    "\n",
    "# Đọc file Excel\n",
    "file_path = \"E:/LLM_clone/Tdtu-chatbot/notebooks/data_finetune/16_1.xlsx\"  # Thay đường dẫn file của bạn\n",
    "df = pd.read_excel(file_path)\n",
    "\n",
    "# Xóa phần số và dấu \"**\" ở đầu mỗi dòng\n",
    "df['Question'] = df['Question'].str.replace(r'^\\d+\\.\\*\\*\\s*', '', regex=True)\n",
    "\n",
    "# Xóa cụm \"**Trả lời:**\" ở đầu mỗi dòng\n",
    "df['Answer'] = df['Answer'].str.replace(r'^\\*\\*Trả lời:\\*\\*\\s*', '', regex=True)\n",
    "\n",
    "# Xóa cụm \"**\" ở cuối mỗi dòng\n",
    "df['Answer'] = df['Answer'].str.replace(r'\\*\\*$', '', regex=True)\n",
    "\n",
    "# Lưu lại file Excel sau khi xử lý\n",
    "df.to_excel(\"cleaned_file.xlsx\", index=False)\n"
   ]
  },
  {
   "cell_type": "markdown",
   "metadata": {},
   "source": [
    "## 16_2"
   ]
  },
  {
   "cell_type": "code",
   "execution_count": 9,
   "metadata": {},
   "outputs": [],
   "source": [
    "import pandas as pd\n",
    "\n",
    "# Đọc file Excel\n",
    "file_path = \"E:/LLM_clone/Tdtu-chatbot/notebooks/data_finetune/16_2.xlsx\"  # Thay đường dẫn file của bạn\n",
    "df = pd.read_excel(file_path)\n",
    "\n",
    "# Xóa phần số và dấu \"**\" ở đầu mỗi dòng\n",
    "df['Question'] = df['Question'].str.replace(r'^\\d+\\.\\s*\\*\\*', '', regex=True)\n",
    "\n",
    "# Xóa cụm \"**Trả lời:**\" ở đầu mỗi dòng\n",
    "df['Answer'] = df['Answer'].str.replace(r'\\*\\*\\s*', '', regex=True)\n",
    "\n",
    "# Lưu lại file Excel sau khi xử lý\n",
    "df.to_excel(\"cleaned_file.xlsx\", index=False)\n"
   ]
  },
  {
   "cell_type": "markdown",
   "metadata": {},
   "source": [
    "## 16_3"
   ]
  },
  {
   "cell_type": "code",
   "execution_count": 12,
   "metadata": {},
   "outputs": [
    {
     "name": "stdout",
     "output_type": "stream",
     "text": [
      "File Excel đã được tạo thành công: 16_3.xlsx\n"
     ]
    }
   ],
   "source": [
    "import pandas as pd\n",
    "import re\n",
    "\n",
    "# Đọc nội dung file .md\n",
    "file_path = \"E:/LLM_clone/Tdtu-chatbot/notebooks/data_finetune/16_3.md\"\n",
    "\n",
    "with open(file_path, \"r\", encoding=\"utf-8\") as file:\n",
    "    content = file.read()\n",
    "\n",
    "# Định nghĩa biểu thức chính quy (regex) để tách câu hỏi và câu trả lời\n",
    "pattern = re.compile(r\"\\*\\*Câu \\d+:\\*\\*\\s*\\*\\*Hỏi:\\*\\*\\s*(.*?)\\s*\\*\\*Đáp:\\*\\*\\s*(.*?)\\n\", re.DOTALL)\n",
    "\n",
    "# Tìm các cặp câu hỏi và câu trả lời\n",
    "matches = re.findall(pattern, content)\n",
    "\n",
    "# Lưu kết quả vào danh sách\n",
    "data = []\n",
    "for match in matches:\n",
    "    question = match[0].strip()  # Lấy câu hỏi và loại bỏ khoảng trắng thừa\n",
    "    answer = match[1].strip()    # Lấy câu trả lời và loại bỏ khoảng trắng thừa\n",
    "    data.append({\"Question\": question, \"Answer\": answer})\n",
    "\n",
    "# Chuyển danh sách thành DataFrame\n",
    "df = pd.DataFrame(data)\n",
    "\n",
    "# Xuất ra file Excel\n",
    "excel_file_path = \"16_3.xlsx\"\n",
    "df.to_excel(excel_file_path, index=False, engine=\"openpyxl\")\n",
    "\n",
    "print(f\"File Excel đã được tạo thành công: {excel_file_path}\")\n"
   ]
  },
  {
   "cell_type": "markdown",
   "metadata": {},
   "source": [
    "# Xử lý 26 slide"
   ]
  },
  {
   "cell_type": "markdown",
   "metadata": {},
   "source": [
    "## 26_1"
   ]
  },
  {
   "cell_type": "code",
   "execution_count": 4,
   "metadata": {},
   "outputs": [
    {
     "name": "stdout",
     "output_type": "stream",
     "text": [
      "File Excel đã được tạo thành công: 26_1.xlsx\n"
     ]
    }
   ],
   "source": [
    "import pandas as pd\n",
    "import re\n",
    "\n",
    "# Đường dẫn tới file .md\n",
    "file_path = \"E:/LLM_clone/Tdtu-chatbot/notebooks/data_finetune/26_1.md\"\n",
    "\n",
    "# Đọc nội dung file .md\n",
    "with open(file_path, \"r\", encoding=\"utf-8\") as file:\n",
    "    content = file.read()\n",
    "\n",
    "# Định nghĩa biểu thức chính quy (regex) để tách câu hỏi và câu trả lời\n",
    "pattern = re.compile(r\"\\d+\\.\\s\\*\\*Hỏi:\\*\\*\\s(.*?)\\s+\\*\\*Trả lời:\\*\\*\\s(.*?)(?=\\n\\d+\\.|$)\", re.DOTALL)\n",
    "\n",
    "# Tìm các cặp câu hỏi và câu trả lời\n",
    "matches = re.findall(pattern, content)\n",
    "\n",
    "# Lưu kết quả vào danh sách\n",
    "data = []\n",
    "for match in matches:\n",
    "    question = match[0].strip()  # Lấy câu hỏi và loại bỏ khoảng trắng thừa\n",
    "    answer = match[1].strip()    # Lấy câu trả lời và loại bỏ khoảng trắng thừa\n",
    "    data.append({\"Question\": question, \"Answer\": answer})\n",
    "\n",
    "# Chuyển danh sách thành DataFrame\n",
    "df = pd.DataFrame(data)\n",
    "\n",
    "# Xuất ra file Excel\n",
    "excel_file_path = \"26_1.xlsx\"\n",
    "df.to_excel(excel_file_path, index=False, engine=\"openpyxl\")\n",
    "\n",
    "print(f\"File Excel đã được tạo thành công: {excel_file_path}\")\n"
   ]
  },
  {
   "cell_type": "code",
   "execution_count": 8,
   "metadata": {},
   "outputs": [
    {
     "name": "stdout",
     "output_type": "stream",
     "text": [
      "File Excel đã được tạo thành công: 26_1_complete.xlsx\n"
     ]
    }
   ],
   "source": [
    "import pandas as pd\n",
    "import re\n",
    "\n",
    "\n",
    "# Đường dẫn tới file .md\n",
    "file_path = \"E:/LLM_clone/Tdtu-chatbot/notebooks/data_finetune/26_1.md\"\n",
    "\n",
    "# Đọc nội dung file .md\n",
    "with open(file_path, \"r\", encoding=\"utf-8\") as file:\n",
    "    content = file.read()\n",
    "\n",
    "# Định nghĩa biểu thức chính quy (regex) để tách câu hỏi và câu trả lời\n",
    "pattern1 = re.compile(r\"\\d+\\.\\s\\*\\*Hỏi:\\*\\*\\s(.*?)\\s+\\*\\*Trả lời:\\*\\*\\s(.*?)(?=\\n\\d+\\.|$)\", re.DOTALL)\n",
    "\n",
    "pattern2 = re.compile(r\"\\d+\\.\\s\\*\\*Hỏi\\*\\*:?\\s(.*?)\\s+\\*\\*Trả lời\\*\\*:?\\s(.*?)(?=\\n\\d+\\.|$)\", re.DOTALL)\n",
    "\n",
    "# Kết hợp tất cả các mẫu regex lại\n",
    "all_patterns = [pattern1, pattern2]\n",
    "\n",
    "# Khởi tạo danh sách lưu trữ câu hỏi và câu trả lời\n",
    "data = []\n",
    "\n",
    "# Tìm các câu hỏi và câu trả lời phù hợp với từng mẫu\n",
    "for pattern in all_patterns:\n",
    "    matches = re.findall(pattern, content)\n",
    "    for match in matches:\n",
    "        question = match[0].strip()  # Câu hỏi\n",
    "        answer = match[1].strip()  # Đáp án\n",
    "        data.append({\"Question\": question, \"Answer\": answer})\n",
    "\n",
    "# Chuyển danh sách thành DataFrame\n",
    "df = pd.DataFrame(data)\n",
    "\n",
    "# Xuất ra file Excel\n",
    "excel_file_path = \"26_1_complete.xlsx\"\n",
    "df.to_excel(excel_file_path, index=False, engine=\"openpyxl\")\n",
    "\n",
    "print(f\"File Excel đã được tạo thành công: {excel_file_path}\")\n"
   ]
  },
  {
   "cell_type": "markdown",
   "metadata": {},
   "source": [
    "## 26_2"
   ]
  },
  {
   "cell_type": "code",
   "execution_count": 7,
   "metadata": {},
   "outputs": [
    {
     "name": "stdout",
     "output_type": "stream",
     "text": [
      "File Excel đã được tạo thành công: 26_2_complete.xlsx\n"
     ]
    }
   ],
   "source": [
    "import pandas as pd\n",
    "import re\n",
    "\n",
    "\n",
    "# Đường dẫn tới file .md\n",
    "file_path = \"E:/LLM_clone/Tdtu-chatbot/notebooks/data_finetune/26_2.md\"\n",
    "\n",
    "# Đọc nội dung file .md\n",
    "with open(file_path, \"r\", encoding=\"utf-8\") as file:\n",
    "    content = file.read()\n",
    "\n",
    "# Định nghĩa biểu thức chính quy (regex) để tách câu hỏi và câu trả lời\n",
    "pattern1 = re.compile(\n",
    "    r\"\\d+\\.\\s\\*\\*Câu hỏi:\\*\\*\\s(.*?)\\s+\\*\\*Trả lời:\\*\\*\\s(.*?)(?=\\n\\d+\\.|$)\", re.DOTALL\n",
    ")\n",
    "\n",
    "pattern2 = re.compile(\n",
    "    r\"\\d+\\.\\s\\*\\*Câu hỏi\\*\\*:?\\s(.*?)\\s+\\*\\*Trả lời\\*\\*:?\\s(.*?)(?=\\n\\d+\\.|$)\", re.DOTALL\n",
    ")\n",
    "\n",
    "\n",
    "# Kết hợp tất cả các mẫu regex lại\n",
    "all_patterns = [pattern1, pattern2]\n",
    "\n",
    "# Khởi tạo danh sách lưu trữ câu hỏi và câu trả lời\n",
    "data = []\n",
    "\n",
    "# Tìm các câu hỏi và câu trả lời phù hợp với từng mẫu\n",
    "for pattern in all_patterns:\n",
    "    matches = re.findall(pattern, content)\n",
    "    for match in matches:\n",
    "        question = match[0].strip()  # Câu hỏi\n",
    "        answer = match[1].strip()  # Đáp án\n",
    "        data.append({\"Question\": question, \"Answer\": answer})\n",
    "\n",
    "# Chuyển danh sách thành DataFrame\n",
    "df = pd.DataFrame(data)\n",
    "\n",
    "# Xuất ra file Excel\n",
    "excel_file_path = \"26_2_complete.xlsx\"\n",
    "df.to_excel(excel_file_path, index=False, engine=\"openpyxl\")\n",
    "\n",
    "print(f\"File Excel đã được tạo thành công: {excel_file_path}\")\n"
   ]
  },
  {
   "cell_type": "markdown",
   "metadata": {},
   "source": [
    "## 26_3"
   ]
  },
  {
   "cell_type": "code",
   "execution_count": 18,
   "metadata": {},
   "outputs": [
    {
     "name": "stdout",
     "output_type": "stream",
     "text": [
      "Nội dung file đầu vào:\n",
      "\n",
      "1. **Hỏi:** Thời khóa biểu của các lớp thông thường được sắp xếp như thế nào?  \n",
      "    **Đáp:** Thời khóa biểu của các lớp thông thường được bố trí đều trong các tuần của học kỳ, trừ các trường hợp đặc biệt.\n",
      "    \n",
      "2. **Hỏi:** Số giờ giảng tối đa trong một tuần của một môn học là bao nhiêu?  \n",
      "    **Đáp:** Số giờ giảng tối đa trong một tuần của một môn học không vượt quá 15 giờ, và không quá 4 giờ mỗi ngày.\n",
      "    \n",
      "3. **Hỏi:** Điều kiện để trở thành sinh viên chính thức của Trường là gì?  \n",
      "    **Đáp:** Sinh viên cần nộp đủ giấy tờ, tài liệu theo quy định và được Hiệu trưởng ký quyết định công nhận.\n",
      "    \n",
      "4. **Hỏi:** Khi nào sinh viên phải hoàn thành các thủ tục đăng ký nhập học?  \n",
      "    **Đáp:** Sinh viên phải hoàn thành các thủ tục đăng ký nhập học trong thời hạn quy định tại Quy chế tuyển sinh.\n",
      "    \n",
      "5. **Hỏi:** GVCV có vai trò gì trong lớp sinh viên?  \n",
      "    **Đáp:** GVCV quản lý sinh viên, tư vấn học tập và phối hợp tổ chức các hoạt động rèn luyện, sinh hoạt của lớp.\n",
      "    \n",
      "6. **Hỏi:** Nhóm môn họ\n",
      "Không tìm thấy câu hỏi và câu trả lời trong nội dung của file.\n"
     ]
    }
   ],
   "source": [
    "import pandas as pd\n",
    "import re\n",
    "\n",
    "# Đường dẫn tới file .md\n",
    "file_path = \"E:/LLM_clone/Tdtu-chatbot/notebooks/data_finetune/26_3.md\"\n",
    "\n",
    "# Đọc nội dung file .md với encoding 'utf-8' và errors='ignore'\n",
    "with open(file_path, \"r\", encoding=\"utf-8\", errors=\"ignore\") as file:\n",
    "    content = file.read()\n",
    "\n",
    "# In ra một phần nội dung file để kiểm tra\n",
    "print(\"Nội dung file đầu vào:\")\n",
    "print(content[:1000])  # In ra 1000 ký tự đầu tiên để kiểm tra\n",
    "\n",
    "# Định nghĩa biểu thức chính quy (regex) để tách câu hỏi và câu trả lời\n",
    "pattern = re.compile(r\"(\\d+)\\.\\s\\*\\*Hỏi\\*\\*:?\\s*(.*?)\\s*\\*\\*Đáp\\*\\*:?\\s*(.*?)(?=\\n\\d+\\.|\\n|$)\", re.DOTALL)\n",
    "\n",
    "# Tìm các cặp câu hỏi và câu trả lời\n",
    "matches = re.findall(pattern, content)\n",
    "\n",
    "# Kiểm tra số lượng các cặp tìm thấy\n",
    "if not matches:\n",
    "    print(\"Không tìm thấy câu hỏi và câu trả lời trong nội dung của file.\")\n",
    "else:\n",
    "    # Lưu kết quả vào danh sách\n",
    "    data = []\n",
    "    for match in matches:\n",
    "        question = match[1].strip()  # Lấy câu hỏi và loại bỏ khoảng trắng thừa\n",
    "        answer = match[2].strip()    # Lấy câu trả lời và loại bỏ khoảng trắng thừa\n",
    "        data.append({\"Question\": question, \"Answer\": answer})\n",
    "\n",
    "    # Chuyển danh sách thành DataFrame\n",
    "    df = pd.DataFrame(data)\n",
    "\n",
    "    # Xuất ra file Excel\n",
    "    excel_file_path = \"26_3_complete.xlsx\"\n",
    "    df.to_excel(excel_file_path, index=False, engine=\"openpyxl\")\n",
    "\n",
    "    print(f\"File Excel đã được tạo thành công: {excel_file_path}\")\n"
   ]
  },
  {
   "cell_type": "code",
   "execution_count": 27,
   "metadata": {},
   "outputs": [
    {
     "name": "stdout",
     "output_type": "stream",
     "text": [
      "File Excel đã được tạo thành công: 26_4.xlsx\n"
     ]
    }
   ],
   "source": [
    "import pandas as pd\n",
    "import re\n",
    "\n",
    "# Đọc nội dung file .md (nếu bạn đang làm việc với file .md)\n",
    "# file_path = \"E:/LLM_clone/Tdtu-chatbot/notebooks/data_finetune/26_3.md\"\n",
    "file_path = \"E:/LLM_clone/Tdtu-chatbot/notebooks/data_finetune/26_4.md\"\n",
    "\n",
    "with open(file_path, \"r\", encoding=\"utf-8\") as file:\n",
    "    content = file.read()\n",
    "\n",
    "# Định nghĩa các biểu thức chính quy (regex) để tìm câu hỏi và câu trả lời\n",
    "question_pattern_1 = re.compile(r\"(Câu \\d+:.*?\\?)\\s*[\\r\\n]+Trả lời:([\\s\\S]*?)(?=^Câu \\d+:|^$)\", re.MULTILINE)\n",
    "question_pattern_2 = re.compile(r\"(\\d+\\..*?\\?)\\s*[\\r\\n]+Trả lời:([\\s\\S]*?)(?=^(\\d+\\.)|^$)\", re.MULTILINE)\n",
    "question_pattern_3 = re.compile(r\"(\\d+\\..*?\\?)\\s*([\\s\\S]*?)(?=^\\d+\\.)\", re.MULTILINE)\n",
    "question_pattern_4 = re.compile(r\"(Câu \\d+:.*?\\?)\\s*[\\r\\n]+Đáp:([\\s\\S]*?)(?=^Câu \\d+:|^$)\", re.MULTILINE)\n",
    "\n",
    "\n",
    "# Chú ý rằng sau \"Trả lời:\" phải tách rõ ràng, không dính liền với câu hỏi sau đó.\n",
    "question_pattern = re.compile(r\"(\\d+\\..*?\\?)\\s*Trả lời:\\s*([\\s\\S]*?)(?=\\d+\\.|^$)\", re.MULTILINE) \n",
    "# Kết hợp tất cả các mẫu regex lại\n",
    "all_patterns = [question_pattern_1, question_pattern_2, question_pattern_3, question_pattern_4]\n",
    "\n",
    "# Khởi tạo danh sách lưu trữ câu hỏi và câu trả lời\n",
    "data = []\n",
    "\n",
    "# Tìm các câu hỏi và câu trả lời phù hợp với từng mẫu\n",
    "for pattern in all_patterns:\n",
    "    matches = re.findall(pattern, content)\n",
    "    for match in matches:\n",
    "        question = match[0].strip()\n",
    "        answer = match[1].strip().replace(\"\\n\", \" \").replace(\"\\r\", \"\")\n",
    "        data.append({\"Question\": question, \"Answer\": answer})\n",
    "\n",
    "# Chuyển danh sách thành DataFrame\n",
    "df = pd.DataFrame(data)\n",
    "\n",
    "# Xuất ra file Excel\n",
    "excel_file_path = \"26_4.xlsx\"\n",
    "df.to_excel(excel_file_path, index=False, engine=\"openpyxl\")\n",
    "\n",
    "print(f\"File Excel đã được tạo thành công: {excel_file_path}\")\n"
   ]
  },
  {
   "cell_type": "code",
   "execution_count": 26,
   "metadata": {},
   "outputs": [
    {
     "name": "stdout",
     "output_type": "stream",
     "text": [
      "File Excel đã được tạo thành công: 26_3_complete.xlsx\n"
     ]
    }
   ],
   "source": [
    "import pandas as pd\n",
    "\n",
    "# Đọc file Excel\n",
    "file_path = \"E:/LLM_clone/Tdtu-chatbot/notebooks/data_finetune/26_3.xlsx\"  # Thay đường dẫn file của bạn\n",
    "df = pd.read_excel(file_path)\n",
    "\n",
    "# Xóa phần số và dấu \"** Hỏi:**\" ở đầu mỗi câu hỏi\n",
    "df['Question'] = df['Question'].str.replace(r'^\\d+\\.\\s\\*\\*Hỏi:\\*\\*\\s*', '', regex=True)\n",
    "\n",
    "# Xóa phần \"** Đáp:**\" ở đầu mỗi câu trả lời\n",
    "df['Answer'] = df['Answer'].str.replace(r'^\\*\\*Đáp:\\*\\*\\s*', '', regex=True)\n",
    "\n",
    "# Lưu lại file Excel sau khi xử lý\n",
    "df.to_excel(\"26_3_complete.xlsx\", index=False)\n",
    "\n",
    "print(\"File Excel đã được tạo thành công: 26_3_complete.xlsx\")\n"
   ]
  },
  {
   "cell_type": "markdown",
   "metadata": {},
   "source": [
    "## 26_4"
   ]
  },
  {
   "cell_type": "code",
   "execution_count": 28,
   "metadata": {},
   "outputs": [
    {
     "name": "stdout",
     "output_type": "stream",
     "text": [
      "File Excel đã được tạo thành công: 26_4_complete_cleaned.xlsx\n"
     ]
    }
   ],
   "source": [
    "import pandas as pd\n",
    "\n",
    "# Đọc file Excel\n",
    "file_path = \"E:/LLM_clone/Tdtu-chatbot/notebooks/data_finetune/26_4.xlsx\"  # Thay đường dẫn file của bạn\n",
    "df = pd.read_excel(file_path)\n",
    "\n",
    "# Xóa phần số và dấu \"**\" ở đầu mỗi câu hỏi\n",
    "df['Question'] = df['Question'].str.replace(r'^\\d+\\.\\s\\*\\*', '', regex=True)\n",
    "\n",
    "# Xóa phần \"**\" ở đầu và cuối câu trả lời\n",
    "df['Answer'] = df['Answer'].str.replace(r'^\\*\\*|\\*\\*$', '', regex=True)\n",
    "\n",
    "# Lưu lại file Excel sau khi xử lý\n",
    "df.to_excel(\"26_4_complete_cleaned.xlsx\", index=False)\n",
    "\n",
    "print(\"File Excel đã được tạo thành công: 26_4_complete_cleaned.xlsx\")\n"
   ]
  },
  {
   "cell_type": "code",
   "execution_count": 30,
   "metadata": {},
   "outputs": [
    {
     "name": "stdout",
     "output_type": "stream",
     "text": [
      "File Excel đã được tạo thành công: 26_4_complete.xlsx\n"
     ]
    }
   ],
   "source": [
    "import pandas as pd\n",
    "\n",
    "# Đọc file Excel\n",
    "file_path = \"E:/LLM_clone/Tdtu-chatbot/notebooks/data_finetune/26_4.xlsx\"  # Thay đường dẫn file của bạn\n",
    "df = pd.read_excel(file_path)\n",
    "\n",
    "# Xóa phần số và dấu \"**\" ở đầu mỗi câu hỏi\n",
    "df['Question'] = df['Question'].str.replace(r'^\\d+\\.\\s\\*\\*', '', regex=True)\n",
    "\n",
    "# Xóa dấu \"**\" ở đầu và cuối câu trả lời, giữ lại khoảng trắng đầu dòng\n",
    "df['Answer'] = df['Answer'].str.replace(r'^\\*\\*\\s*|\\s*\\*\\*$', '', regex=True)\n",
    "\n",
    "# Lưu lại file Excel sau khi xử lý\n",
    "df.to_excel(\"26_4_complete.xlsx\", index=False)\n",
    "\n",
    "print(\"File Excel đã được tạo thành công: 26_4_complete.xlsx\")\n"
   ]
  },
  {
   "cell_type": "markdown",
   "metadata": {},
   "source": [
    "# Concat xlsx 26 and 16"
   ]
  },
  {
   "cell_type": "code",
   "execution_count": 31,
   "metadata": {},
   "outputs": [
    {
     "name": "stdout",
     "output_type": "stream",
     "text": [
      "Đã nối các file và lưu vào E:\\LLM_clone\\Tdtu-chatbot\\notebooks\\data_finetune\\cleaned_file16_26.xlsx\n"
     ]
    }
   ],
   "source": [
    "import pandas as pd\n",
    "import os\n",
    "\n",
    "# Đường dẫn thư mục chứa các file Excel\n",
    "folder_path = r\"E:\\LLM_clone\\Tdtu-chatbot\\notebooks\\data_finetune\"\n",
    "\n",
    "# Danh sách các file cần nối\n",
    "files_to_merge = [\n",
    "    \"cleaned_file16_1_2_3.xlsx\",\n",
    "    \"26_1_complete.xlsx\",\n",
    "    \"26_2_complete.xlsx\",\n",
    "    \"26_3_complete.xlsx\",\n",
    "    \"26_4_complete.xlsx\"\n",
    "]\n",
    "\n",
    "# Tạo một danh sách để lưu các DataFrame\n",
    "dfs = []\n",
    "\n",
    "# Đọc từng file Excel và thêm vào danh sách\n",
    "for file in files_to_merge:\n",
    "    file_path = os.path.join(folder_path, file)\n",
    "    df = pd.read_excel(file_path)\n",
    "    dfs.append(df)\n",
    "\n",
    "# Nối tất cả các DataFrame lại với nhau\n",
    "merged_df = pd.concat(dfs, ignore_index=True)\n",
    "\n",
    "# Lưu kết quả vào file Excel mới\n",
    "output_file = os.path.join(folder_path, \"cleaned_file16_26.xlsx\")\n",
    "merged_df.to_excel(output_file, index=False)\n",
    "\n",
    "print(f\"Đã nối các file và lưu vào {output_file}\")\n"
   ]
  },
  {
   "cell_type": "markdown",
   "metadata": {},
   "source": [
    "# Xử lý 28 slide - 2505_QĐ-TĐT.pdf"
   ]
  },
  {
   "cell_type": "code",
   "execution_count": 1,
   "metadata": {},
   "outputs": [
    {
     "name": "stdout",
     "output_type": "stream",
     "text": [
      "Nội dung file đầu vào:\n",
      "**1.** **Quyết định ban hành Quy chế Công tác sinh viên của Trường Đại học Tôn Đức Thắng được ký vào ngày nào?**  \n",
      "Quyết định ban hành vào ngày 01 tháng 2 năm 2022, theo Quyết định số 2505/QĐ-TĐT.\n",
      "\n",
      "**2.** **Quy chế Công tác sinh viên áp dụng đối với những đối tượng nào?**  \n",
      "Quy chế này áp dụng đối với sinh viên tại Trường Đại học Tôn Đức Thắng, bao gồm các khoa, phân hiệu và cơ sở.\n",
      "\n",
      "**3.** **Quy chế Công tác sinh viên có bao nhiêu chương?**  \n",
      "Quy chế này gồm hai chương: Chương I - Những quy định chung, và Chương II - Quyền và nhiệm vụ của sinh viên.\n",
      "\n",
      "**4.** **Điều 1 của Quy chế Công tác sinh viên quy định về gì?**  \n",
      "Điều 1 quy định phạm vi và đối tượng áp dụng Quy chế Công tác sinh viên tại Trường Đại học Tôn Đức Thắng.\n",
      "\n",
      "**5.** **Công tác sinh viên là nhiệm vụ của ai trong trường?**  \n",
      "Công tác sinh viên là nhiệm vụ của toàn Trường Đại học Tôn Đức Thắng và phải thực hiện đồng bộ.\n",
      "\n",
      "**6.** **Quy chế Công tác sinh viên được áp dụng ở các cơ sở nào của trường?**  \n",
      "Quy chế áp dụng cho các Kh\n",
      "File Excel đã được tạo thành công: E:/LLM_clone/Tdtu-chatbot/notebooks/data_finetune/2506_QĐ_TDT_28_complete.xlsx\n"
     ]
    }
   ],
   "source": [
    "import pandas as pd\n",
    "import re\n",
    "\n",
    "# Đường dẫn tới file .md\n",
    "file_path = \"E:/LLM_clone/Tdtu-chatbot/notebooks/data_finetune/2506_QĐ_TDT_28.md\"\n",
    "\n",
    "# Đọc nội dung file .md với encoding 'utf-8' và errors='ignore'\n",
    "with open(file_path, \"r\", encoding=\"utf-8\", errors=\"ignore\") as file:\n",
    "    content = file.read()\n",
    "\n",
    "# In ra một phần nội dung file để kiểm tra\n",
    "print(\"Nội dung file đầu vào:\")\n",
    "print(content[:1000])  # In ra 1000 ký tự đầu tiên để kiểm tra\n",
    "\n",
    "# Định nghĩa biểu thức chính quy (regex) để tách câu hỏi và câu trả lời\n",
    "pattern = re.compile(r\"\\*\\*(\\d+)\\.\\*\\*\\s\\*\\*(.*?)\\*\\*\\s*(.*?)(?=\\n\\*\\*\\d+\\.\\*\\*|\\n|$)\", re.DOTALL)\n",
    "\n",
    "# Tìm các cặp câu hỏi và câu trả lời\n",
    "matches = re.findall(pattern, content)\n",
    "\n",
    "# Kiểm tra số lượng các cặp tìm thấy\n",
    "if not matches:\n",
    "    print(\"Không tìm thấy câu hỏi và câu trả lời trong nội dung của file.\")\n",
    "else:\n",
    "    # Lưu kết quả vào danh sách\n",
    "    data = []\n",
    "    for match in matches:\n",
    "        question = match[1].strip()  # Lấy câu hỏi và loại bỏ khoảng trắng thừa\n",
    "        answer = match[2].strip()    # Lấy câu trả lời và loại bỏ khoảng trắng thừa\n",
    "        data.append({\"Question\": question, \"Answer\": answer})\n",
    "\n",
    "    # Chuyển danh sách thành DataFrame\n",
    "    df = pd.DataFrame(data)\n",
    "\n",
    "    # Xuất ra file Excel\n",
    "    excel_file_path = \"E:/LLM_clone/Tdtu-chatbot/notebooks/data_finetune/2506_QĐ_TDT_28_complete.xlsx\"\n",
    "    df.to_excel(excel_file_path, index=False, engine=\"openpyxl\")\n",
    "\n",
    "    print(f\"File Excel đã được tạo thành công: {excel_file_path}\")\n"
   ]
  },
  {
   "cell_type": "markdown",
   "metadata": {},
   "source": [
    "## Data crawl in fb"
   ]
  },
  {
   "cell_type": "code",
   "execution_count": 6,
   "metadata": {},
   "outputs": [
    {
     "name": "stdout",
     "output_type": "stream",
     "text": [
      "Nội dung file đầu vào:\n",
      "\n",
      "#### 1. **Đại học Tôn Đức Thắng là trường công lập hay tư thục?**\n",
      "\n",
      "- **Answer:** Đại học Tôn Đức Thắng là trường công lập.\n",
      "\n",
      "#### 2. **Mã trường Đại học Tôn Đức Thắng là gì?**\n",
      "\n",
      "- **Answer:** Mã trường là **DTT**. TDTU là viết tắt của \"Ton Duc Thang University\", không phải mã trường.\n",
      "\n",
      "#### 3. **Trường ký kết với TDTU là gì và làm sao để được ký kết?**\n",
      "\n",
      "- **Answer:** Ký kết là sự hợp tác giữa TDTU và các trường THPT để ưu tiên xét tuyển. Học sinh từ các trường có ký kết sẽ được ưu tiên nộp hồ sơ vào TDTU.\n",
      "\n",
      "#### 4. **Sau khi trúng tuyển, làm sao biết mình học cơ sở nào?**\n",
      "\n",
      "- **Answer:**\n",
      "    - Cơ sở Nha Trang: mã ngành bắt đầu bằng **N7xxxxxxxx**.\n",
      "    - Cơ sở Bảo Lộc: mã ngành bắt đầu bằng **B7xxxxxxxx**.\n",
      "    - Chi tiết mã ngành: [Tại đây](https://admission.tdtu.edu.vn/).\n",
      "\n",
      "#### 5. **TDTU có yêu cầu mặc đồng phục không?**\n",
      "\n",
      "- **Answer:**\n",
      "    - Thứ 2 và 5:\n",
      "        - Nam: áo sơ mi trắng, quần sậm màu.\n",
      "        - Nữ: áo dài hồng (vải mua tại trường).\n",
      "    - Ngày thường: trang phục tự do, nhưng kh\n",
      "File Excel đã được tạo thành công: E:/LLM_clone/Tdtu-chatbot/notebooks/data_finetune/Data.xlsx\n"
     ]
    }
   ],
   "source": [
    "import pandas as pd\n",
    "import re\n",
    "\n",
    "# Đường dẫn tới file .md\n",
    "file_path = \"E:/LLM_clone/Tdtu-chatbot/notebooks/data_finetune/Data.md\"\n",
    "\n",
    "# Đọc nội dung file .md với encoding 'utf-8' và errors='ignore'\n",
    "with open(file_path, \"r\", encoding=\"utf-8\", errors=\"ignore\") as file:\n",
    "    content = file.read()\n",
    "\n",
    "# In ra một phần nội dung file để kiểm tra\n",
    "print(\"Nội dung file đầu vào:\")\n",
    "print(content[:1000])  # In ra 1000 ký tự đầu tiên để kiểm tra\n",
    "\n",
    "# Định nghĩa biểu thức chính quy (regex) để tách câu hỏi và câu trả lời\n",
    "pattern = re.compile(r\"####\\s*\\d+\\.\\s\\*\\*(.*?)\\*\\*\\s*- \\*\\*Answer:\\*\\*\\s*(.*?)(?=\\n####|\\n|$)\", re.DOTALL)\n",
    "\n",
    "# Tìm các cặp câu hỏi và câu trả lời\n",
    "matches = re.findall(pattern, content)\n",
    "\n",
    "# Kiểm tra số lượng các cặp tìm thấy\n",
    "if not matches:\n",
    "    print(\"Không tìm thấy câu hỏi và câu trả lời trong nội dung của file.\")\n",
    "else:\n",
    "    # Lưu kết quả vào danh sách\n",
    "    data = []\n",
    "    for match in matches:\n",
    "        question = match[0].strip()  # Lấy câu hỏi và loại bỏ khoảng trắng thừa\n",
    "        answer = match[1].strip()    # Lấy câu trả lời và loại bỏ khoảng trắng thừa\n",
    "        \n",
    "        # Làm sạch câu trả lời: Xóa dấu gạch đầu dòng và các ký tự không cần thiết\n",
    "        answer = re.sub(r\"^[-•]\\s*\", \"\", answer)  # Xóa gạch đầu dòng ở đầu mỗi dòng\n",
    "        answer = re.sub(r\"\\n[-•]\\s*\", \"\\n\", answer)  # Xóa gạch đầu dòng giữa các dòng trả lời\n",
    "        \n",
    "        data.append({\"Question\": question, \"Answer\": answer})\n",
    "\n",
    "    # Chuyển danh sách thành DataFrame\n",
    "    df = pd.DataFrame(data)\n",
    "\n",
    "    # Xuất ra file Excel\n",
    "    excel_file_path = \"E:/LLM_clone/Tdtu-chatbot/notebooks/data_finetune/Data.xlsx\"\n",
    "    df.to_excel(excel_file_path, index=False, engine=\"openpyxl\")\n",
    "\n",
    "    print(f\"File Excel đã được tạo thành công: {excel_file_path}\")\n"
   ]
  },
  {
   "cell_type": "markdown",
   "metadata": {},
   "source": [
    "# Done\n",
    "- Concat all xlsx "
   ]
  },
  {
   "cell_type": "code",
   "execution_count": 4,
   "metadata": {},
   "outputs": [
    {
     "name": "stdout",
     "output_type": "stream",
     "text": [
      "Đã nối các file và lưu vào E:\\LLM_clone\\Tdtu-chatbot\\notebooks\\data_finetune\\Donedata\\Done.xlsx\n"
     ]
    }
   ],
   "source": [
    "import pandas as pd\n",
    "import os\n",
    "\n",
    "# Đường dẫn thư mục chứa các file Excel\n",
    "folder_path = r\"E:\\LLM_clone\\Tdtu-chatbot\\notebooks\\data_finetune\\Donedata\"\n",
    "\n",
    "# Danh sách các file cần nối\n",
    "files_to_merge = [\n",
    "    \"2506_QĐ_TDT_28_complete.xlsx\",\n",
    "    \"cleaned_file16_26.xlsx\",\n",
    "    \"tdtu_data.xlsx\"\n",
    "]\n",
    "\n",
    "# Tạo một danh sách để lưu các DataFrame\n",
    "dfs = []\n",
    "\n",
    "# Đọc từng file Excel và thêm vào danh sách\n",
    "for file in files_to_merge:\n",
    "    file_path = os.path.join(folder_path, file)\n",
    "    df = pd.read_excel(file_path)\n",
    "    dfs.append(df)\n",
    "\n",
    "# Nối tất cả các DataFrame lại với nhau\n",
    "merged_df = pd.concat(dfs, ignore_index=True)\n",
    "\n",
    "# Lưu kết quả vào file Excel mới\n",
    "output_file = os.path.join(folder_path, \"Done.xlsx\")\n",
    "merged_df.to_excel(output_file, index=False)\n",
    "\n",
    "print(f\"Đã nối các file và lưu vào {output_file}\")\n"
   ]
  },
  {
   "cell_type": "code",
   "execution_count": 1,
   "metadata": {},
   "outputs": [
    {
     "name": "stdout",
     "output_type": "stream",
     "text": [
      "Dữ liệu đã được lưu vào file 'questions_and_answers.xlsx'\n"
     ]
    }
   ],
   "source": [
    "import pandas as pd\n",
    "\n",
    "# Dữ liệu câu hỏi và câu trả lời\n",
    "data = [\n",
    "    {\"question\": \"TDTU dành bao nhiêu tiền cho học bổng năm 2024?\", \"answer\": \"TDTU dành hơn 35 tỷ đồng để cấp học bổng cho tân sinh viên khóa tuyển sinh năm 2024.\"},\n",
    "    {\"question\": \"Học bổng thủ khoa tại TDTU áp dụng cho đối tượng nào?\", \"answer\": \"Học bổng thủ khoa được trao cho tân sinh viên có điểm xét tuyển cao nhất.\"},\n",
    "    {\"question\": \"Những tỉnh nào được xét học bổng dành cho các tỉnh ký kết hợp tác với TDTU?\", \"answer\": \"Học bổng áp dụng cho học sinh từ các tỉnh: Bình Thuận, Bình Định, Gia Lai, Lâm Đồng, Quảng Ngãi.\"},\n",
    "    {\"question\": \"Học sinh từ trường THPT ký kết hợp tác với TDTU có được xét học bổng không?\", \"answer\": \"Có, học bổng dành cho học sinh từ các trường THPT ký kết hợp tác nếu thỏa điều kiện xét học bổng của TDTU.\"},\n",
    "    {\"question\": \"Chương trình đại học bằng tiếng Anh có chính sách học bổng gì?\", \"answer\": \"100% tân sinh viên chương trình đại học bằng tiếng Anh được cấp học bổng nếu thỏa điều kiện của TDTU.\"},\n",
    "    {\"question\": \"Học bổng chương trình liên kết đào tạo quốc tế được áp dụng như thế nào?\", \"answer\": \"100% tân sinh viên chương trình liên kết quốc tế được cấp học bổng nếu đáp ứng điều kiện của trường.\"},\n",
    "    {\"question\": \"Những ngành nào được áp dụng chính sách thu hút học bổng 100%?\", \"answer\": \"Các ngành: Kỹ thuật xây dựng công trình giao thông, Quản lý thể dục thể thao (Chuyên ngành Golf), Công nghệ kỹ thuật môi trường, Công tác xã hội, Bảo hộ lao động, Khoa học môi trường, Quy hoạch vùng và đô thị.\"},\n",
    "    {\"question\": \"Sinh viên học tại Phân hiệu Khánh Hòa có được nhận học bổng không?\", \"answer\": \"Có, 100% tân sinh viên học tại Phân hiệu Khánh Hòa được xét cấp học bổng nếu thỏa điều kiện của TDTU.\"},\n",
    "    {\"question\": \"Học bổng dành cho thế hệ đầu tiên trong gia đình học đại học là gì?\", \"answer\": \"Tân sinh viên là thế hệ đầu tiên trong gia đình học đại học, trúng tuyển vào các ngành thu hút, sẽ được xét học bổng theo điều kiện của trường.\"},\n",
    "    {\"question\": \"TDTU có hỗ trợ học bổng khuyến khích cho nữ sinh viên không?\", \"answer\": \"Có, nữ sinh viên học các ngành kỹ thuật được cấp học bổng khuyến khích nếu đáp ứng điều kiện của trường.\"},\n",
    "    {\"question\": \"TDTU có học bổng hỗ trợ sinh viên vượt khó không?\", \"answer\": \"Có, TDTU trao học bổng 'Nâng bước sinh viên' cho sinh viên vượt khó, học tốt.\"},\n",
    "    {\"question\": \"Có các loại học bổng đặc biệt nào khác tại TDTU?\", \"answer\": \"Học bổng cho anh/chị em ruột cùng học tại TDTU, học bổng cho con cán bộ công đoàn, học bổng cho sinh viên khuyết tật có hoàn cảnh khó khăn, học bổng cho tân sinh viên có thành tích tiếng Anh đầu vào cao, học bổng cho sinh viên nội trú Ký túc xá, và nhiều loại học bổng khác.\"}\n",
    "]\n",
    "\n",
    "# Chuyển dữ liệu thành DataFrame\n",
    "df = pd.DataFrame(data)\n",
    "\n",
    "# Xuất dữ liệu ra file Excel\n",
    "df.to_excel(\"questions_and_answers.xlsx\", index=False)\n",
    "\n",
    "print(\"Dữ liệu đã được lưu vào file 'questions_and_answers.xlsx'\")\n"
   ]
  }
 ],
 "metadata": {
  "kernelspec": {
   "display_name": "testApp",
   "language": "python",
   "name": "python3"
  },
  "language_info": {
   "codemirror_mode": {
    "name": "ipython",
    "version": 3
   },
   "file_extension": ".py",
   "mimetype": "text/x-python",
   "name": "python",
   "nbconvert_exporter": "python",
   "pygments_lexer": "ipython3",
   "version": "3.11.0"
  }
 },
 "nbformat": 4,
 "nbformat_minor": 2
}
