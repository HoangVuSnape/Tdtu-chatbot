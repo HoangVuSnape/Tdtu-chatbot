{
 "cells": [
  {
   "cell_type": "code",
   "execution_count": null,
   "metadata": {
    "vscode": {
     "languageId": "plaintext"
    }
   },
   "outputs": [],
   "source": [
    "from QueryRouter import QueryRouter\n",
    "from qdrant_client import QdrantClient\n",
    "from langchain_huggingface import HuggingFaceEmbeddings\n",
    "import google.generativeai as genai\n",
    "from langchain_qdrant import QdrantVectorStore\n",
    "import os\n",
    "from langchain_community.retrievers import BM25Retriever\n",
    "from langchain.retrievers import EnsembleRetriever\n",
    "from pathlib import Path\n",
    "from dotenv import load_dotenv\n",
    "from typing import List, Dict\n",
    "from langchain_core.documents import Document\n",
    "from sentence_transformers import CrossEncoder"
   ]
  },
  {
   "cell_type": "code",
   "execution_count": null,
   "metadata": {
    "vscode": {
     "languageId": "plaintext"
    }
   },
   "outputs": [],
   "source": [
    "load_dotenv(Path(\"./.env\"))\n",
    "\n",
    "embedding_model = HuggingFaceEmbeddings(\n",
    "    model_name=\"dangvantuan/vietnamese-document-embedding\",\n",
    "    model_kwargs={\"trust_remote_code\": True}\n",
    ")"
   ]
  },
  {
   "cell_type": "code",
   "execution_count": null,
   "metadata": {
    "vscode": {
     "languageId": "plaintext"
    }
   },
   "outputs": [],
   "source": [
    "class DocumentReRanker:\n",
    "    def __init__(self, model_name=\"cross-encoder/ms-marco-MiniLM-L-12-v2\"):\n",
    "        \"\"\"\n",
    "        Initialize the re-ranker with a cross-encoder model.\n",
    "        \n",
    "        :param model_name: Name of the cross-encoder model to use\n",
    "        \"\"\"\n",
    "        self.cross_encoder = CrossEncoder(model_name)\n",
    "    \n",
    "    def re_rank(self, query: str, documents: List[Document], top_k: int = 3) -> List[Document]:\n",
    "        \"\"\"\n",
    "        Re-rank documents based on their relevance to the query.\n",
    "        \n",
    "        :param query: Search query string\n",
    "        :param documents: List of documents to re-rank\n",
    "        :param top_k: Number of top documents to return\n",
    "        :return: Re-ranked list of documents\n",
    "        \"\"\"\n",
    "        # Prepare input pairs for cross-encoder\n",
    "        pairs = [[query, doc.page_content] for doc in documents]\n",
    "        \n",
    "        # Get relevance scores\n",
    "        scores = self.cross_encoder.predict(pairs)\n",
    "        \n",
    "        # Create a list of (document, score) tuples and sort\n",
    "        scored_docs = list(zip(documents, scores))\n",
    "        scored_docs.sort(key=lambda x: x[1], reverse=True)\n",
    "        \n",
    "        # Return top_k documents\n",
    "        return [doc for doc, score in scored_docs[:top_k]]\n"
   ]
  },
  {
   "cell_type": "code",
   "execution_count": null,
   "metadata": {
    "vscode": {
     "languageId": "plaintext"
    }
   },
   "outputs": [],
   "source": [
    "class BaseRetrievalStrategy:\n",
    "    def __init__(self, llm=None):\n",
    "        self.embeddings = embedding_model\n",
    "        self.llm = llm or genai.GenerativeModel(model_name=\"gemini-1.5-flash-8b\")\n",
    "        self.classifier = QueryRouter()\n",
    "        self.re_ranker = DocumentReRanker()\n",
    "\n",
    "    def retrieve(self, query, k=3):\n",
    "        return self.db.similarity_search(query, k=k)\n",
    "\n",
    "class UniversityRetrievalStrategy(BaseRetrievalStrategy):\n",
    "    def __init__(self, llm=None):\n",
    "        super().__init__(llm)\n",
    "        self.bm25_docs: Dict[str, List[Document]] = {}  # Cache for BM25 documents per university\n",
    "\n",
    "    def _init_retrievers(self, university: str, documents: List[Document]):\n",
    "        # Initialize BM25 retriever if not already cached\n",
    "        if university not in self.bm25_docs:\n",
    "            self.bm25_docs[university] = documents\n",
    "            self.bm25_retriever = BM25Retriever.from_documents(documents)\n",
    "\n",
    "        # Initialize vector store retriever\n",
    "        client = QdrantClient(\n",
    "            url=os.getenv('qdrant_url'),\n",
    "            api_key=os.getenv('qdrant_api'),\n",
    "            prefer_grpc=True\n",
    "        )\n",
    "        \n",
    "        vector_store = QdrantVectorStore(\n",
    "            client=client,\n",
    "            collection_name=str(university),\n",
    "            embedding=embedding_model\n",
    "        )\n",
    "        vector_retriever = vector_store.as_retriever(search_kwargs={\"k\": 3})\n",
    "\n",
    "        # Create ensemble retriever\n",
    "        self.ensemble_retriever = EnsembleRetriever(\n",
    "            retrievers=[self.bm25_retriever, vector_retriever],\n",
    "            weights=[0.5, 0.5]  # Equal weights for both retrievers\n",
    "        )\n",
    "\n",
    "    def retrieve(self, query: str, k: int = 3) -> List[Document]:\n",
    "        # Get university classification\n",
    "        university = self.classifier.UniversityRouting(query).university_code\n",
    "        print(f'Truy vấn thuộc về trường: {university}')\n",
    "\n",
    "        # Get documents for the university (you'll need to implement this)\n",
    "        documents = self._get_university_documents(university)\n",
    "        \n",
    "        # Initialize retrievers\n",
    "        self._init_retrievers(university, documents)\n",
    "\n",
    "        initial_results = self.ensemble_retriever.invoke(query)\n",
    "\n",
    "        re_ranked_results = self.re_ranker.re_rank(query, initial_results, k)\n",
    "\n",
    "        # Perform hybrid search\n",
    "        return re_ranked_results\n",
    "\n",
    "    def _get_university_documents(self, university: str) -> List[Document]:\n",
    "        \"\"\"\n",
    "        Implement this method to get all documents for a specific university.\n",
    "        This could be from your database, file system, or other storage.\n",
    "        \"\"\"\n",
    "        # Example implementation - replace with your actual document retrieval logic\n",
    "        client = QdrantClient(\n",
    "            url=os.getenv('qdrant_url'),\n",
    "            api_key=os.getenv('qdrant_api'),\n",
    "            prefer_grpc=True\n",
    "        )\n",
    "        \n",
    "        vector_store = QdrantVectorStore(\n",
    "            client=client,\n",
    "            collection_name=str(university),\n",
    "            embedding=embedding_model\n",
    "        )\n",
    "        \n",
    "        # Get all documents for the university\n",
    "        results = vector_store.similarity_search(\"\", k=150)  # Adjust the number as needed\n",
    "        return results"
   ]
  },
  {
   "cell_type": "code",
   "execution_count": null,
   "metadata": {
    "vscode": {
     "languageId": "plaintext"
    }
   },
   "outputs": [],
   "source": [
    "query = \"Chỉ tiêu tuyển sinh NTTU 2021\"\n",
    "    retriever = UniversityRetrievalStrategy()\n",
    "    docs = retriever.retrieve(query)\n",
    "    print(docs)"
   ]
  }
 ],
 "metadata": {
  "language_info": {
   "name": "python"
  }
 },
 "nbformat": 4,
 "nbformat_minor": 2
}
