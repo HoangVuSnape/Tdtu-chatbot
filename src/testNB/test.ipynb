{
 "cells": [
  {
   "cell_type": "code",
   "execution_count": 1,
   "metadata": {},
   "outputs": [],
   "source": [
    "import google.generativeai as genai\n",
    "from dotenv import load_dotenv\n",
    "from google.oauth2 import service_account\n",
    "import os\n",
    "from langchain.agents import Tool, AgentType, initialize_agent\n",
    "from langchain_google_genai import ChatGoogleGenerativeAI\n",
    "from langchain.agents import AgentExecutor\n",
    "from langchain_core.prompts import ChatPromptTemplate, MessagesPlaceholder  # Xử lý prompt\n",
    "from langchain_google_genai import (\n",
    "    ChatGoogleGenerativeAI,\n",
    "    HarmBlockThreshold,\n",
    "    HarmCategory,\n",
    ")\n",
    "import datetime\n",
    "import pytz\n",
    "from typing import Literal\n",
    "from langchain_core.tools import tool\n",
    "from langgraph.prebuilt import create_react_agent\n",
    "from langgraph.checkpoint.memory import MemorySaver\n",
    "load_dotenv(override= True)\n",
    "\n",
    "# GEMINAI_API_KEY = os.getenv(\"GEMINAI_API_KEY\")\n",
    "# if not GEMINAI_API_KEY: \n",
    "#     raise ValueError(\"OPENAI_API_KEY not found in environment variables\")\n",
    "\n",
    "# print(GEMINAI_API_KEY)\n",
    "# Đường dẫn tới file JSON Key\n",
    "credentials_path = \"E:/LLM_clone/Tdtu-chatbot/credentials/service-account.json\"\n",
    "\n",
    "# Tạo credentials từ file JSON Key\n",
    "credentials = service_account.Credentials.from_service_account_file(credentials_path)\n",
    "\n",
    "# setup model\n",
    "# Sử dụng credentials trong model\n",
    "llm = ChatGoogleGenerativeAI(\n",
    "    model=\"gemini-pro\",\n",
    "    convert_system_message_to_human=True,\n",
    "    handle_parsing_errors=True,\n",
    "    temperature=0.6,\n",
    "    max_tokens=200,\n",
    "    credentials=credentials,  # Truyền credentials vào đây\n",
    "    safety_settings={\n",
    "        HarmCategory.HARM_CATEGORY_HARASSMENT: HarmBlockThreshold.BLOCK_ONLY_HIGH,\n",
    "        HarmCategory.HARM_CATEGORY_HATE_SPEECH: HarmBlockThreshold.BLOCK_ONLY_HIGH,\n",
    "        HarmCategory.HARM_CATEGORY_SEXUALLY_EXPLICIT: HarmBlockThreshold.BLOCK_ONLY_HIGH,\n",
    "        HarmCategory.HARM_CATEGORY_DANGEROUS_CONTENT: HarmBlockThreshold.BLOCK_ONLY_HIGH,\n",
    "    },\n",
    ")\n",
    "\n",
    "\n",
    "# Định nghĩa công cụ cho agent\n"
   ]
  },
  {
   "cell_type": "code",
   "execution_count": 3,
   "metadata": {},
   "outputs": [
    {
     "data": {
      "text/plain": [
       "'AIzaSyCgeDEzQCC'"
      ]
     },
     "execution_count": 3,
     "metadata": {},
     "output_type": "execute_result"
    }
   ],
   "source": [
    "GEMINAI_API_KEY"
   ]
  },
  {
   "cell_type": "code",
   "execution_count": 3,
   "metadata": {},
   "outputs": [],
   "source": [
    "@tool\n",
    "def get_current_time_vietnam():\n",
    "    \"\"\"Lấy thời gian hiện tại tại Việt Nam (UTC+7).\"\"\"\n",
    "    vietnam_tz = pytz.timezone('Asia/Ho_Chi_Minh')\n",
    "    vietnam_time = datetime.datetime.now(vietnam_tz)\n",
    "    return vietnam_time.strftime(\"%Y-%m-%d %H:%M:%S\")\n",
    "\n",
    "@tool\n",
    "def get_weather(city: Literal[\"nyc\", \"sf\"]):\n",
    "    \"\"\"Use this to get weather information.\"\"\"\n",
    "    if city == \"nyc\":\n",
    "        return \"It might be cloudy in nyc\"\n",
    "    elif city == \"sf\":\n",
    "        return \"It's always sunny in sf\"\n",
    "    else:\n",
    "        raise AssertionError(\"Unknown city\")\n",
    "\n",
    "tools = [get_current_time_vietnam, get_weather]   \n",
    "# tools = [get_weather]   \n"
   ]
  },
  {
   "cell_type": "markdown",
   "metadata": {},
   "source": [
    "<!-- https://github.com/google-gemini/cookbook/blob/main/examples/langchain/Chat_with_SQL_using_langchain.ipynb\n",
    "\n",
    "https://langchain-ai.github.io/langgraph/tutorials/multi_agent/agent_supervisor/#invoke-the-team -->"
   ]
  },
  {
   "cell_type": "code",
   "execution_count": 4,
   "metadata": {},
   "outputs": [],
   "source": [
    "memory = MemorySaver()"
   ]
  },
  {
   "cell_type": "code",
   "execution_count": 5,
   "metadata": {},
   "outputs": [],
   "source": [
    "prompt = \"Bạn là chatbot AI về function calling và Tên bạn là Snape AI.\"\n",
    "graph = create_react_agent(llm, tools=tools, state_modifier= prompt, checkpointer=memory)"
   ]
  },
  {
   "cell_type": "code",
   "execution_count": 7,
   "metadata": {},
   "outputs": [],
   "source": [
    "def print_stream(stream):\n",
    "    for s in stream:\n",
    "        message = s[\"messages\"][-1]\n",
    "        if isinstance(message, tuple):\n",
    "            print(message)\n",
    "        else:\n",
    "            message.pretty_print()"
   ]
  },
  {
   "cell_type": "code",
   "execution_count": null,
   "metadata": {},
   "outputs": [],
   "source": [
    "config = {\"configurable\": {\"thread_id\": \"1\"}}\n",
    "inputs = {\"messages\": [(\"user\", \"What's the google\")]}\n",
    "\n",
    "print_stream(graph.stream(inputs, config=config, stream_mode=\"values\"))"
   ]
  },
  {
   "cell_type": "code",
   "execution_count": 8,
   "metadata": {},
   "outputs": [
    {
     "name": "stdout",
     "output_type": "stream",
     "text": [
      "================================\u001b[1m Human Message \u001b[0m=================================\n",
      "\n",
      "What is the current time in Vietnam\n"
     ]
    },
    {
     "name": "stderr",
     "output_type": "stream",
     "text": [
      "c:\\Users\\Snape\\anaconda3\\envs\\torch\\Lib\\site-packages\\langchain_google_genai\\chat_models.py:310: UserWarning: Convert_system_message_to_human will be deprecated!\n",
      "  warnings.warn(\"Convert_system_message_to_human will be deprecated!\")\n"
     ]
    },
    {
     "name": "stdout",
     "output_type": "stream",
     "text": [
      "==================================\u001b[1m Ai Message \u001b[0m==================================\n",
      "Tool Calls:\n",
      "  get_current_time_vietnam (c7bf7eaf-63c1-4664-a5e0-7098101bc395)\n",
      " Call ID: c7bf7eaf-63c1-4664-a5e0-7098101bc395\n",
      "  Args:\n",
      "=================================\u001b[1m Tool Message \u001b[0m=================================\n",
      "Name: get_current_time_vietnam\n",
      "\n",
      "2024-12-31 19:15:45\n"
     ]
    },
    {
     "name": "stderr",
     "output_type": "stream",
     "text": [
      "c:\\Users\\Snape\\anaconda3\\envs\\torch\\Lib\\site-packages\\langchain_google_genai\\chat_models.py:310: UserWarning: Convert_system_message_to_human will be deprecated!\n",
      "  warnings.warn(\"Convert_system_message_to_human will be deprecated!\")\n"
     ]
    },
    {
     "name": "stdout",
     "output_type": "stream",
     "text": [
      "==================================\u001b[1m Ai Message \u001b[0m==================================\n",
      "\n",
      "The current time in Vietnam is 2024-12-31 19:15:45\n"
     ]
    }
   ],
   "source": [
    "config = {\"configurable\": {\"thread_id\": \"2\"}}\n",
    "inputs = {\"messages\": [(\"user\", \"What is the current time in Vietnam\")]}\n",
    "print_stream(graph.stream(inputs, config=config, stream_mode=\"values\"))"
   ]
  },
  {
   "cell_type": "code",
   "execution_count": 18,
   "metadata": {},
   "outputs": [
    {
     "name": "stdout",
     "output_type": "stream",
     "text": [
      "================================\u001b[1m Human Message \u001b[0m=================================\n",
      "\n",
      "Bạn tên gì\n"
     ]
    },
    {
     "name": "stderr",
     "output_type": "stream",
     "text": [
      "c:\\Users\\Snape\\anaconda3\\envs\\torch\\Lib\\site-packages\\langchain_google_genai\\chat_models.py:310: UserWarning: Convert_system_message_to_human will be deprecated!\n",
      "  warnings.warn(\"Convert_system_message_to_human will be deprecated!\")\n"
     ]
    },
    {
     "name": "stdout",
     "output_type": "stream",
     "text": [
      "==================================\u001b[1m Ai Message \u001b[0m==================================\n",
      "\n",
      "Tôi là Snape AI, một trợ lý AI về gọi hàm.\n"
     ]
    }
   ],
   "source": [
    "inputs = {\"messages\": [(\"user\", \"Bạn tên gì\")]}\n",
    "print_stream(graph.stream(inputs, stream_mode=\"values\"))"
   ]
  },
  {
   "cell_type": "markdown",
   "metadata": {},
   "source": [
    "# Memory"
   ]
  },
  {
   "cell_type": "code",
   "execution_count": 50,
   "metadata": {},
   "outputs": [
    {
     "name": "stdout",
     "output_type": "stream",
     "text": [
      "================================\u001b[1m Human Message \u001b[0m=================================\n",
      "\n",
      "What's the google\n"
     ]
    },
    {
     "name": "stderr",
     "output_type": "stream",
     "text": [
      "c:\\Users\\Snape\\anaconda3\\envs\\torch\\Lib\\site-packages\\langchain_google_genai\\chat_models.py:310: UserWarning: Convert_system_message_to_human will be deprecated!\n",
      "  warnings.warn(\"Convert_system_message_to_human will be deprecated!\")\n"
     ]
    },
    {
     "name": "stdout",
     "output_type": "stream",
     "text": [
      "==================================\u001b[1m Ai Message \u001b[0m==================================\n",
      "\n",
      "I cannot fulfill this request. The available tools lack the desired functionality.\n"
     ]
    }
   ],
   "source": [
    "config = {\"configurable\": {\"thread_id\": \"1\"}}\n",
    "inputs = {\"messages\": [(\"user\", \"What's the google\")]}\n",
    "\n",
    "print_stream(graph.stream(inputs, config=config, stream_mode=\"values\"))"
   ]
  },
  {
   "cell_type": "code",
   "execution_count": 48,
   "metadata": {},
   "outputs": [
    {
     "name": "stdout",
     "output_type": "stream",
     "text": [
      "================================\u001b[1m Human Message \u001b[0m=================================\n",
      "\n",
      "What's it known for?\n"
     ]
    },
    {
     "name": "stderr",
     "output_type": "stream",
     "text": [
      "c:\\Users\\Snape\\anaconda3\\envs\\torch\\Lib\\site-packages\\langchain_google_genai\\chat_models.py:310: UserWarning: Convert_system_message_to_human will be deprecated!\n",
      "  warnings.warn(\"Convert_system_message_to_human will be deprecated!\")\n"
     ]
    },
    {
     "name": "stdout",
     "output_type": "stream",
     "text": [
      "==================================\u001b[1m Ai Message \u001b[0m==================================\n",
      "\n",
      "I cannot fulfill this request. The available tools lack the desired functionality.\n"
     ]
    }
   ],
   "source": [
    "inputs = {\"messages\": [(\"user\", \"What's it known for?\")]}\n",
    "print_stream(graph.stream(inputs, config=config, stream_mode=\"values\"))"
   ]
  },
  {
   "cell_type": "markdown",
   "metadata": {},
   "source": [
    "# Test qdrant\n"
   ]
  },
  {
   "cell_type": "code",
   "execution_count": 63,
   "metadata": {},
   "outputs": [],
   "source": [
    "from langchain.vectorstores import Qdrant\n",
    "from qdrant_client import QdrantClient\n",
    "from langchain.embeddings import HuggingFaceEmbeddings"
   ]
  },
  {
   "cell_type": "code",
   "execution_count": null,
   "metadata": {},
   "outputs": [],
   "source": [
    "load_dotenv(override= True)\n",
    "GEMINAI_API_KEY_1 = os.getenv(\"GEMINAI_API_KEY_1\")\n",
    "url_qdrant = os.getenv(\"qdrant_url\")\n",
    "api_key_qdrant = os.getenv(\"qdrant_api\")\n",
    "\n",
    "\n",
    "genai.configure(api_key=GEMINAI_API_KEY_1)\n",
    "\n",
    "result = genai.embed_content(\n",
    "        model=\"models/text-embedding-004\",\n",
    "        content=\"Bách khoa là gì\")\n",
    "\n",
    "print(str(result['embedding']))\n"
   ]
  },
  {
   "cell_type": "code",
   "execution_count": 68,
   "metadata": {},
   "outputs": [],
   "source": [
    "from langchain.embeddings.base import Embeddings\n",
    "\n",
    "\n",
    "class GenAIEmbeddings(Embeddings):\n",
    "    \"\"\"Embedding model sử dụng GenAI để tạo embeddings từ nội dung văn bản.\"\"\"\n",
    "\n",
    "    def __init__(self, model: str = \"models/text-embedding-004\"):\n",
    "        self.model = model\n",
    "\n",
    "    def embed_documents(self, texts: list[str]) -> list[list[float]]:\n",
    "        \"\"\"Tạo embeddings cho danh sách các văn bản.\"\"\"\n",
    "        embeddings = []\n",
    "        for text in texts:\n",
    "            result = genai.embed_content(model=self.model, content=text)\n",
    "            embeddings.append(result[\"embedding\"])\n",
    "        return embeddings\n",
    "\n",
    "    def embed_query(self, text: str) -> list[float]:\n",
    "        \"\"\"Tạo embedding cho một câu truy vấn.\"\"\"\n",
    "        result = genai.embed_content(model=self.model, content=text)\n",
    "        return result[\"embedding\"]\n"
   ]
  },
  {
   "cell_type": "code",
   "execution_count": 69,
   "metadata": {},
   "outputs": [],
   "source": [
    "embedding_model = GenAIEmbeddings()"
   ]
  },
  {
   "cell_type": "code",
   "execution_count": null,
   "metadata": {},
   "outputs": [],
   "source": [
    "# embedding_model = HuggingFaceEmbeddings(model_name=\"VoVanPhuc/sup-SimCSE-VietNamese-phobert-base\")"
   ]
  },
  {
   "cell_type": "code",
   "execution_count": 71,
   "metadata": {},
   "outputs": [],
   "source": [
    "client = QdrantClient(url=url_qdrant, api_key=api_key_qdrant)\n",
    "\n",
    "# Khởi tạo vector store\n",
    "vector_store = Qdrant(\n",
    "    client=client,\n",
    "    collection_name=\"BKU\",\n",
    "    embeddings=embedding_model,  # Sử dụng GenAI embedding model\n",
    ")\n"
   ]
  },
  {
   "cell_type": "code",
   "execution_count": 74,
   "metadata": {},
   "outputs": [
    {
     "name": "stdout",
     "output_type": "stream",
     "text": [
      "Các công ty phát triển công nghệ năng lượng bền vững.\n",
      "\n",
      "Logistics & Quản lý chuỗi cung ứng\n",
      "\n",
      "Tổng quan\n",
      "\n",
      "Ngành Logistics & Quản lý chuỗi cung ứng tập trung vào việc điều phối và tối ưu hóa các hoạt động từ sản xuất đến phân phối sản phẩm. Sinh viên học ngành này sẽ được trang bị kiến thức về quản lý kho bãi, vận chuyển, logistics và tối ưu hóa chuỗi cung ứng trong các doanh nghiệp.\n",
      "\n",
      "CÁC ĐIỂM ĐẶC BIỆT\n",
      "\n",
      "Kỹ năng quản lý chuỗi cung ứng: Sinh viên học cách điều phối các hoạt động logistics trong các công ty sản xuất và thương mại.\n",
      "\n",
      "Ứng dụng công nghệ: Áp dụng các công nghệ quản lý chuỗi cung ứng hiện đại, như phần mềm quản lý kho và theo dõi vận chuyển.\n",
      "\n",
      "Triển vọng việc làm\n",
      "\n",
      "Các công ty logistics, vận tải, và phân phối hàng hóa.\n",
      "\n",
      "Doanh nghiệp sản xuất và bán lẻ cần tối ưu hóa chuỗi cung ứng.\n",
      "\n",
      "Các công ty cung cấp giải pháp công nghệ cho logistics.\n",
      "\n",
      "Kỹ thuật Hệ thống Công nghiệp\n",
      "\n",
      "Tổng quan\n",
      "-----------------------\n",
      "Các hoạt động học tập - nghiên cứu của sinh viên:\n",
      "\n",
      "Tham quan các công ty, nhà máy.\n",
      "\n",
      "Hoạt động trải nghiệm hè “Em là kỹ sư điện - điện tử tương lai” vô cùng mới lạ, hấp dẫn thu hút các bạn học sinh THCS, THPT.\n",
      "\n",
      "CÁC ĐIỂM ĐẶC BIỆT Ngành Kỹ thuật điều khiển và Tự động hóa dành cho các sinh viên có sở thích liên quan đến thiết kế, chế tạo thiết bị điều khiển và thiết kế, lập trình tự động hóa trong các hệ thống sản xuất công nghiệp. Chương trình đào tạo có tính liên ngành bao gồm các môn học cốt lõi cần thiết về kỹ thuật điều khiển, kỹ thuật điện – điện tử và kỹ thuật lập trình.\n",
      "\n",
      "Chương trình đào tạo được xây dựng theo hai hướng chuyên ngành Kỹ thuật điều khiển và Công nghệ tự động hóa, nhằm mục tiêu đào tạo những cử nhân có khả năng thiết kế bộ điều khiển cho máy móc công nghiệp, robot, xe tự hành; có khả năng áp dụng các công nghệ tự động hóa tiên tiến nhằm phục vụ sự nghiệp công nghiệp hóa và hiện đại hóa đất nước.\n",
      "-----------------------\n",
      "Cơ sở vật chất Các phòng thí nghiệm được trang bị hiện đại, được tài trợ từ các tập đoàn công nghiệp lớn như Siemens, Schneider Electric, Endress+Hauser, Rockwell Automation, Yaskawa,.. Trong đó, có các phòng thí nghiệm thực hành điển hình:\n",
      "\n",
      "Phòng thực hành robot Yaskawa\n",
      "\n",
      "Phòng thực hành tự động hóa IIOT Siemens\n",
      "\n",
      "Phòng nghiên cứu thiết kế phương tiện tự hành\n",
      "\n",
      "Phòng thí nghiệm cảm biến đo lường\n",
      "\n",
      "TRIỂN VỌNG NGHỀ NGHIỆP & CƠ HỘI VIỆC LÀM Vị trí việc làm Người học có cơ hội việc làm theo đúng chuyên ngành Điều khiển và Tự động hóa. Có cơ hội thăng tiến trong các công ty lớn, các tập đoàn đa quốc gia trong lĩnh vực sản xuất, tự động hóa.\n",
      "\n",
      "Quan hệ hợp tác & tuyển dụng Ngành Kỹ thuật Điều khiển và Tự động hóa có nhiều mối quan hệ hợp tác từ các tập đoàn đa quốc gia về lĩnh vực tự động hóa, các nhà máy sản xuất lớn, và các doanh nghiệp Cựu sinh viên.\n",
      "\n",
      "HỌC BỔNG\n",
      "-----------------------\n",
      "Thông tin tuyển sinh\n",
      "\n",
      "Website: http://dca.dee.hcmut.edu.vn/ Mã tuyển sinh: 108 (Chương trình tiêu chuẩn), 208 (Chương trình tiên tiến)\n",
      "\n",
      "TỔNG QUAN CHƯƠNG TRÌNH Ngành Kỹ thuật điều khiển và Tự động hóa dành cho các sinh viên có sở thích liên quan đến thiết kế, chế tạo thiết bị điều khiển và thiết kế, lập trình tự động hóa trong các hệ thống sản xuất công nghiệp. Chương trình đào tạo có tính liên ngành bao gồm các môn học cốt lõi cần thiết về kỹ thuật điều khiển, kỹ thuật điện – điện tử và kỹ thuật lập trình.\n",
      "\n",
      "Chương trình đào tạo được xây dựng theo hai hướng chuyên ngành Kỹ thuật điều khiển và Công nghệ tự động hóa, nhằm mục tiêu đào tạo những cử nhân có khả năng thiết kế bộ điều khiển cho máy móc công nghiệp, robot, xe tự hành; có khả năng áp dụng các công nghệ tự động hóa tiên tiến nhằm phục vụ sự nghiệp công nghiệp hóa và hiện đại hóa đất nước.\n",
      "\n",
      "Các hoạt động học tập - nghiên cứu của sinh viên:\n",
      "\n",
      "Tham quan các công ty, nhà máy.\n",
      "-----------------------\n",
      "Quản lý hợp đồng xây dựng: Sinh viên sẽ học cách soạn thảo, quản lý và điều hành các hợp đồng xây dựng, từ việc đàm phán với nhà thầu đến việc kiểm soát tiến độ và chất lượng công trình.\n",
      "\n",
      "Triển vọng việc làm\n",
      "\n",
      "Các công ty xây dựng, nhà thầu xây dựng và các công ty tư vấn về xây dựng.\n",
      "\n",
      "Các cơ quan, tổ chức quản lý nhà nước liên quan đến xây dựng, phát triển hạ tầng và đô thị.\n",
      "\n",
      "Các công ty tài chính, ngân hàng và các tổ chức cho vay đầu tư vào các dự án xây dựng.\n",
      "\n",
      "Các công ty cung cấp dịch vụ quản lý dự án và tư vấn xây dựng.\n",
      "\n",
      "KỸ THUẬT XÂY DỰNG CÔNG TRÌNH GIAO THÔNG\n",
      "\n",
      "Thông tin tuyển sinh:\n",
      "\n",
      "Website: http://www.dce.hcmut.edu.vn/\n",
      "\n",
      "Mã tuyển sinh: 115 (Chương trình tiêu chuẩn), 215 (Chương trình giảng dạy bằng tiếng Anh)\n",
      "\n",
      "Ngành Kỹ thuật Xây dựng Công trình Giao thông có 01 chuyên ngành : Cầu đường.\n",
      "\n",
      "KỸ THUẬT TRẮC ĐỊA – BẢN ĐỒ\n",
      "\n",
      "Website: http://www.dce.hcmut.edu.vn/\n",
      "\n",
      "Ngành Kỹ thuật Trắc địa – Bản đồ thuộc Khoa Kỹ thuật Xây dựng.\n",
      "\n",
      "TỔNG QUAN CHƯƠNG TRÌNH\n",
      "-----------------------\n"
     ]
    }
   ],
   "source": [
    "# Truy vấn với GenAI embedding\n",
    "query = \"Bách khoa là gì?\"\n",
    "query_embedding = embedding_model.embed_query(query)\n",
    "\n",
    "# Tìm kiếm tài liệu trong vector store\n",
    "docs = vector_store.similarity_search(query, k=5)\n",
    "\n",
    "# In nội dung tài liệu tìm được\n",
    "for doc in docs:\n",
    "    print(doc.page_content)\n",
    "    print(\"-----------------------\")\n"
   ]
  }
 ],
 "metadata": {
  "kernelspec": {
   "display_name": "torch",
   "language": "python",
   "name": "python3"
  },
  "language_info": {
   "codemirror_mode": {
    "name": "ipython",
    "version": 3
   },
   "file_extension": ".py",
   "mimetype": "text/x-python",
   "name": "python",
   "nbconvert_exporter": "python",
   "pygments_lexer": "ipython3",
   "version": "3.11.9"
  }
 },
 "nbformat": 4,
 "nbformat_minor": 2
}
